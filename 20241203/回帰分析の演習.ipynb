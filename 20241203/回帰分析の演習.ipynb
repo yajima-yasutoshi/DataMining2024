{
  "nbformat": 4,
  "nbformat_minor": 0,
  "metadata": {
    "colab": {
      "provenance": [],
      "toc_visible": true,
      "include_colab_link": true
    },
    "kernelspec": {
      "name": "python3",
      "display_name": "Python 3"
    },
    "language_info": {
      "name": "python"
    }
  },
  "cells": [
    {
      "cell_type": "markdown",
      "metadata": {
        "id": "view-in-github",
        "colab_type": "text"
      },
      "source": [
        "<a href=\"https://colab.research.google.com/github/yajima-yasutoshi/DataMining2024/blob/main/20241203/%E5%9B%9E%E5%B8%B0%E5%88%86%E6%9E%90%E3%81%AE%E6%BC%94%E7%BF%92.ipynb\" target=\"_parent\"><img src=\"https://colab.research.google.com/assets/colab-badge.svg\" alt=\"Open In Colab\"/></a>"
      ]
    },
    {
      "cell_type": "markdown",
      "source": [
        "#回帰分析の演習"
      ],
      "metadata": {
        "id": "Fhbf_8QKjfa3"
      }
    },
    {
      "cell_type": "markdown",
      "source": [
        "## 20241203"
      ],
      "metadata": {
        "id": "g8YJ3oojiqNa"
      }
    },
    {
      "cell_type": "markdown",
      "source": [
        "#本日の講義の目的\n",
        "\n",
        "回帰に関する講義内容を復習するための演習を行う。\n",
        "\n"
      ],
      "metadata": {
        "id": "wUezl4MyB_v3"
      }
    },
    {
      "cell_type": "markdown",
      "source": [
        "# 環境の準備"
      ],
      "metadata": {
        "id": "WwHGby-PdUNk"
      }
    },
    {
      "cell_type": "code",
      "source": [
        "# 日本語環境のインストール\n",
        "!pip install japanize-matplotlib\n",
        "\n",
        "#分析に必要なパッケージのインポート\n",
        "import numpy as np\n",
        "import pandas as pd\n",
        "import matplotlib.pyplot as plt\n",
        "import japanize_matplotlib\n",
        "import seaborn as sns\n"
      ],
      "metadata": {
        "id": "S814ueYW90y7"
      },
      "execution_count": null,
      "outputs": []
    },
    {
      "cell_type": "markdown",
      "source": [
        "# データの準備\n",
        "Kaggle のサイトで公開されている「USA_Housing」データを利用する。\n",
        "\n",
        "これは、アメリカの住宅価格のデータである。\n",
        "地域毎に住民の年収や築年数などの平均がデータとして格納されている。\n",
        "\n",
        "\n",
        "データの準備として以下のセルを実行する。\n"
      ],
      "metadata": {
        "id": "_DZ9oyFGA8h2"
      }
    },
    {
      "cell_type": "code",
      "source": [
        "# 読み込むファイルを指定する\n",
        "url = 'https://raw.githubusercontent.com/yajima-yasutoshi/shunan-u/refs/heads/main/data/USA_Housing.csv'\n",
        "df = pd.read_csv(url)"
      ],
      "metadata": {
        "id": "iTROe6g71lvP"
      },
      "execution_count": null,
      "outputs": []
    },
    {
      "cell_type": "markdown",
      "source": [
        "### データの概要\n",
        "\n",
        "項目名 | 説明\n",
        "-- | --\n",
        "Avg. Area Income | 年収\n",
        "Avg. Area House Age |  築年数\n",
        "Avg. Area Number of Rooms |  部屋数\n",
        "Avg. Area Number of Bedrooms |  寝室数\n",
        "Area Population  |  人口\n",
        "Price            |  住宅の価格\n",
        "Address           |     住所"
      ],
      "metadata": {
        "id": "a6qVWmty46Na"
      }
    },
    {
      "cell_type": "markdown",
      "source": [
        "# 演習課題\n",
        "\n",
        "上のデータを用いて、住宅価格（Price）を予測する回帰モデルを作成する。"
      ],
      "metadata": {
        "id": "eGEjo7BqiMZU"
      }
    },
    {
      "cell_type": "markdown",
      "source": [
        "## 基礎集計"
      ],
      "metadata": {
        "id": "0ZqQRToilOaq"
      }
    },
    {
      "cell_type": "markdown",
      "source": [
        "データをデータフレームに読み込んだ後に、まず以下を確認する。\n",
        "\n",
        "* レコード数\n",
        "* 項目数\n",
        "* 各項目の型\n",
        "* 欠損値の有無\n",
        "* 異常値（外れ値）の有無\n",
        "\n"
      ],
      "metadata": {
        "id": "OXkz6eDQhygD"
      }
    },
    {
      "cell_type": "code",
      "source": [],
      "metadata": {
        "id": "v4lj_ZJb2q9F"
      },
      "execution_count": null,
      "outputs": []
    },
    {
      "cell_type": "markdown",
      "source": [
        "各項目に対しては、平均、最大、最小など基本統計量を確認する。"
      ],
      "metadata": {
        "id": "tpuX5Wd9jIrp"
      }
    },
    {
      "cell_type": "code",
      "source": [],
      "metadata": {
        "id": "4zOjS6eih54Y"
      },
      "execution_count": null,
      "outputs": []
    },
    {
      "cell_type": "markdown",
      "source": [
        "ここでは、'Avg. Area Income'の外れ値のみ削除することとする。"
      ],
      "metadata": {
        "id": "Phwl9372cSU5"
      }
    },
    {
      "cell_type": "code",
      "source": [
        "# 削除対象のレコードのインデックスを取得\n",
        "indices_to_drop = df[df['Avg. Area Income'] < 20000].index\n",
        "\n",
        "# 指定したインデックスのレコードを削除\n",
        "# 以降のコードは各自で考えよ。\n"
      ],
      "metadata": {
        "id": "v-Nm1JwDcc7V"
      },
      "execution_count": null,
      "outputs": []
    },
    {
      "cell_type": "markdown",
      "source": [
        "Avg. Area Income と Price の関係を可視化するために散布図を描く。"
      ],
      "metadata": {
        "id": "MkftwNZjQXAp"
      }
    },
    {
      "cell_type": "code",
      "source": [],
      "metadata": {
        "id": "QBDKJOncQhUl"
      },
      "execution_count": null,
      "outputs": []
    },
    {
      "cell_type": "markdown",
      "source": [
        "## 回帰モデルの作成"
      ],
      "metadata": {
        "id": "qNHtWnVZk3jn"
      }
    },
    {
      "cell_type": "markdown",
      "source": [
        "必要なライブラリーのインポート\n"
      ],
      "metadata": {
        "id": "7y5LbXWinDw5"
      }
    },
    {
      "cell_type": "code",
      "source": [
        "from sklearn.model_selection import train_test_split\n",
        "from sklearn.linear_model import LinearRegression\n",
        "from sklearn.metrics import mean_squared_error\n",
        "from sklearn.metrics import r2_score"
      ],
      "metadata": {
        "id": "pdG1LMThnMed"
      },
      "execution_count": null,
      "outputs": []
    },
    {
      "cell_type": "markdown",
      "source": [
        "まず、説明変数に'Avg. Area House Age'のみを用いて、'Price' を予測する回帰モデルを構築する。\n",
        "ただし、学習用データとして全体の8割を用い、2割を評価用として用いる。\n",
        "\n",
        "データの分割には、以下のコードを用いる。"
      ],
      "metadata": {
        "id": "oV2pnTNhnx7O"
      }
    },
    {
      "cell_type": "code",
      "source": [
        "# 線形回帰モデルを作成し、データにフィットさせます。\n",
        "X = df[['Avg. Area House Age']]\n",
        "y = df['Price']\n",
        "\n",
        "# データを学習用と検証用に分割\n",
        "X_train, X_validate, y_train, y_validate = train_test_split(X, y, test_size=0.2, random_state=2)\n",
        "\n",
        "model = LinearRegression()\n",
        "model.fit(X_train, y_train)"
      ],
      "metadata": {
        "id": "lwqDhwYVTCiq"
      },
      "execution_count": null,
      "outputs": []
    },
    {
      "cell_type": "markdown",
      "source": [
        "検証用データを使い予測モデルの精度を決定係数を用いて確認する。"
      ],
      "metadata": {
        "id": "rleeTEdrVhg4"
      }
    },
    {
      "cell_type": "code",
      "source": [],
      "metadata": {
        "id": "WsNQyFRuGuKb"
      },
      "execution_count": null,
      "outputs": []
    },
    {
      "cell_type": "markdown",
      "source": [
        "次に、説明変数に以下の4つの項目\n",
        "* 'Avg. Area Income'\n",
        "* 'Avg. Area House Age'\n",
        "* 'Avg. Area Number of Rooms'\n",
        "* 'Area Population'\n",
        "\n",
        "を用いて、'Price' を予測する回帰モデルを構築し、予測精度を確認する。\n",
        "\n",
        "ただし、学習用データとして全体の8割を用い、2割を評価用として用いる。\n",
        "\n",
        "データの分割には、以下のコードを用いる。"
      ],
      "metadata": {
        "id": "hBJpoVhxuiDP"
      }
    },
    {
      "cell_type": "code",
      "source": [
        "# 説明変数と目的変数をセットする。\n",
        "X = df[\n",
        "    ['Avg. Area Income', 'Avg. Area House Age', 'Avg. Area Number of Rooms', 'Area Population'] ]\n",
        "y = df['Price']\n",
        "\n",
        "# データを学習用と検証用に分割\n",
        "X_train, X_validate, y_train, y_validate = train_test_split(X, y, test_size=0.2, random_state=2)"
      ],
      "metadata": {
        "id": "SWCzYWDHtmD6"
      },
      "execution_count": null,
      "outputs": []
    }
  ]
}