{
  "nbformat": 4,
  "nbformat_minor": 0,
  "metadata": {
    "colab": {
      "provenance": [],
      "collapsed_sections": [
        "JLCPTCMNJNLm"
      ],
      "toc_visible": true,
      "include_colab_link": true
    },
    "kernelspec": {
      "name": "python3",
      "display_name": "Python 3"
    },
    "language_info": {
      "name": "python"
    }
  },
  "cells": [
    {
      "cell_type": "markdown",
      "metadata": {
        "id": "view-in-github",
        "colab_type": "text"
      },
      "source": [
        "<a href=\"https://colab.research.google.com/github/yajima-yasutoshi/DataMining2024/blob/main/20241112/%E3%82%AF%E3%83%A9%E3%82%B9%E3%82%BF%E3%83%AA%E3%83%B3%E3%82%B0.ipynb\" target=\"_parent\"><img src=\"https://colab.research.google.com/assets/colab-badge.svg\" alt=\"Open In Colab\"/></a>"
      ]
    },
    {
      "cell_type": "markdown",
      "source": [
        "# クラスタリング"
      ],
      "metadata": {
        "id": "JLCPTCMNJNLm"
      }
    },
    {
      "cell_type": "markdown",
      "source": [
        "20241112\n",
        "\n",
        "https://github.com/yajima-yasutoshi/DataMining2024/tree/main/20241112\n",
        "\n"
      ],
      "metadata": {
        "id": "7UTs4pi_JRy_"
      }
    },
    {
      "cell_type": "markdown",
      "source": [
        "# この講義の目的\n",
        "\n",
        "Pythonを用いたクラスタリング手法の理解"
      ],
      "metadata": {
        "id": "wUezl4MyB_v3"
      }
    },
    {
      "cell_type": "markdown",
      "source": [
        "# 環境の準備\n",
        "\n",
        "まず初めに、日本語を表示するための準備と\n",
        "分析に必要なライブラリーのインポートを行うため、\n",
        "以下のセルを実行する。"
      ],
      "metadata": {
        "id": "8zFBC9q961jw"
      }
    },
    {
      "cell_type": "code",
      "source": [
        "# インストール\n",
        "!pip install japanize-matplotlib\n",
        "\n",
        "# 必要なライブラリのインポート\n",
        "import pandas as pd\n",
        "import numpy as np\n",
        "import matplotlib.pyplot as plt\n",
        "import japanize_matplotlib\n",
        "import seaborn as sns\n",
        "\n",
        "# Pandasの表示形式を小数点以下1桁にする\n",
        "pd.options.display.float_format = '{:.1f}'.format"
      ],
      "metadata": {
        "id": "g9TNYrU66eru"
      },
      "execution_count": null,
      "outputs": []
    },
    {
      "cell_type": "markdown",
      "source": [
        "# データの準備\n",
        "今回利用するデータを準備する。\n",
        "本日の講義資料が置かれたサイトから\n",
        "「利用回数.xlsx」というファイルをいったん各自のPCダウンロードし、\n",
        "そのファイルをGoogle Drive にアップロードをする。\n",
        "\n",
        "アップロードができたら、\n",
        "Google Colab の環境に Google Drive がマウントされていることと、\n",
        "さらに、\n",
        "このファイルが保存されていることを\n",
        "Google Colab の環境から確認する。\n"
      ],
      "metadata": {
        "id": "6DL-YSEBBJ2h"
      }
    },
    {
      "cell_type": "markdown",
      "source": [
        "以下のセルでは、Google Drive のマウント実行する。\n"
      ],
      "metadata": {
        "id": "I6rpANB-QE62"
      }
    },
    {
      "cell_type": "code",
      "source": [
        "# Google Drive のマウント\n",
        "from google.colab import drive\n",
        "drive.mount('/content/drive')"
      ],
      "metadata": {
        "id": "zGDyK0aGQhUQ"
      },
      "execution_count": null,
      "outputs": []
    },
    {
      "cell_type": "markdown",
      "source": [
        "保存したファイルをデータフレーム変数 df に読み込む。 なお、ファイルパスは、個人の環境に合わせて変更である。"
      ],
      "metadata": {
        "id": "27Ko8BApP6hy"
      }
    },
    {
      "cell_type": "code",
      "source": [
        "# 読み込むファイルを指定する\n",
        "file_path = '/content/drive/MyDrive/データ/利用回数.xlsx'\n",
        "df = pd.read_excel(file_path)"
      ],
      "metadata": {
        "id": "E650gU8OiZPS"
      },
      "execution_count": null,
      "outputs": []
    },
    {
      "cell_type": "markdown",
      "source": [
        "## データの確認"
      ],
      "metadata": {
        "id": "4eHEsIBakA6P"
      }
    },
    {
      "cell_type": "markdown",
      "source": [
        "info()\n",
        "を用いて、データの列に関する情報を出力します。"
      ],
      "metadata": {
        "id": "S48Es7YEqB2w"
      }
    },
    {
      "cell_type": "code",
      "source": [
        "df.info()"
      ],
      "metadata": {
        "id": "RUubs_1jBgqQ"
      },
      "execution_count": null,
      "outputs": []
    },
    {
      "cell_type": "markdown",
      "source": [
        "「利用回数.xlsx」には、顧客ID、年齢、利用回数\n",
        "という数値型の項目が 3 つあることが確認できます。\n",
        "\n",
        "また、head() を使ってデータの先頭を表示します。"
      ],
      "metadata": {
        "id": "XzSDdEWli606"
      }
    },
    {
      "cell_type": "code",
      "source": [
        "df.head()"
      ],
      "metadata": {
        "id": "S6ROb70wityo"
      },
      "execution_count": null,
      "outputs": []
    },
    {
      "cell_type": "markdown",
      "source": [
        "# クラスタリングとは"
      ],
      "metadata": {
        "id": "t5gAJm8O5W7-"
      }
    },
    {
      "cell_type": "markdown",
      "source": [
        "## 散布図による可視化\n",
        "\n",
        "年齢と利用回数の間の関係を可視化する。\n",
        "どちらも数値型の項目なので、\n",
        "**散布図**を使う。"
      ],
      "metadata": {
        "id": "CdpfIdUJ5qQw"
      }
    },
    {
      "cell_type": "code",
      "source": [
        "sns.scatterplot(x='年齢', y='利用回数', data=df)\n",
        "plt.grid(True)  # グリッド線を追加\n",
        "plt.title('散布図')\n",
        "plt.show()"
      ],
      "metadata": {
        "id": "lChaM9cHjFp9"
      },
      "execution_count": null,
      "outputs": []
    },
    {
      "cell_type": "markdown",
      "source": [
        "上の散布図から、全体の利用者は\n",
        " * 年齢が高く利用回数の多い利用者\n",
        " * 年齢が低く利用回数の多い利用者\n",
        " * 年齢が低く利用回数の少ない利用者\n",
        "\n",
        "に傾向が分かれていることが観察できる。\n",
        "\n",
        "傾向が似通っているレコード(この例では利用者)を似た性質のグループに分けて、\n",
        "全体をいくつかのまとまりとして理解する手法が\n",
        "**「クラスタリング」**である。\n",
        "\n",
        "スーパーやドラッグストア、コンビニなどの小売店などでは、\n",
        "顧客の属性（性別や年齢など）や\n",
        "購買行動（来店回数や利用回数、購買金額など）のデータを元にして、\n",
        "傾向が似ている顧客をいくつかのグループ（クラスター）に分類し、\n",
        "どのような顧客が良く利用しているのか、\n",
        "どのような商品を購入する顧客がいるのか、\n",
        "など、顧客の行動を理解することで販促や商品開発などを行っている。"
      ],
      "metadata": {
        "id": "v9yixNAB5zzo"
      }
    },
    {
      "cell_type": "markdown",
      "source": [
        "参考事例：\n",
        "https://www.nikkei.com/article/DGXZQOUC132X30T10C22A9000000/"
      ],
      "metadata": {
        "id": "boviUu5wxpyA"
      }
    },
    {
      "cell_type": "markdown",
      "source": [
        "# データを標準化する\n",
        "\n",
        " クラスタリングを実行する事前の準備として、\n",
        " データの**標準化**が必要である。\n",
        " 標準化とは、データの大きさを平均 0、分散 1 に変換することである。\n",
        "なお、分散の平方根が標準偏差となることから、\n",
        "分散が1となれば標準偏差も1になる。"
      ],
      "metadata": {
        "id": "1trcdk5dQ0gU"
      }
    },
    {
      "cell_type": "markdown",
      "source": [
        "アップロードしたデータの分布を確認する。\n",
        "年齢と利用回数の分布は以下のようである。"
      ],
      "metadata": {
        "id": "4U6R0yZGYQHr"
      }
    },
    {
      "cell_type": "code",
      "source": [
        "fig, (ax1, ax2) = plt.subplots( 1, 2 , figsize=(10,4))\n",
        "sns.histplot( df['年齢'], bins=10, kde=False, ax=ax1)\n",
        "sns.histplot( df['利用回数'], bins=10, kde=False, ax=ax2)\n",
        "plt.show()"
      ],
      "metadata": {
        "id": "HVq6-K2W1aVm"
      },
      "execution_count": null,
      "outputs": []
    },
    {
      "cell_type": "markdown",
      "source": [
        "上のグラフからも明らかなように、\n",
        "年齢と利用回数では値のばらつきの範囲が大きく異なっている。\n",
        "実際に分散を計算すると\n",
        "両者のばらつきが\n",
        "大きく異なっていることが確認できる。"
      ],
      "metadata": {
        "id": "s90J53w6ZuxV"
      }
    },
    {
      "cell_type": "code",
      "source": [
        "df['年齢'].var()"
      ],
      "metadata": {
        "id": "G68AeqxC3AlS"
      },
      "execution_count": null,
      "outputs": []
    },
    {
      "cell_type": "code",
      "source": [
        "df['利用回数'].var()"
      ],
      "metadata": {
        "id": "S25A3Qmj3MGa"
      },
      "execution_count": null,
      "outputs": []
    },
    {
      "cell_type": "markdown",
      "source": [
        "このように、項目によって数値の大きさや散らばりが異なる場合には、\n",
        "**標準化**が不可欠である。"
      ],
      "metadata": {
        "id": "x2FmDlsb7U2U"
      }
    },
    {
      "cell_type": "markdown",
      "source": [
        "## Pythonでの標準化の方法\n",
        "\n",
        "データ分析用のライブラリである sklearn には\n",
        "データを変換するたモジュールが用意されている。\n",
        "データの標準化には、\n",
        "StandardScaler() を用いる。\n",
        "\n",
        "インポートは以下のように行う。\n",
        "```\n",
        "sklearn.preprocessing import StandardScaler\n",
        "```\n",
        "\n",
        "\n",
        "StandardScaler は、以下の3つのステップで実行する。\n",
        "\n",
        "1. 準備：適当な名前で変数を用意\n",
        "2. 訓練（fit） ：変換に必要な情報（標準化の場合であれば、元のデータの平均と分散）の計算\n",
        "3. 変換（transform）：実際に変換を実施する\n"
      ],
      "metadata": {
        "id": "HU0SvWiXFKM9"
      }
    },
    {
      "cell_type": "code",
      "source": [
        "# 標準化に必要なライブラリーのインポート\n",
        "from sklearn.preprocessing import StandardScaler\n",
        "\n",
        "# 標準化の対象となる項目を変数 X にセットする\n",
        "X = df[['年齢', '利用回数']]\n",
        "\n",
        "# １．準備\n",
        "scaler = StandardScaler()\n",
        "\n",
        "# ２．訓練の実施\n",
        "scaler.fit(X)\n",
        "\n",
        "# ３．標準化の実施\n",
        "# 標準化後のデータを再びXにセットする\n",
        "X = scaler.transform(X)"
      ],
      "metadata": {
        "id": "_um17A_zmWCG"
      },
      "execution_count": null,
      "outputs": []
    },
    {
      "cell_type": "markdown",
      "source": [
        "変換に用いたパラメータ（平均や分散）を確認することもできる。\n",
        "\n",
        "\n",
        "*   平均：scaler.mean_\n",
        "*   分散：scaler.var_\n",
        "\n"
      ],
      "metadata": {
        "id": "npeiyPvJzopK"
      }
    },
    {
      "cell_type": "code",
      "source": [
        "scaler.mean_"
      ],
      "metadata": {
        "id": "G8vKkPhBzihe"
      },
      "execution_count": null,
      "outputs": []
    },
    {
      "cell_type": "code",
      "source": [
        "scaler.var_"
      ],
      "metadata": {
        "id": "myN4iKqIzxhY"
      },
      "execution_count": null,
      "outputs": []
    },
    {
      "cell_type": "markdown",
      "source": [
        "変数 X には2項目のデータ（年齢と利用回数）が格納されているので、\n",
        "項目ごとに平均と分散が表示される。"
      ],
      "metadata": {
        "id": "MgH47xAo0nB9"
      }
    },
    {
      "cell_type": "markdown",
      "source": [
        "## 可視化して確認する\n",
        "\n",
        "データの標準化が行われた様子を可視化して確認する。\n",
        "変換後の散布図では、\n",
        "縦軸と横軸の値のばらつきの範囲が等しいことが分かる。"
      ],
      "metadata": {
        "id": "mWZbDTGsaKA7"
      }
    },
    {
      "cell_type": "code",
      "source": [
        "# 標準化の確認\n",
        "X = pd.DataFrame( X, columns=['x1', 'x2'])\n",
        "\n",
        "fig, (ax1, ax2) = plt.subplots( 1, 2 , figsize=(10,4))\n",
        "\n",
        "ax1.set_title(\"変換前\")\n",
        "sns.scatterplot(data=df, x='年齢', y='利用回数', ax=ax1 )\n",
        "ax1.grid(True)  # グリッド線を追加\n",
        "\n",
        "ax2.set_title(\"変換後\")\n",
        "sns.scatterplot(data=X, x='x1', y='x2', ax=ax2)\n",
        "ax2.grid(True)  # グリッド線を追加\n",
        "\n",
        "plt.show()"
      ],
      "metadata": {
        "id": "YMfY61M1HN4G"
      },
      "execution_count": null,
      "outputs": []
    },
    {
      "cell_type": "markdown",
      "source": [
        "##数値で確認する\n",
        "\n",
        "変換後の平均と分散(標準偏差)を確認する。\n"
      ],
      "metadata": {
        "id": "UeHZYFYwnnSP"
      }
    },
    {
      "cell_type": "code",
      "source": [
        "X.describe()"
      ],
      "metadata": {
        "id": "K_z6rEka1EHR"
      },
      "execution_count": null,
      "outputs": []
    },
    {
      "cell_type": "markdown",
      "source": [
        "# クラスタリングの実行"
      ],
      "metadata": {
        "id": "vTR9Uh1hRW6B"
      }
    },
    {
      "cell_type": "markdown",
      "source": [
        "## K-means 法\n",
        "\n",
        "本講義では、クラスタリングを行う代表的な手法であるK-means法を扱う。\n",
        "\n",
        "データ分析ライブラリーの sklearn に含まれている **KMeans** を用いる。\n",
        "使い方は、\n",
        "\n",
        "\n",
        "1.   準備\n",
        "2.   計算（fit）\n",
        "\n",
        "の2ステップである。\n",
        "\n",
        "準備では、いくつかのパラメータを設定する。主なものは、\n",
        "*   n_clusters\n",
        "*   init\n",
        "*   max_iter\n",
        "*   n_init\n",
        "\n",
        "である。\n",
        "\n",
        "中でも、もっとも重要なパラメータは\n",
        "クラスタ数を指定する\n",
        "\n",
        "n_clusters\n",
        "\n",
        "である。\n",
        "\n",
        "\n",
        "\n",
        "詳しい使い方は以下のリンクを参照\n",
        "\n",
        "https://scikit-learn.org/stable/modules/generated/sklearn.cluster.KMeans.html\n"
      ],
      "metadata": {
        "id": "lzoQWo4E3XPl"
      }
    },
    {
      "cell_type": "markdown",
      "source": [
        "K-means法では、まずクラスタ数を決める必要がある。\n",
        "以下のコードでは、\n",
        "仮にクラスタ数を3として実行している。"
      ],
      "metadata": {
        "id": "HQbjJZs2cKZa"
      }
    },
    {
      "cell_type": "code",
      "source": [
        "# クラスタリングに必要なライブラリーのインポート\n",
        "from sklearn.cluster import KMeans\n",
        "\n",
        "# 仮にクラスタ数を3として実行する\n",
        "n = 3\n",
        "\n",
        "# １．準備\n",
        "kmeans = KMeans(n_clusters = n, init='k-means++', max_iter=500, n_init='auto')\n",
        "\n",
        "# ２．クラスタの計算\n",
        "kmeans.fit(X)"
      ],
      "metadata": {
        "id": "jJJmRUMqLmuP"
      },
      "execution_count": null,
      "outputs": []
    },
    {
      "cell_type": "code",
      "source": [
        "print(kmeans)"
      ],
      "metadata": {
        "id": "FTbLn0ll82mC"
      },
      "execution_count": null,
      "outputs": []
    },
    {
      "cell_type": "markdown",
      "source": [
        "#クラスタ結果の可視化"
      ],
      "metadata": {
        "id": "7LWY9OBVRLhH"
      }
    },
    {
      "cell_type": "markdown",
      "source": [
        "クラスタリングの結果は、\n",
        "kmeans.labels_ に格納されている。\n",
        "クラスタ数を 3 に設定したので、\n",
        "kmeans.labels_ には、0、1、2 のいずれかの数字が格納されている。\n",
        "\n",
        "結果を、元データのデータフレーム変数 df に追加することで、\n",
        "可視化が容易になる。\n",
        "以下のセルでは、\n",
        "クラスタリングの結果をデータフレームに 'cluster' という列で追加している。"
      ],
      "metadata": {
        "id": "w_ZsIEiiq9kQ"
      }
    },
    {
      "cell_type": "code",
      "source": [
        "# クラスタラベルをデータフレームに追加\n",
        "df['cluster'] = kmeans.labels_"
      ],
      "metadata": {
        "id": "uElN7zyyrJVo"
      },
      "execution_count": null,
      "outputs": []
    },
    {
      "cell_type": "code",
      "source": [
        "df.head()"
      ],
      "metadata": {
        "id": "tDvvaC0ppgCB"
      },
      "execution_count": null,
      "outputs": []
    },
    {
      "cell_type": "markdown",
      "source": [
        "年齢と利用回数の散布図を、クラスタで層別（色分け）して可視化する。"
      ],
      "metadata": {
        "id": "EbPrY4keuNEj"
      }
    },
    {
      "cell_type": "code",
      "source": [
        "# 結果の可視化（seabornを使用）\n",
        "sns.scatterplot(x='年齢', y='利用回数', hue='cluster', data=df, palette='Set1')\n",
        "plt.grid(True)  # グリッド線を追加\n",
        "plt.show()"
      ],
      "metadata": {
        "id": "BWpJXCB47zTe"
      },
      "execution_count": null,
      "outputs": []
    },
    {
      "cell_type": "markdown",
      "source": [
        "## クラスター平均\n",
        "\n",
        "クラスター毎にデータを平均した点をクラスター平均\n",
        "（クラスター重心）と呼ぶ。\n",
        "\n",
        "基礎集計で説明した groupby を使って計算する。\n",
        "すなわち、\n",
        "分類の項目を「cluster」とし、\n",
        "「年齢」と「利用回数」の項目の平均を計算する。"
      ],
      "metadata": {
        "id": "Blu9HcTGc-t-"
      }
    },
    {
      "cell_type": "code",
      "source": [
        "# クラスタで分類して年齢と利用回数の平均を求める\n",
        "# クラスタ中心と呼ぶ\n",
        "df.groupby('cluster')[['年齢','利用回数']].mean()"
      ],
      "metadata": {
        "id": "PxHAf9fDJCpb"
      },
      "execution_count": null,
      "outputs": []
    },
    {
      "cell_type": "markdown",
      "source": [
        "上で計算したクラスタ中心は、\n",
        "それぞれのクラスターを代表するデータと考えることができ、\n",
        "クラスターの特徴を解釈する際に利用する。\n",
        "\n",
        "例えば、クラスタ0は、\n",
        "年齢も高く利用回数も多い顧客の集まりだと解釈をする。\n",
        "\n",
        "また、各顧客はクラスタ中心の中で最も距離が短いクラスタに属すように\n",
        "決められている。\n",
        "\n",
        "\n",
        "クラスタ中心を●で可視化すると以下のようになる。"
      ],
      "metadata": {
        "id": "4_fDXCBIdSXB"
      }
    },
    {
      "cell_type": "code",
      "source": [
        "c = df.groupby('cluster')[['年齢','利用回数']].mean().reset_index()\n",
        "sns.scatterplot(x='年齢', y='利用回数', hue='cluster', data=df, palette='Set1')\n",
        "#sns.scatterplot(x='年齢', y='利用回数', data=c, color='k', s=100)\n",
        "sns.scatterplot(x='年齢', y='利用回数', data=c, s=100, hue='cluster', palette='Set1')\n",
        "plt.grid(True)  # グリッド線を追加\n",
        "plt.show()"
      ],
      "metadata": {
        "id": "3k3FPW4ttaag"
      },
      "execution_count": null,
      "outputs": []
    },
    {
      "cell_type": "markdown",
      "source": [
        "# クラスタ数の決定\n",
        "\n",
        "今までの例では、\n",
        "先にクラスタ数を決めてからクラスタリングを実行した。\n",
        "ここでは、クラスタ数はどのように決めればよいか説明する。"
      ],
      "metadata": {
        "id": "lbsn1Feu-6Q3"
      }
    },
    {
      "cell_type": "markdown",
      "source": [
        "## クラスタ内距離\n",
        "まず、計算されたクラスターに\n",
        "どの程度データがまとまっているかを表す指標に\n",
        "**クラスタ内距離**\n",
        "があります。\n",
        "\n",
        "これは、\n",
        "クラスタ毎にクラスタ中心から各データへの距離の二乗の和を計算したもので、\n",
        "クラスタ内距離が小さいほど、クラスタ中心にデータが集中していることを\n",
        "表します。\n",
        "\n",
        "上のプログラムを実行した場合には、\n",
        "kmeans.inertia_\n",
        "という変数に格納されている。"
      ],
      "metadata": {
        "id": "dgB0U5tHiIDd"
      }
    },
    {
      "cell_type": "code",
      "source": [
        "# クラスタ毎にクラスタ中心から各データへの距離の二乗の和\n",
        "kmeans.inertia_"
      ],
      "metadata": {
        "id": "V4JfxuKXW21V"
      },
      "execution_count": null,
      "outputs": []
    },
    {
      "cell_type": "markdown",
      "source": [
        "例えば、\n",
        "クラスタ数を 4 に変更してクラスタリングを実行し、\n",
        "クラスタ内距離を確認する。"
      ],
      "metadata": {
        "id": "AkU2R-wbdIEJ"
      }
    },
    {
      "cell_type": "code",
      "source": [
        "# クラスタ数を 4 にして実行する\n",
        "best_n_clusters = 4\n",
        "\n",
        "kmeans = KMeans(n_clusters=best_n_clusters, init='k-means++', max_iter=500, n_init='auto')\n",
        "kmeans.fit(X)\n",
        "df['cluster'] = kmeans.labels_\n",
        "\n",
        "# 図示する\n",
        "c = df.groupby('cluster')[['年齢','利用回数']].mean().reset_index()\n",
        "sns.scatterplot(x='年齢', y='利用回数', hue='cluster', data=df, palette='Set1')\n",
        "sns.scatterplot(x='年齢', y='利用回数', data=c, color='k', s=100)\n",
        "plt.grid(True)  # グリッド線を追加\n",
        "plt.show()"
      ],
      "metadata": {
        "id": "D8HgB6iwuZeW"
      },
      "execution_count": null,
      "outputs": []
    },
    {
      "cell_type": "code",
      "source": [
        "# クラスタ毎にクラスタ中心から各データへの距離の二乗の和\n",
        "kmeans.inertia_"
      ],
      "metadata": {
        "id": "JueAjTgru1qD"
      },
      "execution_count": null,
      "outputs": []
    },
    {
      "cell_type": "markdown",
      "source": [
        "クラスタ数が 3 の場合では、クラスタ内距離が約35であった。\n",
        "それと比べるとクラスタ内距離が減少することが確認できる。"
      ],
      "metadata": {
        "id": "1fXL8-HRCLax"
      }
    },
    {
      "cell_type": "markdown",
      "source": [
        "一般に、クラスタ数を増やすとクラスタ内距離を減少させることができるものの、\n",
        "一方で、同程度のクラスタ内距離であればクラスタ数が少なくシンプルなクラスタリングが良いとされる。"
      ],
      "metadata": {
        "id": "bRJKRBSk_frC"
      }
    },
    {
      "cell_type": "markdown",
      "source": [
        "## エルボー法\n",
        "\n",
        "クラスタ内距離とクラスタ数のバランスの良いものを\n",
        "決める方法として、エルボー法が使われる。\n",
        "\n",
        "クラスタ数を変化させながら、クラスタ中心からの距離の二乗の和を計算しグラフ化する。\n",
        "グラフの減少度合いが変化し始めるところを、最適なクラスター数として採用する。\n",
        "\n",
        "こういった作業はAIの開発では一般的で、**「ハイパーパラメータチューニング」**と呼ばれる。"
      ],
      "metadata": {
        "id": "sX87VFAg6vth"
      }
    },
    {
      "cell_type": "code",
      "source": [
        "# Elbow Methodによるハイパーパラメータチューニング\n",
        "inertia = []\n",
        "for i in range(1, 11):\n",
        "    kmeans = KMeans(n_clusters=i, init='k-means++', max_iter=300, n_init='auto')\n",
        "    kmeans.fit(X)\n",
        "    inertia.append(kmeans.inertia_)"
      ],
      "metadata": {
        "id": "Tb5Jdh7I7P4d"
      },
      "execution_count": null,
      "outputs": []
    },
    {
      "cell_type": "code",
      "source": [
        "# グリッド線を表示するスタイルに変更する\n",
        "sns.set_style('whitegrid')\n",
        "# sns.set_theme('paper')\n",
        "sns.set(font='IPAexGothic')\n",
        "\n",
        "# エルボー図のプロット\n",
        "elbow = pd.DataFrame( inertia, columns = ['Inertia'])\n",
        "elbow['Num of clusters'] = range(1,11)\n",
        "sns.lineplot(data = elbow, x='Num of clusters', y= 'Inertia')"
      ],
      "metadata": {
        "id": "Nh8AsjOYYvtK"
      },
      "execution_count": null,
      "outputs": []
    },
    {
      "cell_type": "markdown",
      "source": [
        "上のグラフから、クラスタ数が3のところで\n",
        "グラフの傾きが大きく変化しており、\n",
        "最適なクラスタ数は3であると判断する。"
      ],
      "metadata": {
        "id": "PThefoTueM2N"
      }
    },
    {
      "cell_type": "code",
      "source": [
        "# データをを変数 X にセットする\n",
        "X = df[ ['年齢', '利用回数']]\n",
        "\n",
        "# 準備の準備\n",
        "scaler = StandardScaler()\n",
        "\n",
        "# 標準化後のデータを再びXにセットする\n",
        "X = scaler.fit_transform(X)\n",
        "\n",
        "# クラスタ数を3として実行する\n",
        "best_n_clusters = 3\n",
        "\n",
        "# 準備\n",
        "kmeans = KMeans(n_clusters=best_n_clusters, init='k-means++', max_iter=500, n_init='auto')\n",
        "\n",
        "# クラスタの計算\n",
        "kmeans.fit(X)\n",
        "\n",
        "# クラスタラベルをデータフレームに追加\n",
        "df['cluster'] = kmeans.labels_\n",
        "\n",
        "# クラスタで分類して年齢と利用回数の平均を求める\n",
        "sns.set_style('whitegrid')\n",
        "sns.set(font='IPAexGothic')\n",
        "c = df.groupby('cluster')[['年齢','利用回数']].mean().reset_index()\n",
        "sns.scatterplot(x='年齢', y='利用回数', hue='cluster', data=df, palette='Set1')\n",
        "sns.scatterplot(x='年齢', y='利用回数', data=c, color='k', s=100)"
      ],
      "metadata": {
        "id": "xGsBBM5UfIjJ"
      },
      "execution_count": null,
      "outputs": []
    },
    {
      "cell_type": "markdown",
      "source": [
        "---\n",
        "---\n"
      ],
      "metadata": {
        "id": "zfYgTRRzsAtA"
      }
    },
    {
      "cell_type": "markdown",
      "source": [
        "#小テスト\n",
        "\n",
        "それでは、以上の内容の確認するための小テストに取組む。\n",
        "\n",
        "**講義の時間内に必ず提出すること**\n"
      ],
      "metadata": {
        "id": "2Z235LNtUbKw"
      }
    },
    {
      "cell_type": "markdown",
      "source": [
        "\n",
        "\n",
        "---\n",
        "\n",
        "\n",
        "\n",
        "---\n",
        "\n"
      ],
      "metadata": {
        "id": "kRRR8Fu5Uuap"
      }
    },
    {
      "cell_type": "markdown",
      "source": [
        "#次回の講義に向けて\n",
        "\n",
        "上で説明したクラスタリングを別のデータで実行する。\n",
        "\n",
        "用いるデータは「Wineデータ」と呼ばれるものである。\n",
        "\n",
        "簡単にWineデータに関して説明する。"
      ],
      "metadata": {
        "id": "NLu6IzGtQKHw"
      }
    },
    {
      "cell_type": "markdown",
      "source": [
        "## データの読み込み\n",
        "\n",
        "まず、Wineデータをデータフレームにセットするために\n",
        "以下のセルを実行する。\n",
        "wine_df という変数にセットされる。"
      ],
      "metadata": {
        "id": "6_3cg0OPRMDz"
      }
    },
    {
      "cell_type": "code",
      "source": [
        "from sklearn.datasets import load_wine\n",
        "# データの読み込み\n",
        "wine = load_wine()\n",
        "wine_df = pd.DataFrame(wine.data, columns=wine.feature_names)"
      ],
      "metadata": {
        "id": "T3rUNpTkRmtL"
      },
      "execution_count": null,
      "outputs": []
    },
    {
      "cell_type": "markdown",
      "source": [
        "## データの概要\n",
        "\n",
        "データの列を確認する。"
      ],
      "metadata": {
        "id": "xpk_xTaqRYU-"
      }
    },
    {
      "cell_type": "code",
      "source": [
        "wine_df.info()"
      ],
      "metadata": {
        "id": "poF1vlELR_AD"
      },
      "execution_count": null,
      "outputs": []
    },
    {
      "cell_type": "markdown",
      "source": [
        "Wineデータセットは、イタリアの同じ地域で栽培されたワインに\n",
        "含まれる成分を測定したデータで、全部で13項目ある。\n",
        "\n",
        "| 項目                          | 説明                                       |\n",
        "|---------------------------------|--------------------------------------------|\n",
        "| Alcohol（アルコール）           | ワインに含まれるアルコールの量。           |\n",
        "| Malic Acid（リンゴ酸）          | ワインに含まれるリンゴ酸の量。             |\n",
        "| Ash（灰分）                     | ワインの灰分の量。                         |\n",
        "| Alcalinity of Ash（灰分のアルカリ度） | 灰分のアルカリ度。                   |\n",
        "| Magnesium（マグネシウム）       | ワインに含まれるマグネシウムの量。         |\n",
        "| Total Phenols（総フェノール）   | ワインに含まれるフェノール類の総量。       |\n",
        "| Flavanoids（フラバノイド）      | ワインに含まれるフラバノイドの量。         |\n",
        "| Nonflavanoid Phenols（非フラバノイドフェノール） | ワインに含まれる非フラバノイドフェノールの量。 |\n",
        "| Proanthocyanins（プロアントシアニン） | ワインに含まれるプロアントシアニンの量。 |\n",
        "| Color Intensity（色の強度）     | ワインの色の強度。                         |\n",
        "| Hue（色相）                     | ワインの色相。                             |\n",
        "| OD280/OD315 of Diluted Wines（希釈ワインのOD280/OD315） | 希釈されたワインのOD280/OD315の比率。 |\n",
        "| Proline（プロリン）             | ワインに含まれるプロリンの量。             |"
      ],
      "metadata": {
        "id": "dLKZsXKXRmtL"
      }
    },
    {
      "cell_type": "markdown",
      "source": [
        "分析を簡単にするため以下の処理を実行し\n",
        "項目を限定する。\n"
      ],
      "metadata": {
        "id": "4vceJk9QURQj"
      }
    },
    {
      "cell_type": "code",
      "source": [
        "wine_df = pd.DataFrame(wine.data, columns=wine.feature_names)\n",
        "# 相関行列を計算\n",
        "correlation_matrix = wine_df.corr().abs()\n",
        "# sns.heatmap(correlation_matrix, cmap= sns.color_palette('coolwarm', 10), annot=True,fmt='.2f', vmin = -1, vmax = 1)\n",
        "\n",
        "# 相関が0.6以上の変数を取得\n",
        "high_corr_var = {}\n",
        "for i in range(len(correlation_matrix.columns)):\n",
        "    for j in range(i):\n",
        "        if abs(correlation_matrix.iloc[i, j]) >= 0.5:\n",
        "            colname = correlation_matrix.columns[i]\n",
        "            high_corr_var[colname] = abs(correlation_matrix.iloc[i, j])\n",
        "\n",
        "# 相関性の高い変数を削除\n",
        "wine_df.drop(columns=high_corr_var.keys(), inplace=True)\n",
        "\n",
        "# 結果の表示\n",
        "# print(\"Remaining columns after removing highly correlated variables:\")\n",
        "print(wine_df.columns)\n",
        "wine_df.info()"
      ],
      "metadata": {
        "id": "J4OtrtNsRmtM"
      },
      "execution_count": null,
      "outputs": []
    },
    {
      "cell_type": "markdown",
      "source": [
        "## 次回の講義までの課題\n",
        "\n",
        "データフレーム wine_df に対して\n",
        "クラスタリングを実行する。\n",
        "\n",
        "できるだけ講義時間内で行う。\n"
      ],
      "metadata": {
        "id": "jWbcaCjySc1a"
      }
    }
  ]
}