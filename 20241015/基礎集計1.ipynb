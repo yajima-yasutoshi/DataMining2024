{
  "nbformat": 4,
  "nbformat_minor": 0,
  "metadata": {
    "colab": {
      "provenance": [],
      "collapsed_sections": [
        "mAt7NlnQAheK"
      ],
      "toc_visible": true,
      "mount_file_id": "1IE3ZHyiVva5HQM6n-AIUNJS57jlimccq",
      "authorship_tag": "ABX9TyPF4h6NFgKDTErjA2iHWdFH",
      "include_colab_link": true
    },
    "kernelspec": {
      "name": "python3",
      "display_name": "Python 3"
    },
    "language_info": {
      "name": "python"
    }
  },
  "cells": [
    {
      "cell_type": "markdown",
      "metadata": {
        "id": "view-in-github",
        "colab_type": "text"
      },
      "source": [
        "<a href=\"https://colab.research.google.com/github/yajima-yasutoshi/DataMining2024/blob/main/20241015/%E5%9F%BA%E7%A4%8E%E9%9B%86%E8%A8%881.ipynb\" target=\"_parent\"><img src=\"https://colab.research.google.com/assets/colab-badge.svg\" alt=\"Open In Colab\"/></a>"
      ]
    },
    {
      "cell_type": "markdown",
      "source": [
        "# データマイニング第3回（20241015）"
      ],
      "metadata": {
        "id": "g8YJ3oojiqNa"
      }
    },
    {
      "cell_type": "markdown",
      "source": [
        "#本日の講義の目的\n",
        "\n",
        "\n",
        "*   データ分析の流れの理解\n",
        "*   データの前処理方法の理解\n",
        "  * データのアップロード\n",
        "  * データの理解\n",
        "  * 前処理\n",
        "\n"
      ],
      "metadata": {
        "id": "wUezl4MyB_v3"
      }
    },
    {
      "cell_type": "markdown",
      "source": [
        "# 本日の講義の資料\n",
        "\n",
        "本日の資料の保管場所\n",
        "\n",
        "https://github.com/yajima-yasutoshi/DataMining2024/tree/main/20241015"
      ],
      "metadata": {
        "id": "xtSHx8-Xwvzl"
      }
    },
    {
      "cell_type": "markdown",
      "source": [
        "#データ分析の流れ\n",
        "\n",
        "データ分析の基本的なステップは以下の通り。\n",
        "1. 目的設定\n",
        "1. データ収集\n",
        "1. **データ前処理**\n",
        "1. **データ探索**\n",
        "1. **モデル構築**\n",
        "1. レポート\n",
        "\n",
        "この講義では、主に\n",
        "3. から 5. の部分の知識や技術を身に着けることになる。\n",
        "\n",
        "\n"
      ],
      "metadata": {
        "id": "fWw7KjRQVEFk"
      }
    },
    {
      "cell_type": "markdown",
      "source": [
        "# 環境を使うための準備\n",
        "日本語を表示するための準備、\n",
        "および、データ分析で共通で用いる\n",
        "以下のPythonライブラリー（モジュール）\n",
        "の読み込みを施します。\n",
        "\n",
        "\n",
        "*   numpy：数値計算\n",
        "*   pandas：主にデータ加工\n",
        "*   matplotlib：グラフを作成\n",
        "*   japanize_matplotlib：日本語を表示\n",
        "*   seaborn：グラフ作成\n",
        "\n"
      ],
      "metadata": {
        "id": "IPTN-WrP7iux"
      }
    },
    {
      "cell_type": "code",
      "source": [
        "# グラフ等で日本語を表示するために必要な操作\n",
        "!pip install japanize-matplotlib"
      ],
      "metadata": {
        "id": "TXJ4eLnaaS74"
      },
      "execution_count": null,
      "outputs": []
    },
    {
      "cell_type": "markdown",
      "source": [
        "モジュールを使うための命令文\n",
        "\n",
        "モジュール名が長い場合、以下のように  「as ○○」とすることで短縮できる。\n",
        "短縮名は自由に変更が可能。\n",
        "\n",
        "```\n",
        "import モジュール名 as 短縮名\n",
        "```"
      ],
      "metadata": {
        "id": "hp66wOlGq3_n"
      }
    },
    {
      "cell_type": "code",
      "execution_count": null,
      "metadata": {
        "id": "rV9mAe6M6wQX"
      },
      "outputs": [],
      "source": [
        "# データ分析で必要となるモジュールの読み込み\n",
        "import numpy as np\n",
        "import pandas as pd\n",
        "import matplotlib.pyplot as plt\n",
        "import japanize_matplotlib\n",
        "import seaborn as sns"
      ]
    },
    {
      "cell_type": "markdown",
      "source": [
        "# データのファイルからの読み込み\n",
        "パソコン上のエクセルファイルを Google Drive にアップロードして、Pythonプログラムで読み込んでみる。"
      ],
      "metadata": {
        "id": "dargn5jLaHHl"
      }
    },
    {
      "cell_type": "markdown",
      "source": [
        "## エクセルファイルのPCへのダウンロード\n",
        "\n",
        "講義で使うデータを、\n",
        "以下に示したサイトからPCにダウンロードする。\n",
        "\n",
        "https://github.com/yajima-yasutoshi/DataMining2024/tree/main/20241015\n",
        "\n",
        "にアクセスし、\n",
        "エクセルファイル（customer_data.xlsx）を各自のPCにダウンロードする。\n"
      ],
      "metadata": {
        "id": "iqV7FHc96kx2"
      }
    },
    {
      "cell_type": "markdown",
      "source": [
        "## ファイルのGoogle Drive へのアップロード\n",
        "1. Google Drive にアクセス\n",
        "  \n",
        "  右のリンクをクリックすればよい https://drive.google.com/drive/my-drive\n",
        "\n",
        "2. Google Drive 上で適当なフォルダーを作成\n",
        "3. PCのファイルをドラッグ＆ドロップでアップロード、  \n",
        "あるいは、Google Driveで右クリックでメニューを開き、ファイルのアップロードを選択してもアップロードが可能である。\n",
        "\n",
        "## Colabで操作\n",
        "\n",
        "### Googleドライブのマウント\n",
        "1. Colabにて、左端のフォルダーのアイコンをクリックし、ファイルメニューを開く。\n",
        "\n",
        "1. マウントアイコンをクリックし Google Driveをマウントする。\n",
        "\n",
        "1. drive の中の「MyDrive」が Google Drive のマイドライブとなる。\n",
        "\n",
        "1. PCからアップロードしたエクセルファイル（customer_data.xlsx）が\n",
        "存在することを確認する。\n",
        "\n",
        "\n",
        "### ファイルパスのコピーとペースト\n",
        "1. Driveメニューで目的のファイルにマウスを合わせ、ファイル名の右にある縦3つの「・」部分をクリックして「パスをコピー」を選択する。\n",
        "\n",
        "1. 以下のPythonコードの 4行目の\n",
        "シングルクォーテーションの中を先ほどコピーしたパスに変更する。ctrl+v でペーストされる。"
      ],
      "metadata": {
        "id": "ALpz2K-GYwzo"
      }
    },
    {
      "cell_type": "markdown",
      "source": [
        "## ファイルを読み込むための Pythonプログラム\n",
        "\n",
        "エクセルファイルをPython環境に読み込むためには、\n",
        "Pandas の read_excel()というメソッド（関数）を使う。\n",
        "\n",
        "以下の例では、変数 data に格納される。\n",
        "data という変数名は自由に変更が可能である。\n",
        "\n",
        "変数 data は、**データフレーム**と呼ばれる。\n"
      ],
      "metadata": {
        "id": "IkrtcYWCl7HE"
      }
    },
    {
      "cell_type": "code",
      "source": [
        "# 読み込むファイルを指定する\n",
        "# ファイルパスは、シングルクオーテーションで囲む必要がある。\n",
        "\n",
        "file_path = '/content/drive/MyDrive/周南公立大学/講義/データマイニング/データ/customer_data.xlsx'\n",
        "\n",
        "# ファイルのデータを data という変数に読み込む\n",
        "# 上で「import pandas as pd」としたことを確認。\n",
        "data = pd.read_excel(file_path)"
      ],
      "metadata": {
        "id": "ySt6i_RuGmgS"
      },
      "execution_count": null,
      "outputs": []
    },
    {
      "cell_type": "markdown",
      "source": [
        "上で実行したように、\n",
        "```\n",
        "import pandas as pd\n",
        "```\n",
        "**pd** という省略名を付与しているので\n",
        "\n",
        "\n",
        "```\n",
        "pd.read_excel(file_path)\n",
        "```\n",
        "としていることに注意する。"
      ],
      "metadata": {
        "id": "oJUk_FdprCqc"
      }
    },
    {
      "cell_type": "markdown",
      "source": [
        "変数 data に格納したデータは様々に処理が可能。\n",
        "例えば、先頭のデータの表示ができる。\n"
      ],
      "metadata": {
        "id": "h1t5TjFZC4um"
      }
    },
    {
      "cell_type": "code",
      "source": [
        "# 先頭部分のデータを表示\n",
        "data.head()"
      ],
      "metadata": {
        "id": "AhBbR54iDw16"
      },
      "execution_count": null,
      "outputs": []
    },
    {
      "cell_type": "markdown",
      "source": [
        "金額列の**合計**を計算するためには以下のようにする。\n",
        "列名は\n",
        "```\n",
        "'金額'\n",
        "```\n",
        "のようにシングルクートで囲む必要がある。\n"
      ],
      "metadata": {
        "id": "EiC2fe9FZ7EQ"
      }
    },
    {
      "cell_type": "code",
      "source": [
        "data['金額'].sum()"
      ],
      "metadata": {
        "id": "dZObZWJOZHil"
      },
      "execution_count": null,
      "outputs": []
    },
    {
      "cell_type": "markdown",
      "source": [
        "平均であれば、以下のようにすればよい。"
      ],
      "metadata": {
        "id": "LJOu0Zb8aKv4"
      }
    },
    {
      "cell_type": "code",
      "source": [
        "data['金額'].mean()"
      ],
      "metadata": {
        "id": "uK4ILHKIZspl"
      },
      "execution_count": null,
      "outputs": []
    },
    {
      "cell_type": "markdown",
      "source": [
        "# 本日の講義で使うデータの説明"
      ],
      "metadata": {
        "id": "hzx6m3x8n9Nd"
      }
    },
    {
      "cell_type": "markdown",
      "source": [
        "以下に示したサイト\n",
        "\n",
        "https://github.com/yajima-yasutoshi/DataMining2024/tree/main/20241015\n",
        "\n",
        "からダウンロードしたエクセルファイルには以下のようなデータが格納されている\n"
      ],
      "metadata": {
        "id": "p9PmCg4E75Et"
      }
    },
    {
      "cell_type": "markdown",
      "source": [
        "データの定義 (各列の説明)\n",
        "\n",
        "\n",
        "列名 | 型 | 説明\n",
        "--   | -- | --\n",
        "顧客ID | 数値（整数） |\n",
        "性別\t | カテゴリ型 |\n",
        "年齢\t | 数値（整数）|\n",
        "職業\t | カテゴリ型|\n",
        "年収\t | 数値（整数）|\n",
        "スマホの所有\t| カテゴリ型 |\n",
        "スマホ利用時間\t| 数値（実数）| 1日の平均使用時間\n",
        "Aの利用回数\t|  数値（整数）|\n",
        "Bの利用回数 |  数値（整数） |\n"
      ],
      "metadata": {
        "id": "4C4u1s2uoJQp"
      }
    },
    {
      "cell_type": "markdown",
      "source": [
        "# データを表示\n",
        "変数に読み込んデータの内容を表示させる。\n",
        "\n"
      ],
      "metadata": {
        "id": "N9DLRD3dZWwc"
      }
    },
    {
      "cell_type": "code",
      "source": [
        "# データの最初の10行を表示する\n",
        "data.head(10)"
      ],
      "metadata": {
        "id": "Dj_AjG6wG-y6"
      },
      "execution_count": null,
      "outputs": []
    },
    {
      "cell_type": "markdown",
      "source": [
        "NaNと表示されているのは数値が入力されいないという意味で,\n",
        " **欠損値**\n",
        " と呼ぶ。\n"
      ],
      "metadata": {
        "id": "0jkJxTu907pz"
      }
    },
    {
      "cell_type": "code",
      "source": [
        "# 最後の 5 行を表示する\n",
        "data.tail()"
      ],
      "metadata": {
        "id": "dr6M8wEZ7vO1"
      },
      "execution_count": null,
      "outputs": []
    },
    {
      "cell_type": "markdown",
      "source": [
        "# レコード（行）数と、項目（列）数を表示"
      ],
      "metadata": {
        "id": "2Qd9OLCNnlwK"
      }
    },
    {
      "cell_type": "code",
      "source": [
        "# data 変数のレコード数と項目数をタプルとして取得する。最初の要素が行数、次の要素が列数である。\n",
        "data.shape"
      ],
      "metadata": {
        "id": "6WPtHYI09r95"
      },
      "execution_count": null,
      "outputs": []
    },
    {
      "cell_type": "markdown",
      "source": [
        "#データの概要を確認する\n",
        "\n",
        "まず、データの概要として以下を確認する。\n",
        "\n",
        "*   レコード数\n",
        "*   項目数\n",
        "*   各項目の属性\n",
        "  * 数値型：int64, float64\n",
        "  * カテゴリ型：object\n",
        "\n",
        "> 参考：https://pandas.pydata.org/docs/user_guide/basics.html#dtypes\n",
        "\n",
        "\n",
        "以下の命令を使い、概要が確認できる。\n",
        "```\n",
        "data.info()\n",
        "```\n",
        "\n"
      ],
      "metadata": {
        "id": "q3ND_vu2YntZ"
      }
    },
    {
      "cell_type": "code",
      "source": [
        "#データの全体概要を表示\n",
        "data.info()"
      ],
      "metadata": {
        "id": "2UCphamJbWLC"
      },
      "execution_count": null,
      "outputs": []
    },
    {
      "cell_type": "markdown",
      "source": [
        "---\n",
        "---\n",
        "---\n",
        "\n"
      ],
      "metadata": {
        "id": "rRa2FsIDrKjj"
      }
    },
    {
      "cell_type": "markdown",
      "source": [
        "#データ分析とは\n",
        "\n",
        "データ分析とは、分析の対象をデータを通じて理解することである。\n",
        "ここでいう対象とは、例えば\n",
        "\n",
        "\n",
        "*   顧客の行動\n",
        "*   社会現象\n",
        "*   生物（生命）現象\n",
        "*   物理現象\n",
        "\n",
        "などである。また、データを取得することを**観測**と呼ぶ。\n",
        "\n",
        "\n"
      ],
      "metadata": {
        "id": "VveHJhbmrQH7"
      }
    },
    {
      "cell_type": "markdown",
      "source": [
        "# 記述統計量\n",
        "\n",
        "データの特徴を表す量のことを\n",
        "**記述統計量**と呼ぶ。\n",
        "\n",
        "数値型の列に対しては、統計量として以下のものが良く用いられる。\n",
        "* データ個数\n",
        "* 平均\n",
        "* 分散、標準偏差\n",
        "* 最小値、最大値\n",
        "* 第一四分位数\n",
        "* 第二四分位数\n",
        "* 第三四分位数\n",
        "\n",
        "また、カテゴリ型のデータに対しては、以下のものがある。\n",
        "* データ個数\n",
        "* ユニーク数\n",
        "* 最頻値\n",
        "* 最頻値のデータ数"
      ],
      "metadata": {
        "id": "TsHRGU7EvmOx"
      }
    },
    {
      "cell_type": "markdown",
      "source": [
        "### 平均\n",
        "**平均**はデータ全体を代表するもっとも基本的な記述統計量である。"
      ],
      "metadata": {
        "id": "ZdtC0XZGoMp-"
      }
    },
    {
      "cell_type": "markdown",
      "source": [
        "### 中央値\n",
        "平均によく似た統計量として\n",
        "**中央値**がある。\n",
        "これは、データを小さい順に並べたときに\n",
        "真ん中にくる数値のことである。\n",
        "年収など極端に大きい（小さい）数値が含まれるデータの場合では、\n",
        "平均値は全体の傾向を表さなくなってしまうことがある。\n"
      ],
      "metadata": {
        "id": "xpmvLJx6zRlK"
      }
    },
    {
      "cell_type": "markdown",
      "source": [
        "### パーセンタイル\n",
        "中央値は小さい順に並べた場合の真ん中、\n",
        "すなわち全体の**50%**の場所の数値であることから\n",
        "**50パーセンタイル**と呼ばれる。\n",
        "\n",
        "小さい順に並べた際の25パーセントや\n",
        "75パーセントの場所の数値もよく用いられられ、\n",
        "25パーセンタイル、50パーセンタイル、75パーセンタイルは、それぞれ\n",
        "**第一四分位点**、\n",
        "**第二四分位点**、\n",
        "**第三四分位点**\n",
        "と呼ばれる。\n"
      ],
      "metadata": {
        "id": "2hvF9CI2xjvk"
      }
    },
    {
      "cell_type": "markdown",
      "source": [
        "### 分散（標準偏差）\n",
        "平均値と並んで代表的な記述統計量として**分散**がある。\n",
        "分散（標準偏差）により、データのばらつきの程度を把握することができる。\n",
        "分散の平方根が標準偏差である。\n"
      ],
      "metadata": {
        "id": "8vLSXoV2LC_h"
      }
    },
    {
      "cell_type": "markdown",
      "source": [
        "## カテゴリ型の変数に対する統計量\n",
        "\n",
        "性別などカテゴリ型のデータでは、以下の統計量が基本である。\n",
        "*   ユニーク数：カテゴリ値の種類の数。\n",
        "性別の項目の場合は、カテゴリ値が「男性」「女性」なので、\n",
        "ユニーク数は2である。\n",
        "\n",
        "*   最頻値：最もデータ数の多いカテゴリ値\n",
        "\n"
      ],
      "metadata": {
        "id": "-twpJ_oGuBNI"
      }
    },
    {
      "cell_type": "markdown",
      "source": [
        "\n",
        "---"
      ],
      "metadata": {
        "id": "paojMSRKE-5L"
      }
    },
    {
      "cell_type": "markdown",
      "source": [
        "# Pandas を使った統計量の確認\n",
        "\n",
        "Pandasを使うことで、記述統計量を求めることが可能である。"
      ],
      "metadata": {
        "id": "PFCsOnEfv5X3"
      }
    },
    {
      "cell_type": "code",
      "source": [
        "#@title 数値型の変数に対する統計量の表示\n",
        "data.describe()"
      ],
      "metadata": {
        "id": "AC4rvGa6leXN"
      },
      "execution_count": null,
      "outputs": []
    },
    {
      "cell_type": "markdown",
      "source": [
        "カテゴリ型の変数の基本的な統計量としては、\n",
        "ユニーク数および最頻値があげられる。"
      ],
      "metadata": {
        "id": "_JJbZMlaEzhS"
      }
    },
    {
      "cell_type": "code",
      "source": [
        "#@title カテゴリ型の変数に関する統計量の表示\n",
        "data.describe(include='object')"
      ],
      "metadata": {
        "id": "gv9pM4QnM-Kq"
      },
      "execution_count": null,
      "outputs": []
    },
    {
      "cell_type": "markdown",
      "source": [
        "「性別」の場合には、男性、女性の2つのカテゴリ値があるので、unique 数は2となる。\n",
        "\n",
        "top は、最も多いカテゴリ値は「男性」で\n",
        "freq でそのレコード数が350レコードあることを示している。"
      ],
      "metadata": {
        "id": "9okBTntofY8o"
      }
    },
    {
      "cell_type": "markdown",
      "source": [
        "### 項目ごとに関数を使って平均などの統計量を算出できる。\n",
        "\n",
        "主な関数には以下のものが使える。\n",
        "\n",
        "関数  | 意味\n",
        "--    |   --\n",
        "sum()    | 合計\n",
        "mean()   | 平均\n",
        "var()    | 分散\n",
        "std()    | 標準偏差\n",
        "median() | 中央値\n",
        "min()    | 最小値\n",
        "max()    | 最大値\n",
        "quantile(0.25)  | 四分位点、0.25 とすると小さな方から並べた場合の、25%の位置のデータとなる\n",
        "unique() | カテゴリ値の確認"
      ],
      "metadata": {
        "id": "RApceJqVs69c"
      }
    },
    {
      "cell_type": "code",
      "source": [
        "# 年収の平均値\n",
        "data['年収'].mean()"
      ],
      "metadata": {
        "id": "7xWL4p3psoGF"
      },
      "execution_count": null,
      "outputs": []
    },
    {
      "cell_type": "code",
      "source": [
        "# 年収の四分位点\n",
        "data['年収'].quantile(0.25)"
      ],
      "metadata": {
        "id": "6lcGbFJ7uBBk"
      },
      "execution_count": null,
      "outputs": []
    },
    {
      "cell_type": "markdown",
      "source": [
        "**5パーセンタイル**や\n",
        "**95パーセンタイル**は、\n",
        "極端に大きな値や小さな値を除外した場合の最小値や最大値として扱われる場合がある。\n",
        "一般に、極端に大きな（小さな）値が含まれる場合には、単純な最大や最小と比べ頑健な指標と考えられる。"
      ],
      "metadata": {
        "id": "1TzCMZLdn7KK"
      }
    },
    {
      "cell_type": "markdown",
      "source": [
        "職業の unique 数は4である。\n",
        "unique() 関数でカテゴリ値が確認できる。"
      ],
      "metadata": {
        "id": "J8_5onHdFXe_"
      }
    },
    {
      "cell_type": "code",
      "source": [
        "#カテゴリ値を確認する\n",
        "data['職業'].unique()"
      ],
      "metadata": {
        "id": "aT73itja136v"
      },
      "execution_count": null,
      "outputs": []
    },
    {
      "cell_type": "markdown",
      "source": [
        "\n",
        "\n",
        "---\n",
        "\n"
      ],
      "metadata": {
        "id": "19avsKuS5b89"
      }
    },
    {
      "cell_type": "markdown",
      "source": [
        "# データクレンジング\n",
        "\n",
        "実務上は、分析に用いるデータが正しく記録されていない場合も多い。\n",
        "今回用意したエクセルファイルには、数値が記録されていないセルを含んでいる。\n",
        "\n",
        "データ分析から正しい結果を得るために、まず初めにデータを\n",
        "**きれいに**\n",
        "整える必要があり、\n",
        "この過程を**クレンジング**と呼ぶ。\n",
        "\n",
        "クレンジングの代表的な処理には\n",
        "\n",
        "\n",
        "*   欠損値の処理\n",
        "*   異常値の処理\n",
        "*   重複行の処理\n",
        "\n",
        "がある。\n",
        "\n"
      ],
      "metadata": {
        "id": "CreP1jSacq8r"
      }
    },
    {
      "cell_type": "markdown",
      "source": [
        "## 欠損値の処理\n",
        "\n",
        "データが記録されていない部分を**欠損値**と呼ぶ。"
      ],
      "metadata": {
        "id": "_cSLaGurlzM9"
      }
    },
    {
      "cell_type": "markdown",
      "source": [
        "### 欠損値の確認"
      ],
      "metadata": {
        "id": "1iXXCy434FGc"
      }
    },
    {
      "cell_type": "code",
      "source": [
        "# 欠損値の個数を調べる\n",
        "# data という変数に読み込む\n",
        "data = pd.read_excel(file_path)\n",
        "data.isnull().sum()"
      ],
      "metadata": {
        "id": "9_4PV8_1clHj"
      },
      "execution_count": null,
      "outputs": []
    },
    {
      "cell_type": "markdown",
      "source": [
        "### 欠損値のあるレコードを削除"
      ],
      "metadata": {
        "id": "_3y2D5sAAUsv"
      }
    },
    {
      "cell_type": "markdown",
      "source": [
        "```\n",
        "dropna()\n",
        "```\n",
        "を用いると、欠損値を一つでも含むレコードを削除できる。"
      ],
      "metadata": {
        "id": "6Pm28OYvyEjW"
      }
    },
    {
      "cell_type": "markdown",
      "source": [
        "以下のように記述した場合には、元の変数 data は値が変化せず、\n",
        "欠損値を一つでも含むレコードが削除された状態のデータが、\n",
        "data_dropped にコピーされる。"
      ],
      "metadata": {
        "id": "txfV6aYK2jLF"
      }
    },
    {
      "cell_type": "code",
      "source": [
        "data_dropped = data.dropna()"
      ],
      "metadata": {
        "id": "ajIYvMdSnMzp"
      },
      "execution_count": null,
      "outputs": []
    },
    {
      "cell_type": "code",
      "source": [
        "# 欠損値が無いことを確認する\n",
        "data_dropped.isnull().sum()\n",
        "# data_dropped.info()"
      ],
      "metadata": {
        "id": "GQwv9ZFFzMcn"
      },
      "execution_count": null,
      "outputs": []
    },
    {
      "cell_type": "markdown",
      "source": [
        "元の変数 data には欠損値が残ったままとなっていることを確認する。"
      ],
      "metadata": {
        "id": "Kuu_3eEaWdZq"
      }
    },
    {
      "cell_type": "code",
      "source": [
        "data.isnull().sum()"
      ],
      "metadata": {
        "id": "0YKaPhEv2B0W"
      },
      "execution_count": null,
      "outputs": []
    },
    {
      "cell_type": "markdown",
      "source": [
        "以下のように inplace=True とすると\n",
        "dataの内容が変更される。"
      ],
      "metadata": {
        "id": "ckWJBuorchdc"
      }
    },
    {
      "cell_type": "code",
      "source": [
        "# data という変数に読み込む\n",
        "data = pd.read_excel(file_path)\n",
        "# print( data.isnull().sum() )\n",
        "data.dropna(inplace=True)\n",
        "data.isnull().sum()"
      ],
      "metadata": {
        "id": "Hg4uGWIb8Nhd"
      },
      "execution_count": null,
      "outputs": []
    },
    {
      "cell_type": "code",
      "source": [
        "data.info()"
      ],
      "metadata": {
        "id": "IAeXyPULatws"
      },
      "execution_count": null,
      "outputs": []
    },
    {
      "cell_type": "markdown",
      "source": [
        "### 数値で置き換える場合\n",
        "\n",
        "欠損値を数値で置き換えるためには以下のようにする。\n",
        "例えば、'Aの利用回数' の欠測値を 0 で置き換えるのであれば、以下のようにする。\n",
        "\n",
        "```\n",
        "data['Aの利用回数'] = data['Aの利用回数'].fillna(0)\n",
        "```\n",
        "\n",
        "平均値で置き換える場合は以下のようになる。\n",
        "\n",
        "```\n",
        "data['Aの利用回数'] = data['Aの利用回数'].fillna(data['Aの利用回数'].mean())\n",
        "```\n",
        "\n"
      ],
      "metadata": {
        "id": "mAt7NlnQAheK"
      }
    },
    {
      "cell_type": "code",
      "source": [
        "# もう一度ファイルからデータを読み込んで、欠損値のある状態にする。\n",
        "data = pd.read_excel(file_path)\n",
        "\n",
        "# Aの利用回数の欠損値を平均値で補完\n",
        "data['Aの利用回数'] = data['Aの利用回数'].fillna(data['Aの利用回数'].mean())\n",
        "\n",
        "# 結果の確認\n",
        "print(data.isnull().sum())"
      ],
      "metadata": {
        "id": "DpreyAwVAAAB"
      },
      "execution_count": null,
      "outputs": []
    },
    {
      "cell_type": "markdown",
      "source": [
        "### 列を削除する場合\n",
        "欠損値が非常に多く含まれている項目は、\n",
        "分析には用いることができないと判断することもある。\n"
      ],
      "metadata": {
        "id": "Wb_CXOOBdFU1"
      }
    },
    {
      "cell_type": "code",
      "source": [
        "data = pd.read_excel(file_path)\n",
        "# data.info()\n",
        "\n",
        "# スマホ利用時間の列をすべて削除する場合\n",
        "data.drop(columns=['スマホ利用時間'], inplace=True)\n",
        "data.info()"
      ],
      "metadata": {
        "id": "bGFW6TVud68a"
      },
      "execution_count": null,
      "outputs": []
    },
    {
      "cell_type": "markdown",
      "source": [
        "## 異常値の処理\n",
        "\n",
        "このデータには年齢が130といった数値が含まれている。\n",
        "このようなありえない数値を**異常値**と呼ぶ。\n",
        "\n",
        "異常値を含むレコードを削除して、\n",
        "分析は用いないようにする。"
      ],
      "metadata": {
        "id": "hphV6PgMqoyQ"
      }
    },
    {
      "cell_type": "markdown",
      "source": [
        "レコードの削除には\n",
        "\n",
        "```\n",
        "drop([削除したいレコード番号のインデックス])\n",
        "```\n",
        "\n",
        "を用いる。"
      ],
      "metadata": {
        "id": "_yl27q1X8gTC"
      }
    },
    {
      "cell_type": "markdown",
      "source": [
        "例えば、'年齢' が90歳以上のレコードのインデックスを得るためには\n",
        "以下のように行う。\n",
        "\n",
        "```\n",
        "data[data['年齢'] >= 90].index\n",
        "```\n"
      ],
      "metadata": {
        "id": "rjAVAY9RrP42"
      }
    },
    {
      "cell_type": "code",
      "source": [
        "# 年齢が90歳以上のレコードのインデックスを取得\n",
        "idx = data[data['年齢'] >= 90].index\n",
        "\n",
        "# 指定したインデックスのレコードを削除したもの data_dropped に代入する\n",
        "data_dropped = data.drop(idx)"
      ],
      "metadata": {
        "id": "Cegs4kFWqwoT"
      },
      "execution_count": null,
      "outputs": []
    },
    {
      "cell_type": "markdown",
      "source": [
        "## 重複レコードの削除"
      ],
      "metadata": {
        "id": "mwovNNXn-2sl"
      }
    },
    {
      "cell_type": "markdown",
      "source": [
        "このデータには、以下のような重複行がある。"
      ],
      "metadata": {
        "id": "v2iy1fyWGpkI"
      }
    },
    {
      "cell_type": "code",
      "source": [
        "# data = pd.read_excel(file_path)\n",
        "data.tail()"
      ],
      "metadata": {
        "id": "7JDmMnPE-8B9"
      },
      "execution_count": null,
      "outputs": []
    },
    {
      "cell_type": "code",
      "source": [
        "data.drop_duplicates(inplace=True)\n",
        "data.tail()"
      ],
      "metadata": {
        "id": "5WMQfbwn_B-e"
      },
      "execution_count": null,
      "outputs": []
    },
    {
      "cell_type": "markdown",
      "source": [
        "削除した結果、行数が減っていることを確認する"
      ],
      "metadata": {
        "id": "7Usf-M_a5Rwp"
      }
    },
    {
      "cell_type": "code",
      "source": [
        "data.shape"
      ],
      "metadata": {
        "id": "jevRP-QZkZ9Z"
      },
      "execution_count": null,
      "outputs": []
    },
    {
      "cell_type": "markdown",
      "source": [
        "\n",
        "\n",
        "---\n",
        "\n"
      ],
      "metadata": {
        "id": "z8vVdQKE5Oh6"
      }
    },
    {
      "cell_type": "markdown",
      "source": [
        "# 主なDataFrame の操作"
      ],
      "metadata": {
        "id": "n6Wf8SGxwF-1"
      }
    },
    {
      "cell_type": "markdown",
      "source": [
        "## 特定の行の選択"
      ],
      "metadata": {
        "id": "njbNvUw_1mUC"
      }
    },
    {
      "cell_type": "markdown",
      "source": [
        "### 行番号で選択する"
      ],
      "metadata": {
        "id": "bUpsK0D4tg6y"
      }
    },
    {
      "cell_type": "code",
      "source": [
        "# 20行目から21行目までを選択\n",
        "data[20:22]"
      ],
      "metadata": {
        "id": "2nZ29vAswsSR"
      },
      "execution_count": null,
      "outputs": []
    },
    {
      "cell_type": "markdown",
      "source": [
        "### 条件式で選択する\n",
        "\n",
        "```\n",
        "data[ 条件式 ]\n",
        "```\n",
        "とすることで、条件式に合致する行を選択することができる。\n"
      ],
      "metadata": {
        "id": "Ca9_ujqmtoCN"
      }
    },
    {
      "cell_type": "code",
      "source": [
        "# 年齢が30未満の行を選択する\n",
        "data[ data['年齢'] < 30]"
      ],
      "metadata": {
        "id": "o_3qB390yWsm"
      },
      "execution_count": null,
      "outputs": []
    },
    {
      "cell_type": "code",
      "source": [
        "# 職業が'会社員' と等しいものを選択する\n",
        "# == を使う点に注意\n",
        "data[ data['職業']=='会社員']"
      ],
      "metadata": {
        "id": "plIVmXB8ygy5"
      },
      "execution_count": null,
      "outputs": []
    },
    {
      "cell_type": "code",
      "source": [
        "# '職業が会社員' と等しいものを選択し年収の平均を求める\n",
        "data[ data['職業']=='会社員']['年収'].mean()"
      ],
      "metadata": {
        "id": "Ge99GnmCuEWG"
      },
      "execution_count": null,
      "outputs": []
    },
    {
      "cell_type": "code",
      "source": [
        "# 年齢が30歳未満の顧客の年収の平均を求める\n",
        "data[ data['年齢'] < 30]['年収'].mean()"
      ],
      "metadata": {
        "id": "Agl7tfp_3czN"
      },
      "execution_count": null,
      "outputs": []
    },
    {
      "cell_type": "code",
      "source": [
        "# 複数条件をANDする\n",
        "# 年収が300以上かつ600以下の場合\n",
        "data[ (data['年収'] >= 300) & (data['年収'] <= 600) ]['年齢'].mean()"
      ],
      "metadata": {
        "id": "XNPFR0c8dXvP"
      },
      "execution_count": null,
      "outputs": []
    },
    {
      "cell_type": "code",
      "source": [
        "# 複数条件をORする\n",
        "# 職業が会社員または公務員の場合\n",
        "data[ (data['職業'] == '会社員') | (data['職業'] == '公務員') ]['年収'].mean()"
      ],
      "metadata": {
        "id": "b1OsgZUcJ7Qo"
      },
      "execution_count": null,
      "outputs": []
    },
    {
      "cell_type": "markdown",
      "source": [
        "---"
      ],
      "metadata": {
        "id": "g-qawRdMnPJO"
      }
    },
    {
      "cell_type": "markdown",
      "source": [
        "## 並べ替え\n",
        "\n",
        "* 小さい順に並べる場合\n",
        "```\n",
        "sort_values()\n",
        "```\n",
        "\n",
        "* 大きい順に並べる場合\n",
        "```\n",
        "sort_values(ascending=False)\n",
        "```\n",
        "\n",
        "\n",
        "\n",
        "\n"
      ],
      "metadata": {
        "id": "rfMNuWsxwTx9"
      }
    },
    {
      "cell_type": "code",
      "source": [
        "data['年収'].sort_values()"
      ],
      "metadata": {
        "id": "Kpwzdxbiw7Oq"
      },
      "execution_count": null,
      "outputs": []
    },
    {
      "cell_type": "code",
      "source": [
        "data['年収'].sort_values(ascending=False)"
      ],
      "metadata": {
        "id": "TneHRKsbxj3q"
      },
      "execution_count": null,
      "outputs": []
    },
    {
      "cell_type": "code",
      "source": [
        "# ソートし、先頭の10行を表示する場合は以下のようにする\n",
        "data['年収'].sort_values(ascending=False).head(10)"
      ],
      "metadata": {
        "id": "x_OV1cLsyGCu"
      },
      "execution_count": null,
      "outputs": []
    },
    {
      "cell_type": "markdown",
      "source": [
        "表全体を対象に並べ借ることも可能。\n",
        "\n",
        "sort_values( by = '列名' ) とする"
      ],
      "metadata": {
        "id": "wP7-QzWKaezj"
      }
    },
    {
      "cell_type": "code",
      "source": [
        "# スマホ利用時間の小さな順に並べる\n",
        "data.sort_values(by = 'スマホ利用時間')"
      ],
      "metadata": {
        "id": "wKwwLnb54X25"
      },
      "execution_count": null,
      "outputs": []
    },
    {
      "cell_type": "code",
      "source": [
        "# 年収で大きい順に並べる\n",
        "data.sort_values(by = '年収', ascending=False)"
      ],
      "metadata": {
        "id": "Kcsir56uJPEX"
      },
      "execution_count": null,
      "outputs": []
    },
    {
      "cell_type": "markdown",
      "source": [
        "---"
      ],
      "metadata": {
        "id": "GBNQoEMUnMk5"
      }
    },
    {
      "cell_type": "markdown",
      "source": [
        "##列名の変更"
      ],
      "metadata": {
        "id": "TzjnQWJ0upMY"
      }
    },
    {
      "cell_type": "code",
      "source": [
        "data_renamed = data.rename(columns={'Aの利用回数': 'A回数','Bの利用回数': 'B回数'})\n",
        "data_renamed.info()"
      ],
      "metadata": {
        "id": "LRUAF54m406B"
      },
      "execution_count": null,
      "outputs": []
    },
    {
      "cell_type": "markdown",
      "source": [
        "## 行や列を番号で指定して限定する\n",
        "\n",
        "iloc を使い、DataFrame に格納された表の一部だけを取り出すことが可能。\n",
        "\n",
        "基本的な使い方は、\n",
        "\n",
        "> iloc[ 行の範囲を指定, 列の範囲を指定 ]"
      ],
      "metadata": {
        "id": "fSspDhaznIKy"
      }
    },
    {
      "cell_type": "code",
      "source": [
        "# 0行目から2行目まで、2列目から4列目まで\n",
        "data.iloc[0:3,2:5]"
      ],
      "metadata": {
        "id": "Zb2nlA8InIKz"
      },
      "execution_count": null,
      "outputs": []
    },
    {
      "cell_type": "code",
      "source": [
        "# 0行目から2行目まで\n",
        "data.iloc[0:3,:]"
      ],
      "metadata": {
        "id": "t0P5pQUKnIKz"
      },
      "execution_count": null,
      "outputs": []
    },
    {
      "cell_type": "code",
      "source": [
        "# 1列目から最後まで\n",
        "data.iloc[1:3,1:]"
      ],
      "metadata": {
        "id": "k1Wg6U4gnIKz"
      },
      "execution_count": null,
      "outputs": []
    },
    {
      "cell_type": "code",
      "source": [
        "# 1列目から最後の1つ前まで\n",
        "data.iloc[1:3,:-1]"
      ],
      "metadata": {
        "id": "uoGRpTklnIKz"
      },
      "execution_count": null,
      "outputs": []
    },
    {
      "cell_type": "markdown",
      "source": [
        "## 行番号と列番号による指定\n",
        "\n",
        "> iloc[ 行のリスト, 列のリスト ]"
      ],
      "metadata": {
        "id": "4FDbytiynIKz"
      }
    },
    {
      "cell_type": "code",
      "source": [
        "data.iloc[[100,1,102],[0,2,3]]"
      ],
      "metadata": {
        "id": "n_t2hvm-nIKz"
      },
      "execution_count": null,
      "outputs": []
    },
    {
      "cell_type": "code",
      "source": [
        "# 行番号や列番号を省略すると全て選択される\n",
        "data.iloc[[100,1,102],]"
      ],
      "metadata": {
        "id": "hnfHLNzEnIKz"
      },
      "execution_count": null,
      "outputs": []
    },
    {
      "cell_type": "markdown",
      "source": [
        "\n",
        "\n",
        "---\n",
        "\n",
        "\n",
        "\n",
        "---\n",
        "\n",
        "\n",
        "\n",
        "---\n",
        "\n"
      ],
      "metadata": {
        "id": "7la9fEymU6yE"
      }
    },
    {
      "cell_type": "markdown",
      "source": [
        "# 参考サイト\n",
        "- Google Colaboratory のWebページ\n",
        " - https://colab.research.google.com/\n",
        "\n",
        "\n",
        "- 授業の資料保管場所\n",
        " - https://github.com/yajima-yasutoshi/DataMining2024/tree/main/20241015\n"
      ],
      "metadata": {
        "id": "SpNdfz6mzUZK"
      }
    },
    {
      "cell_type": "markdown",
      "source": [
        "---\n",
        "---\n",
        "# 宿題\n",
        "以下は各自で行う"
      ],
      "metadata": {
        "id": "LT82niq1ngHM"
      }
    },
    {
      "cell_type": "markdown",
      "source": [
        "# CSVファイルの読み込み\n",
        "\n",
        "csv ファイルを読み込むためには、read_csv() を用いる。\n",
        "\n",
        "> csvファイルはUTF-8で保存されている必要がある。うまく読み込めない場合は、エクセルで保存する際に「CSV UTF-8」とすればよい。"
      ],
      "metadata": {
        "id": "a1PIdKa_DeNu"
      }
    },
    {
      "cell_type": "code",
      "source": [
        "data= pd.read_csv('/content/drive/MyDrive/データアップロード/商品金額.csv')"
      ],
      "metadata": {
        "id": "UX1US4ilDeNv"
      },
      "execution_count": null,
      "outputs": []
    },
    {
      "cell_type": "code",
      "source": [
        "# 先頭の数行を表示させる\n",
        "data.head()"
      ],
      "metadata": {
        "id": "fDWTkaN-DeNv"
      },
      "execution_count": null,
      "outputs": []
    },
    {
      "cell_type": "code",
      "source": [
        "# 先頭部分のデータを10行表示\n",
        "data.head(10)"
      ],
      "metadata": {
        "id": "TXYHUdpHDeNv"
      },
      "execution_count": null,
      "outputs": []
    },
    {
      "cell_type": "markdown",
      "source": [
        "# 平均値と中央値"
      ],
      "metadata": {
        "id": "-3YF1X5uU9WW"
      }
    },
    {
      "cell_type": "markdown",
      "source": [
        "例として、50個の観測値をヒストグラムで可視化した。\n",
        "合わせて、平均値を計算してしてしてある。\n",
        "\n",
        "左右に同じように分布するデータの場合では、\n",
        "平均値は全体の中央付近になる。"
      ],
      "metadata": {
        "id": "e7EoGyiHU4T9"
      }
    },
    {
      "cell_type": "code",
      "source": [
        "#@title ある50個の観測値のヒストグラムと平均の様子\n",
        "#平均400、標準偏差100の数正規分布に従う確率変数を50個生成してヒストグラムで可視化する。色は薄い青にする。ビンの幅を100、階級の分かれ目を示す。平均値に縦線を加え、図の中に平均値を表示する\n",
        "\n",
        "import matplotlib.pyplot as plt\n",
        "import numpy as np\n",
        "\n",
        "np.random.seed(99)\n",
        "\n",
        "# 平均400、標準偏差100の正規分布に従う乱数を50個生成\n",
        "_data = np.random.normal(400, 100, 50)\n",
        "\n",
        "# ヒストグラムを描画\n",
        "plt.hist(_data, bins=range(0, 801, 100), color='lightblue', edgecolor='black')  # ビンの幅を100に設定\n",
        "\n",
        "# 平均値を計算\n",
        "mean_value = np.mean(_data)\n",
        "\n",
        "# 平均値の位置に赤い縦線を追加\n",
        "plt.axvline(x=mean_value, color='red', linestyle='--')\n",
        "\n",
        "# 平均値を図の中に表示\n",
        "plt.text(mean_value + 10, 5, f'平均: {mean_value:.2f}', color='red')\n",
        "\n",
        "# 軸ラベルとタイトルを設定\n",
        "plt.xlabel('値')\n",
        "plt.ylabel('頻度')\n",
        "plt.title('ある50個の観測値のヒストグラム')\n",
        "\n",
        "# グリッドを表示\n",
        "plt.grid(True)\n",
        "\n",
        "# グラフを表示\n",
        "plt.show()\n"
      ],
      "metadata": {
        "cellView": "form",
        "id": "Lse-JCJqU4T-"
      },
      "execution_count": null,
      "outputs": []
    },
    {
      "cell_type": "markdown",
      "source": [
        "以下の図のように、データの中に非常に大きな値（小さな値）が加わると、\n",
        "平均値はその影響を受けることに注意が必要である。"
      ],
      "metadata": {
        "id": "Cfn74AqQU4T-"
      }
    },
    {
      "cell_type": "code",
      "source": [
        "#@title 外れ値を含む場合の平均値\n",
        "# prompt: 2つの平均値を求め図の中に書きこむ。ヒストグラムの色を薄い水色にする。\n",
        "\n",
        "import matplotlib.pyplot as plt\n",
        "import numpy as np\n",
        "# 大きな外れ値としてサンプルを3個加える\n",
        "data_with_outliers = np.concatenate((_data, [2000, 2200, 2500]))\n",
        "\n",
        "# ヒストグラムを作成\n",
        "plt.hist(data_with_outliers, bins=range(0, 2501, 100), edgecolor='black', color='lightblue')  # ビンの幅を100に設定、階級の分かれ目を表示\n",
        "\n",
        "# 元データの平均値に縦線を追加\n",
        "plt.axvline(x=400, color='red', linestyle='--', label='元の平均値')\n",
        "\n",
        "# 外れ値を含むデータの平均値に縦線を追加\n",
        "plt.axvline(x=data_with_outliers.mean(), color='blue', linestyle='--', label='外れ値を含む平均値')\n",
        "\n",
        "# 平均値を計算して表示\n",
        "mean_original = _data.mean()\n",
        "mean_with_outliers = data_with_outliers.mean()\n",
        "plt.text(mean_original + 20, 10, f'{mean_original:.2f}', color='red')\n",
        "plt.text(mean_with_outliers + 20, 8, f'{mean_with_outliers:.2f}', color='blue')\n",
        "\n",
        "# ラベルとタイトルを設定\n",
        "plt.xlabel('値')\n",
        "plt.ylabel('頻度')\n",
        "plt.title('外れ値を含むデータのヒストグラム')\n",
        "plt.legend()  # 凡例を表示\n",
        "\n",
        "# グリッドを表示\n",
        "plt.grid(True)\n",
        "\n",
        "\n",
        "# グラフを表示\n",
        "plt.show()\n"
      ],
      "metadata": {
        "cellView": "form",
        "id": "BF2ajd7sU4T-"
      },
      "execution_count": null,
      "outputs": []
    },
    {
      "cell_type": "code",
      "source": [
        "#@title 中央値の可視化\n",
        "# prompt: 中央値を計算して図の中に可視化する。小数点以下1桁で表示する\n",
        "\n",
        "import matplotlib.pyplot as plt\n",
        "import numpy as np\n",
        "# 大きな外れ値としてサンプルを3個加える\n",
        "data_with_outliers = np.concatenate((_data, [2000, 2200, 2500]))\n",
        "\n",
        "# ヒストグラムを作成\n",
        "plt.hist(data_with_outliers, bins=range(0, 2501, 100), edgecolor='black', color='lightblue')  # ビンの幅を100に設定、階級の分かれ目を表示\n",
        "\n",
        "# 元データの平均値に縦線を追加\n",
        "# plt.axvline(x=400, color='red', linestyle='--', label='元の平均値')\n",
        "\n",
        "# 外れ値を含むデータの平均値に縦線を追加\n",
        "# plt.axvline(x=data_with_outliers.mean(), color='blue', linestyle='--', label='外れ値を含む平均値')\n",
        "\n",
        "# 中央値を計算して表示\n",
        "median_original = np.median(_data)\n",
        "median_with_outliers = np.median(data_with_outliers)\n",
        "plt.axvline(x=median_original, color='green', linestyle='--', label='元のデータの中央値')\n",
        "plt.axvline(x=median_with_outliers, color='purple', linestyle='--', label='外れ値を含むデータの中央値')\n",
        "\n",
        "# 平均値を計算して表示\n",
        "mean_original = _data.mean()\n",
        "mean_with_outliers = data_with_outliers.mean()\n",
        "#plt.text(mean_original + 20, 10, f'{mean_original:.2f}', color='red')\n",
        "#plt.text(mean_with_outliers + 20, 8, f'{mean_with_outliers:.2f}', color='blue')\n",
        "plt.text(median_original + 20, 12, f'{median_original:.1f}', color='green') # 中央値を表示（小数点以下1桁）\n",
        "plt.text(median_with_outliers + 20, 6, f'{median_with_outliers:.1f}', color='purple') # 中央値を表示（小数点以下1桁）\n",
        "\n",
        "# ラベルとタイトルを設定\n",
        "plt.xlabel('値')\n",
        "plt.ylabel('頻度')\n",
        "plt.title('外れ値を含むデータのヒストグラム')\n",
        "plt.legend()  # 凡例を表示\n",
        "\n",
        "# グリッドを表示\n",
        "plt.grid(True)\n",
        "\n",
        "\n",
        "# グラフを表示\n",
        "plt.show()\n"
      ],
      "metadata": {
        "cellView": "form",
        "id": "WcR7A_N4V_kG"
      },
      "execution_count": null,
      "outputs": []
    },
    {
      "cell_type": "code",
      "source": [
        "#@title 外れ値の影響\n",
        "# prompt: 上の2つの図を左右に並べて表示する\n",
        "\n",
        "import matplotlib.pyplot as plt\n",
        "import numpy as np\n",
        "# 図の設定\n",
        "fig, axes = plt.subplots(1, 2, figsize=(12, 5))  # 1行2列の図を作成\n",
        "\n",
        "# 1つ目の図 (平均値)\n",
        "data_with_outliers = np.concatenate((_data, [2000, 2200, 2500]))\n",
        "axes[0].hist(data_with_outliers, bins=range(0, 2501, 100), edgecolor='black', color='lightblue')\n",
        "mean_original = np.mean(_data)\n",
        "mean_with_outliers = np.mean(data_with_outliers)\n",
        "axes[0].axvline(x=mean_original, color='green', linestyle='--', label='元のデータの中央値')\n",
        "axes[0].axvline(x=mean_with_outliers, color='purple', linestyle='--', label='外れ値を含むデータの中央値')\n",
        "axes[0].text(mean_original + 20, 12, f'{mean_original:.1f}', color='green')\n",
        "axes[0].text(mean_with_outliers + 20, 6, f'{mean_with_outliers:.1f}', color='purple')\n",
        "axes[0].set_xlabel('値')\n",
        "axes[0].set_ylabel('頻度')\n",
        "axes[0].set_title('外れ値による平均値の変化')\n",
        "axes[0].legend()\n",
        "axes[0].grid(True)\n",
        "\n",
        "# 2つ目の図 (外れ値あり)\n",
        "data_with_outliers = np.concatenate((_data, [2000, 2200, 2500]))\n",
        "axes[1].hist(data_with_outliers, bins=range(0, 2501, 100), edgecolor='black', color='lightblue')\n",
        "median_original = np.median(_data)\n",
        "median_with_outliers = np.median(data_with_outliers)\n",
        "axes[1].axvline(x=median_original, color='green', linestyle='--', label='元のデータの中央値')\n",
        "axes[1].axvline(x=median_with_outliers, color='purple', linestyle='--', label='外れ値を含むデータの中央値')\n",
        "axes[1].text(median_original + 20, 12, f'{median_original:.1f}', color='green')\n",
        "axes[1].text(median_with_outliers + 20, 6, f'{median_with_outliers:.1f}', color='purple')\n",
        "axes[1].set_xlabel('値')\n",
        "axes[1].set_ylabel('頻度')\n",
        "axes[1].set_title('外れ値による中央値の変化')\n",
        "axes[1].legend()\n",
        "axes[1].grid(True)\n",
        "\n",
        "# 図を表示\n",
        "plt.tight_layout()  # 図の間隔を調整\n",
        "plt.show()\n"
      ],
      "metadata": {
        "cellView": "form",
        "id": "WLyrGVrLV_kG"
      },
      "execution_count": null,
      "outputs": []
    },
    {
      "cell_type": "markdown",
      "source": [
        "以下の図は、平均は80であるが分散の異なるデータを可視化したものである。\n",
        "データのばらつきが大きくなると、分散も大きくなることが分かる。"
      ],
      "metadata": {
        "id": "35_wJHldWOxD"
      }
    },
    {
      "cell_type": "markdown",
      "source": [
        "# 分散の比較"
      ],
      "metadata": {
        "id": "HuhP0OVcWUct"
      }
    },
    {
      "cell_type": "markdown",
      "source": [
        "以下の図は、平均は80であるが分散の異なるデータを可視化したものである。\n",
        "データのばらつきが大きくなると、分散も大きくなることが分かる。"
      ],
      "metadata": {
        "id": "STr7LldfWi_Z"
      }
    },
    {
      "cell_type": "code",
      "source": [
        "#@title 分散の異なる分布の比較\n",
        "# prompt: 平均が80の正規分布から点を100個生成してヒストグラムで可視します。分散が1, 10, 20, 40 の4パターンの図をまとめて表示してください。軸の目盛りは縦も横も統一します。seabornを使います。\n",
        "\n",
        "import matplotlib.pyplot as plt\n",
        "import numpy as np\n",
        "# 平均が50の正規分布から点を100個生成\n",
        "np.random.seed(0)  # 乱数シードを設定\n",
        "data1 = np.random.normal(80, 1, 100)\n",
        "data2 = np.random.normal(80, 10, 100)\n",
        "data3 = np.random.normal(80, 20, 100)\n",
        "data4 = np.random.normal(80, 40, 100)\n",
        "\n",
        "# 4つのサブプロットを作成\n",
        "fig, axes = plt.subplots(2, 2, figsize=(10, 8))\n",
        "\n",
        "# ヒストグラムを描画\n",
        "sns.histplot(data1, ax=axes[0, 0], kde=False)\n",
        "axes[0, 0].set_title('分散 = 1')\n",
        "axes[0, 0].grid(True)\n",
        "\n",
        "sns.histplot(data2, ax=axes[0, 1], kde=False)\n",
        "axes[0, 1].set_title('分散 = 10')\n",
        "axes[0, 1].grid(True)\n",
        "\n",
        "sns.histplot(data3, ax=axes[1, 0], kde=False)\n",
        "axes[1, 0].set_title('分散 = 20')\n",
        "axes[1, 0].grid(True)\n",
        "\n",
        "sns.histplot(data4, ax=axes[1, 1], kde=False, bins=25)\n",
        "axes[1, 1].set_title('分散 = 40')\n",
        "axes[1, 1].grid(True)\n",
        "\n",
        "# 軸の範囲を統一\n",
        "for ax in axes.flat:\n",
        "    ax.set_xlim(-40, 180)\n",
        "    ax.set_ylim(0, 30)\n",
        "\n",
        "# ラベルを設定\n",
        "fig.supxlabel('値')\n",
        "fig.supylabel('頻度')\n",
        "\n",
        "# タイトルを設定\n",
        "fig.suptitle('異なる分散を持つ正規分布のヒストグラム', fontsize=16)\n",
        "\n",
        "# レイアウトを調整\n",
        "plt.tight_layout()\n",
        "\n",
        "# 図を表示\n",
        "plt.show()\n"
      ],
      "metadata": {
        "cellView": "form",
        "id": "8aHI-iA2WOxD"
      },
      "execution_count": null,
      "outputs": []
    },
    {
      "cell_type": "markdown",
      "source": [
        "\n",
        "---\n",
        "---\n",
        "---"
      ],
      "metadata": {
        "id": "gx5lDqO-VOaG"
      }
    }
  ]
}