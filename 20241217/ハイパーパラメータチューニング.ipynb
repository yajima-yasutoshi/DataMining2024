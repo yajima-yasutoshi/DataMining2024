{
  "nbformat": 4,
  "nbformat_minor": 0,
  "metadata": {
    "colab": {
      "provenance": [],
      "toc_visible": true,
      "include_colab_link": true
    },
    "kernelspec": {
      "name": "python3",
      "display_name": "Python 3"
    },
    "language_info": {
      "name": "python"
    }
  },
  "cells": [
    {
      "cell_type": "markdown",
      "metadata": {
        "id": "view-in-github",
        "colab_type": "text"
      },
      "source": [
        "<a href=\"https://colab.research.google.com/github/yajima-yasutoshi/DataMining2024/blob/main/20241217/%E3%83%8F%E3%82%A4%E3%83%91%E3%83%BC%E3%83%91%E3%83%A9%E3%83%A1%E3%83%BC%E3%82%BF%E3%83%81%E3%83%A5%E3%83%BC%E3%83%8B%E3%83%B3%E3%82%B0.ipynb\" target=\"_parent\"><img src=\"https://colab.research.google.com/assets/colab-badge.svg\" alt=\"Open In Colab\"/></a>"
      ]
    },
    {
      "cell_type": "markdown",
      "source": [
        "#ハイパーパラメータチューニング"
      ],
      "metadata": {
        "id": "Dd5Plw8hVnrA"
      }
    },
    {
      "cell_type": "markdown",
      "source": [
        "## 資料の保管先\n",
        "\n",
        "20241217\n",
        "\n",
        "https://github.com/yajima-yasutoshi/DataMining2024/tree/main/20241217\n"
      ],
      "metadata": {
        "id": "g8YJ3oojiqNa"
      }
    },
    {
      "cell_type": "markdown",
      "source": [
        "#本日の講義の目的\n",
        "\n",
        "回帰や分類などの予測モデル構築で、\n",
        "予測精度を向上させるテクニックとして良く知られた\n",
        "**正則化パラメータチューニング**について説明する。\n",
        "なお、これは一般的に\n",
        "**ハイパーパラメータチューニング**\n",
        "と呼ばれるものの一つであり、\n",
        "機械学習モデルの精度向上には欠かせないテクニックである。\n"
      ],
      "metadata": {
        "id": "wUezl4MyB_v3"
      }
    },
    {
      "cell_type": "markdown",
      "source": [
        "## 環境の準備\n",
        "以下のコードセルを実行し、\n",
        "日本語の表示を行うための設定と分析に必要なパッケージのインポートを行う。"
      ],
      "metadata": {
        "id": "7uEdwaOOxjsZ"
      }
    },
    {
      "cell_type": "code",
      "source": [
        "# 日本語環境のインストール\n",
        "!pip install japanize-matplotlib\n",
        "\n",
        "# 必要なライブラリをインポート\n",
        "import numpy as np\n",
        "import pandas as pd\n",
        "import seaborn as sns\n",
        "import matplotlib.pyplot as plt\n",
        "import japanize_matplotlib\n",
        "\n",
        "# 分析に必要なライブラリのインポート\n",
        "from sklearn.model_selection import train_test_split\n",
        "from sklearn.preprocessing import StandardScaler\n",
        "\n",
        "# 回帰に必要なライブラリをインポート\n",
        "from sklearn.linear_model import Ridge\n",
        "from sklearn.linear_model import LinearRegression\n",
        "\n",
        "# 分類（ロジスティック回帰）に必要なライブラリー\n",
        "from sklearn.linear_model import LogisticRegression\n",
        "\n",
        "# 精度評価に必要なライブラリー\n",
        "from sklearn.metrics import mean_squared_error\n",
        "from sklearn.metrics import r2_score\n",
        "from sklearn.metrics import accuracy_score\n",
        "from sklearn.metrics import confusion_matrix\n",
        "\n",
        "# その他必要なライブラリー\n",
        "from sklearn.model_selection import GridSearchCV"
      ],
      "metadata": {
        "id": "g9TNYrU66eru",
        "colab": {
          "base_uri": "https://localhost:8080/"
        },
        "outputId": "31c162f7-837a-4910-aa3d-d84961c707a3"
      },
      "execution_count": 85,
      "outputs": [
        {
          "output_type": "stream",
          "name": "stdout",
          "text": [
            "Requirement already satisfied: japanize-matplotlib in /usr/local/lib/python3.10/dist-packages (1.1.3)\n",
            "Requirement already satisfied: matplotlib in /usr/local/lib/python3.10/dist-packages (from japanize-matplotlib) (3.8.0)\n",
            "Requirement already satisfied: contourpy>=1.0.1 in /usr/local/lib/python3.10/dist-packages (from matplotlib->japanize-matplotlib) (1.3.0)\n",
            "Requirement already satisfied: cycler>=0.10 in /usr/local/lib/python3.10/dist-packages (from matplotlib->japanize-matplotlib) (0.12.1)\n",
            "Requirement already satisfied: fonttools>=4.22.0 in /usr/local/lib/python3.10/dist-packages (from matplotlib->japanize-matplotlib) (4.54.1)\n",
            "Requirement already satisfied: kiwisolver>=1.0.1 in /usr/local/lib/python3.10/dist-packages (from matplotlib->japanize-matplotlib) (1.4.7)\n",
            "Requirement already satisfied: numpy<2,>=1.21 in /usr/local/lib/python3.10/dist-packages (from matplotlib->japanize-matplotlib) (1.26.4)\n",
            "Requirement already satisfied: packaging>=20.0 in /usr/local/lib/python3.10/dist-packages (from matplotlib->japanize-matplotlib) (24.2)\n",
            "Requirement already satisfied: pillow>=6.2.0 in /usr/local/lib/python3.10/dist-packages (from matplotlib->japanize-matplotlib) (11.0.0)\n",
            "Requirement already satisfied: pyparsing>=2.3.1 in /usr/local/lib/python3.10/dist-packages (from matplotlib->japanize-matplotlib) (3.2.0)\n",
            "Requirement already satisfied: python-dateutil>=2.7 in /usr/local/lib/python3.10/dist-packages (from matplotlib->japanize-matplotlib) (2.8.2)\n",
            "Requirement already satisfied: six>=1.5 in /usr/local/lib/python3.10/dist-packages (from python-dateutil>=2.7->matplotlib->japanize-matplotlib) (1.16.0)\n"
          ]
        }
      ]
    },
    {
      "cell_type": "markdown",
      "source": [
        "\n",
        "---\n",
        "---\n",
        "---"
      ],
      "metadata": {
        "id": "VR-S5kvXdKbV"
      }
    },
    {
      "cell_type": "markdown",
      "source": [
        "# ロジスティック回帰でのハイパーパラメータチューニング\n",
        "\n",
        "\n"
      ],
      "metadata": {
        "id": "TKlOXVFpJj7q"
      }
    },
    {
      "cell_type": "markdown",
      "source": [
        "## Titanic データの読み込み\n",
        "\n",
        "以下のコードセルを実行することで、\n",
        "seaborn パッケージに含まれているデモデータの一つである、\n",
        "Titanic データを読み込む。"
      ],
      "metadata": {
        "id": "PkNPXYJHgiRv"
      }
    },
    {
      "cell_type": "code",
      "source": [
        "# データを読み込む\n",
        "# 変数名を data とした\n",
        "data = sns.load_dataset('titanic') #タイタニックのデータ"
      ],
      "metadata": {
        "id": "j_M6pfGUdT3f"
      },
      "execution_count": 97,
      "outputs": []
    },
    {
      "cell_type": "markdown",
      "source": [
        "###データの構造の確認"
      ],
      "metadata": {
        "id": "n_T7sNP7hwML"
      }
    },
    {
      "cell_type": "markdown",
      "source": [
        "info を使い、データの構造を確認する。"
      ],
      "metadata": {
        "id": "knxiSxQ_r2nB"
      }
    },
    {
      "cell_type": "code",
      "source": [
        "data.info()"
      ],
      "metadata": {
        "id": "bk9LG_iFg9Wz",
        "colab": {
          "base_uri": "https://localhost:8080/"
        },
        "outputId": "07e18b32-0b83-43b5-859d-929e4ced8cd6"
      },
      "execution_count": 98,
      "outputs": [
        {
          "output_type": "stream",
          "name": "stdout",
          "text": [
            "<class 'pandas.core.frame.DataFrame'>\n",
            "RangeIndex: 891 entries, 0 to 890\n",
            "Data columns (total 15 columns):\n",
            " #   Column       Non-Null Count  Dtype   \n",
            "---  ------       --------------  -----   \n",
            " 0   survived     891 non-null    int64   \n",
            " 1   pclass       891 non-null    int64   \n",
            " 2   sex          891 non-null    object  \n",
            " 3   age          714 non-null    float64 \n",
            " 4   sibsp        891 non-null    int64   \n",
            " 5   parch        891 non-null    int64   \n",
            " 6   fare         891 non-null    float64 \n",
            " 7   embarked     889 non-null    object  \n",
            " 8   class        891 non-null    category\n",
            " 9   who          891 non-null    object  \n",
            " 10  adult_male   891 non-null    bool    \n",
            " 11  deck         203 non-null    category\n",
            " 12  embark_town  889 non-null    object  \n",
            " 13  alive        891 non-null    object  \n",
            " 14  alone        891 non-null    bool    \n",
            "dtypes: bool(2), category(2), float64(2), int64(4), object(5)\n",
            "memory usage: 80.7+ KB\n"
          ]
        }
      ]
    },
    {
      "cell_type": "markdown",
      "source": [
        "レコード数は891、項目数は15、欠損値を含む列も複数あることが分かる。"
      ],
      "metadata": {
        "id": "7wJW7GuMt9Qt"
      }
    },
    {
      "cell_type": "code",
      "source": [
        "data.head(5)"
      ],
      "metadata": {
        "id": "45yqvqg1iBhX",
        "colab": {
          "base_uri": "https://localhost:8080/",
          "height": 206
        },
        "outputId": "5bbed78e-a598-49a4-c998-dccc6001d10d"
      },
      "execution_count": 99,
      "outputs": [
        {
          "output_type": "execute_result",
          "data": {
            "text/plain": [
              "   survived  pclass     sex   age  sibsp  parch     fare embarked  class  \\\n",
              "0         0       3    male  22.0      1      0   7.2500        S  Third   \n",
              "1         1       1  female  38.0      1      0  71.2833        C  First   \n",
              "2         1       3  female  26.0      0      0   7.9250        S  Third   \n",
              "3         1       1  female  35.0      1      0  53.1000        S  First   \n",
              "4         0       3    male  35.0      0      0   8.0500        S  Third   \n",
              "\n",
              "     who  adult_male deck  embark_town alive  alone  \n",
              "0    man        True  NaN  Southampton    no  False  \n",
              "1  woman       False    C    Cherbourg   yes  False  \n",
              "2  woman       False  NaN  Southampton   yes   True  \n",
              "3  woman       False    C  Southampton   yes  False  \n",
              "4    man        True  NaN  Southampton    no   True  "
            ],
            "text/html": [
              "\n",
              "  <div id=\"df-224414bf-b161-45f5-8120-191a534105f4\" class=\"colab-df-container\">\n",
              "    <div>\n",
              "<style scoped>\n",
              "    .dataframe tbody tr th:only-of-type {\n",
              "        vertical-align: middle;\n",
              "    }\n",
              "\n",
              "    .dataframe tbody tr th {\n",
              "        vertical-align: top;\n",
              "    }\n",
              "\n",
              "    .dataframe thead th {\n",
              "        text-align: right;\n",
              "    }\n",
              "</style>\n",
              "<table border=\"1\" class=\"dataframe\">\n",
              "  <thead>\n",
              "    <tr style=\"text-align: right;\">\n",
              "      <th></th>\n",
              "      <th>survived</th>\n",
              "      <th>pclass</th>\n",
              "      <th>sex</th>\n",
              "      <th>age</th>\n",
              "      <th>sibsp</th>\n",
              "      <th>parch</th>\n",
              "      <th>fare</th>\n",
              "      <th>embarked</th>\n",
              "      <th>class</th>\n",
              "      <th>who</th>\n",
              "      <th>adult_male</th>\n",
              "      <th>deck</th>\n",
              "      <th>embark_town</th>\n",
              "      <th>alive</th>\n",
              "      <th>alone</th>\n",
              "    </tr>\n",
              "  </thead>\n",
              "  <tbody>\n",
              "    <tr>\n",
              "      <th>0</th>\n",
              "      <td>0</td>\n",
              "      <td>3</td>\n",
              "      <td>male</td>\n",
              "      <td>22.0</td>\n",
              "      <td>1</td>\n",
              "      <td>0</td>\n",
              "      <td>7.2500</td>\n",
              "      <td>S</td>\n",
              "      <td>Third</td>\n",
              "      <td>man</td>\n",
              "      <td>True</td>\n",
              "      <td>NaN</td>\n",
              "      <td>Southampton</td>\n",
              "      <td>no</td>\n",
              "      <td>False</td>\n",
              "    </tr>\n",
              "    <tr>\n",
              "      <th>1</th>\n",
              "      <td>1</td>\n",
              "      <td>1</td>\n",
              "      <td>female</td>\n",
              "      <td>38.0</td>\n",
              "      <td>1</td>\n",
              "      <td>0</td>\n",
              "      <td>71.2833</td>\n",
              "      <td>C</td>\n",
              "      <td>First</td>\n",
              "      <td>woman</td>\n",
              "      <td>False</td>\n",
              "      <td>C</td>\n",
              "      <td>Cherbourg</td>\n",
              "      <td>yes</td>\n",
              "      <td>False</td>\n",
              "    </tr>\n",
              "    <tr>\n",
              "      <th>2</th>\n",
              "      <td>1</td>\n",
              "      <td>3</td>\n",
              "      <td>female</td>\n",
              "      <td>26.0</td>\n",
              "      <td>0</td>\n",
              "      <td>0</td>\n",
              "      <td>7.9250</td>\n",
              "      <td>S</td>\n",
              "      <td>Third</td>\n",
              "      <td>woman</td>\n",
              "      <td>False</td>\n",
              "      <td>NaN</td>\n",
              "      <td>Southampton</td>\n",
              "      <td>yes</td>\n",
              "      <td>True</td>\n",
              "    </tr>\n",
              "    <tr>\n",
              "      <th>3</th>\n",
              "      <td>1</td>\n",
              "      <td>1</td>\n",
              "      <td>female</td>\n",
              "      <td>35.0</td>\n",
              "      <td>1</td>\n",
              "      <td>0</td>\n",
              "      <td>53.1000</td>\n",
              "      <td>S</td>\n",
              "      <td>First</td>\n",
              "      <td>woman</td>\n",
              "      <td>False</td>\n",
              "      <td>C</td>\n",
              "      <td>Southampton</td>\n",
              "      <td>yes</td>\n",
              "      <td>False</td>\n",
              "    </tr>\n",
              "    <tr>\n",
              "      <th>4</th>\n",
              "      <td>0</td>\n",
              "      <td>3</td>\n",
              "      <td>male</td>\n",
              "      <td>35.0</td>\n",
              "      <td>0</td>\n",
              "      <td>0</td>\n",
              "      <td>8.0500</td>\n",
              "      <td>S</td>\n",
              "      <td>Third</td>\n",
              "      <td>man</td>\n",
              "      <td>True</td>\n",
              "      <td>NaN</td>\n",
              "      <td>Southampton</td>\n",
              "      <td>no</td>\n",
              "      <td>True</td>\n",
              "    </tr>\n",
              "  </tbody>\n",
              "</table>\n",
              "</div>\n",
              "    <div class=\"colab-df-buttons\">\n",
              "\n",
              "  <div class=\"colab-df-container\">\n",
              "    <button class=\"colab-df-convert\" onclick=\"convertToInteractive('df-224414bf-b161-45f5-8120-191a534105f4')\"\n",
              "            title=\"Convert this dataframe to an interactive table.\"\n",
              "            style=\"display:none;\">\n",
              "\n",
              "  <svg xmlns=\"http://www.w3.org/2000/svg\" height=\"24px\" viewBox=\"0 -960 960 960\">\n",
              "    <path d=\"M120-120v-720h720v720H120Zm60-500h600v-160H180v160Zm220 220h160v-160H400v160Zm0 220h160v-160H400v160ZM180-400h160v-160H180v160Zm440 0h160v-160H620v160ZM180-180h160v-160H180v160Zm440 0h160v-160H620v160Z\"/>\n",
              "  </svg>\n",
              "    </button>\n",
              "\n",
              "  <style>\n",
              "    .colab-df-container {\n",
              "      display:flex;\n",
              "      gap: 12px;\n",
              "    }\n",
              "\n",
              "    .colab-df-convert {\n",
              "      background-color: #E8F0FE;\n",
              "      border: none;\n",
              "      border-radius: 50%;\n",
              "      cursor: pointer;\n",
              "      display: none;\n",
              "      fill: #1967D2;\n",
              "      height: 32px;\n",
              "      padding: 0 0 0 0;\n",
              "      width: 32px;\n",
              "    }\n",
              "\n",
              "    .colab-df-convert:hover {\n",
              "      background-color: #E2EBFA;\n",
              "      box-shadow: 0px 1px 2px rgba(60, 64, 67, 0.3), 0px 1px 3px 1px rgba(60, 64, 67, 0.15);\n",
              "      fill: #174EA6;\n",
              "    }\n",
              "\n",
              "    .colab-df-buttons div {\n",
              "      margin-bottom: 4px;\n",
              "    }\n",
              "\n",
              "    [theme=dark] .colab-df-convert {\n",
              "      background-color: #3B4455;\n",
              "      fill: #D2E3FC;\n",
              "    }\n",
              "\n",
              "    [theme=dark] .colab-df-convert:hover {\n",
              "      background-color: #434B5C;\n",
              "      box-shadow: 0px 1px 3px 1px rgba(0, 0, 0, 0.15);\n",
              "      filter: drop-shadow(0px 1px 2px rgba(0, 0, 0, 0.3));\n",
              "      fill: #FFFFFF;\n",
              "    }\n",
              "  </style>\n",
              "\n",
              "    <script>\n",
              "      const buttonEl =\n",
              "        document.querySelector('#df-224414bf-b161-45f5-8120-191a534105f4 button.colab-df-convert');\n",
              "      buttonEl.style.display =\n",
              "        google.colab.kernel.accessAllowed ? 'block' : 'none';\n",
              "\n",
              "      async function convertToInteractive(key) {\n",
              "        const element = document.querySelector('#df-224414bf-b161-45f5-8120-191a534105f4');\n",
              "        const dataTable =\n",
              "          await google.colab.kernel.invokeFunction('convertToInteractive',\n",
              "                                                    [key], {});\n",
              "        if (!dataTable) return;\n",
              "\n",
              "        const docLinkHtml = 'Like what you see? Visit the ' +\n",
              "          '<a target=\"_blank\" href=https://colab.research.google.com/notebooks/data_table.ipynb>data table notebook</a>'\n",
              "          + ' to learn more about interactive tables.';\n",
              "        element.innerHTML = '';\n",
              "        dataTable['output_type'] = 'display_data';\n",
              "        await google.colab.output.renderOutput(dataTable, element);\n",
              "        const docLink = document.createElement('div');\n",
              "        docLink.innerHTML = docLinkHtml;\n",
              "        element.appendChild(docLink);\n",
              "      }\n",
              "    </script>\n",
              "  </div>\n",
              "\n",
              "\n",
              "<div id=\"df-ac620f30-c152-40cd-922f-1a4b75a9b443\">\n",
              "  <button class=\"colab-df-quickchart\" onclick=\"quickchart('df-ac620f30-c152-40cd-922f-1a4b75a9b443')\"\n",
              "            title=\"Suggest charts\"\n",
              "            style=\"display:none;\">\n",
              "\n",
              "<svg xmlns=\"http://www.w3.org/2000/svg\" height=\"24px\"viewBox=\"0 0 24 24\"\n",
              "     width=\"24px\">\n",
              "    <g>\n",
              "        <path d=\"M19 3H5c-1.1 0-2 .9-2 2v14c0 1.1.9 2 2 2h14c1.1 0 2-.9 2-2V5c0-1.1-.9-2-2-2zM9 17H7v-7h2v7zm4 0h-2V7h2v10zm4 0h-2v-4h2v4z\"/>\n",
              "    </g>\n",
              "</svg>\n",
              "  </button>\n",
              "\n",
              "<style>\n",
              "  .colab-df-quickchart {\n",
              "      --bg-color: #E8F0FE;\n",
              "      --fill-color: #1967D2;\n",
              "      --hover-bg-color: #E2EBFA;\n",
              "      --hover-fill-color: #174EA6;\n",
              "      --disabled-fill-color: #AAA;\n",
              "      --disabled-bg-color: #DDD;\n",
              "  }\n",
              "\n",
              "  [theme=dark] .colab-df-quickchart {\n",
              "      --bg-color: #3B4455;\n",
              "      --fill-color: #D2E3FC;\n",
              "      --hover-bg-color: #434B5C;\n",
              "      --hover-fill-color: #FFFFFF;\n",
              "      --disabled-bg-color: #3B4455;\n",
              "      --disabled-fill-color: #666;\n",
              "  }\n",
              "\n",
              "  .colab-df-quickchart {\n",
              "    background-color: var(--bg-color);\n",
              "    border: none;\n",
              "    border-radius: 50%;\n",
              "    cursor: pointer;\n",
              "    display: none;\n",
              "    fill: var(--fill-color);\n",
              "    height: 32px;\n",
              "    padding: 0;\n",
              "    width: 32px;\n",
              "  }\n",
              "\n",
              "  .colab-df-quickchart:hover {\n",
              "    background-color: var(--hover-bg-color);\n",
              "    box-shadow: 0 1px 2px rgba(60, 64, 67, 0.3), 0 1px 3px 1px rgba(60, 64, 67, 0.15);\n",
              "    fill: var(--button-hover-fill-color);\n",
              "  }\n",
              "\n",
              "  .colab-df-quickchart-complete:disabled,\n",
              "  .colab-df-quickchart-complete:disabled:hover {\n",
              "    background-color: var(--disabled-bg-color);\n",
              "    fill: var(--disabled-fill-color);\n",
              "    box-shadow: none;\n",
              "  }\n",
              "\n",
              "  .colab-df-spinner {\n",
              "    border: 2px solid var(--fill-color);\n",
              "    border-color: transparent;\n",
              "    border-bottom-color: var(--fill-color);\n",
              "    animation:\n",
              "      spin 1s steps(1) infinite;\n",
              "  }\n",
              "\n",
              "  @keyframes spin {\n",
              "    0% {\n",
              "      border-color: transparent;\n",
              "      border-bottom-color: var(--fill-color);\n",
              "      border-left-color: var(--fill-color);\n",
              "    }\n",
              "    20% {\n",
              "      border-color: transparent;\n",
              "      border-left-color: var(--fill-color);\n",
              "      border-top-color: var(--fill-color);\n",
              "    }\n",
              "    30% {\n",
              "      border-color: transparent;\n",
              "      border-left-color: var(--fill-color);\n",
              "      border-top-color: var(--fill-color);\n",
              "      border-right-color: var(--fill-color);\n",
              "    }\n",
              "    40% {\n",
              "      border-color: transparent;\n",
              "      border-right-color: var(--fill-color);\n",
              "      border-top-color: var(--fill-color);\n",
              "    }\n",
              "    60% {\n",
              "      border-color: transparent;\n",
              "      border-right-color: var(--fill-color);\n",
              "    }\n",
              "    80% {\n",
              "      border-color: transparent;\n",
              "      border-right-color: var(--fill-color);\n",
              "      border-bottom-color: var(--fill-color);\n",
              "    }\n",
              "    90% {\n",
              "      border-color: transparent;\n",
              "      border-bottom-color: var(--fill-color);\n",
              "    }\n",
              "  }\n",
              "</style>\n",
              "\n",
              "  <script>\n",
              "    async function quickchart(key) {\n",
              "      const quickchartButtonEl =\n",
              "        document.querySelector('#' + key + ' button');\n",
              "      quickchartButtonEl.disabled = true;  // To prevent multiple clicks.\n",
              "      quickchartButtonEl.classList.add('colab-df-spinner');\n",
              "      try {\n",
              "        const charts = await google.colab.kernel.invokeFunction(\n",
              "            'suggestCharts', [key], {});\n",
              "      } catch (error) {\n",
              "        console.error('Error during call to suggestCharts:', error);\n",
              "      }\n",
              "      quickchartButtonEl.classList.remove('colab-df-spinner');\n",
              "      quickchartButtonEl.classList.add('colab-df-quickchart-complete');\n",
              "    }\n",
              "    (() => {\n",
              "      let quickchartButtonEl =\n",
              "        document.querySelector('#df-ac620f30-c152-40cd-922f-1a4b75a9b443 button');\n",
              "      quickchartButtonEl.style.display =\n",
              "        google.colab.kernel.accessAllowed ? 'block' : 'none';\n",
              "    })();\n",
              "  </script>\n",
              "</div>\n",
              "\n",
              "    </div>\n",
              "  </div>\n"
            ],
            "application/vnd.google.colaboratory.intrinsic+json": {
              "type": "dataframe",
              "variable_name": "data",
              "summary": "{\n  \"name\": \"data\",\n  \"rows\": 891,\n  \"fields\": [\n    {\n      \"column\": \"survived\",\n      \"properties\": {\n        \"dtype\": \"number\",\n        \"std\": 0,\n        \"min\": 0,\n        \"max\": 1,\n        \"num_unique_values\": 2,\n        \"samples\": [\n          1,\n          0\n        ],\n        \"semantic_type\": \"\",\n        \"description\": \"\"\n      }\n    },\n    {\n      \"column\": \"pclass\",\n      \"properties\": {\n        \"dtype\": \"number\",\n        \"std\": 0,\n        \"min\": 1,\n        \"max\": 3,\n        \"num_unique_values\": 3,\n        \"samples\": [\n          3,\n          1\n        ],\n        \"semantic_type\": \"\",\n        \"description\": \"\"\n      }\n    },\n    {\n      \"column\": \"sex\",\n      \"properties\": {\n        \"dtype\": \"category\",\n        \"num_unique_values\": 2,\n        \"samples\": [\n          \"female\",\n          \"male\"\n        ],\n        \"semantic_type\": \"\",\n        \"description\": \"\"\n      }\n    },\n    {\n      \"column\": \"age\",\n      \"properties\": {\n        \"dtype\": \"number\",\n        \"std\": 14.526497332334044,\n        \"min\": 0.42,\n        \"max\": 80.0,\n        \"num_unique_values\": 88,\n        \"samples\": [\n          0.75,\n          22.0\n        ],\n        \"semantic_type\": \"\",\n        \"description\": \"\"\n      }\n    },\n    {\n      \"column\": \"sibsp\",\n      \"properties\": {\n        \"dtype\": \"number\",\n        \"std\": 1,\n        \"min\": 0,\n        \"max\": 8,\n        \"num_unique_values\": 7,\n        \"samples\": [\n          1,\n          0\n        ],\n        \"semantic_type\": \"\",\n        \"description\": \"\"\n      }\n    },\n    {\n      \"column\": \"parch\",\n      \"properties\": {\n        \"dtype\": \"number\",\n        \"std\": 0,\n        \"min\": 0,\n        \"max\": 6,\n        \"num_unique_values\": 7,\n        \"samples\": [\n          0,\n          1\n        ],\n        \"semantic_type\": \"\",\n        \"description\": \"\"\n      }\n    },\n    {\n      \"column\": \"fare\",\n      \"properties\": {\n        \"dtype\": \"number\",\n        \"std\": 49.693428597180905,\n        \"min\": 0.0,\n        \"max\": 512.3292,\n        \"num_unique_values\": 248,\n        \"samples\": [\n          11.2417,\n          51.8625\n        ],\n        \"semantic_type\": \"\",\n        \"description\": \"\"\n      }\n    },\n    {\n      \"column\": \"embarked\",\n      \"properties\": {\n        \"dtype\": \"category\",\n        \"num_unique_values\": 3,\n        \"samples\": [\n          \"S\",\n          \"C\"\n        ],\n        \"semantic_type\": \"\",\n        \"description\": \"\"\n      }\n    },\n    {\n      \"column\": \"class\",\n      \"properties\": {\n        \"dtype\": \"category\",\n        \"num_unique_values\": 3,\n        \"samples\": [\n          \"Third\",\n          \"First\"\n        ],\n        \"semantic_type\": \"\",\n        \"description\": \"\"\n      }\n    },\n    {\n      \"column\": \"who\",\n      \"properties\": {\n        \"dtype\": \"category\",\n        \"num_unique_values\": 3,\n        \"samples\": [\n          \"man\",\n          \"woman\"\n        ],\n        \"semantic_type\": \"\",\n        \"description\": \"\"\n      }\n    },\n    {\n      \"column\": \"adult_male\",\n      \"properties\": {\n        \"dtype\": \"boolean\",\n        \"num_unique_values\": 2,\n        \"samples\": [\n          false,\n          true\n        ],\n        \"semantic_type\": \"\",\n        \"description\": \"\"\n      }\n    },\n    {\n      \"column\": \"deck\",\n      \"properties\": {\n        \"dtype\": \"category\",\n        \"num_unique_values\": 7,\n        \"samples\": [\n          \"C\",\n          \"E\"\n        ],\n        \"semantic_type\": \"\",\n        \"description\": \"\"\n      }\n    },\n    {\n      \"column\": \"embark_town\",\n      \"properties\": {\n        \"dtype\": \"category\",\n        \"num_unique_values\": 3,\n        \"samples\": [\n          \"Southampton\",\n          \"Cherbourg\"\n        ],\n        \"semantic_type\": \"\",\n        \"description\": \"\"\n      }\n    },\n    {\n      \"column\": \"alive\",\n      \"properties\": {\n        \"dtype\": \"category\",\n        \"num_unique_values\": 2,\n        \"samples\": [\n          \"yes\",\n          \"no\"\n        ],\n        \"semantic_type\": \"\",\n        \"description\": \"\"\n      }\n    },\n    {\n      \"column\": \"alone\",\n      \"properties\": {\n        \"dtype\": \"boolean\",\n        \"num_unique_values\": 2,\n        \"samples\": [\n          true,\n          false\n        ],\n        \"semantic_type\": \"\",\n        \"description\": \"\"\n      }\n    }\n  ]\n}"
            }
          },
          "metadata": {},
          "execution_count": 99
        }
      ]
    },
    {
      "cell_type": "markdown",
      "source": [
        "##データの説明と分析の目的\n",
        "\n",
        "このデータは、\n",
        "1912年に発生したタイタニック号の沈没事故の乗客情報のデータである。\n",
        "各項目の意味は以下の通りである。\n",
        "\n",
        "列名 | 型 | 意味\n",
        "---  | --- | --\n",
        "survived\t| カテゴリ | 生存フラグ（0=死亡、1=生存）\n",
        "pclass\t|  カテゴリ |チケットクラス（1stクラス、2ndクラス、3rdクラス）＊classと同じ内容のため用いない\n",
        "sex\t|  カテゴリ |性別（male：男性、female：女性）\n",
        "sge\t|  数値 |年齢\n",
        "sibsp\t|  数値 |タイタニックに同乗している兄弟/配偶者の数\n",
        "parch\t|  数値 |タイタニックに同乗している親/子供の数\n",
        "fare\t|  数値 |料金\n",
        "embarked\t|  カテゴリ |出港地（タイタニックへ乗った港）(C=Cherbourg、Q=Queenstown、S=Southampton)\n",
        "class |  カテゴリ |乗船クラス\n",
        "who | カテゴリ |男性 or 女性\n",
        "adult_male |  カテゴリ |成人男性であるかどうか\n",
        "deck |  カテゴリ |乗船していたデッキ\n",
        "embark_town |  カテゴリ |出港地 ＊embarked と同じ内容のため用いない\n",
        "alive |  カテゴリ |生存したかどうか ＊survived と同じ内容ため用いない\n",
        "alone |  カテゴリ |一人であったかどうか\n"
      ],
      "metadata": {
        "id": "t7UJupBadfY7"
      }
    },
    {
      "cell_type": "markdown",
      "source": [
        "このデータを学習用データとして用い、\n",
        "**乗客の生存を予測するAIモデル**を作成する。"
      ],
      "metadata": {
        "id": "ripSfbtwtp6q"
      }
    },
    {
      "cell_type": "markdown",
      "source": [
        "## 前処理\n",
        "欠損値の確認を行う。"
      ],
      "metadata": {
        "id": "sxvvu9emqE2m"
      }
    },
    {
      "cell_type": "code",
      "source": [
        "# 欠損値を確認する\n",
        "data.isnull().sum()"
      ],
      "metadata": {
        "id": "3mFcWAqQd0qe",
        "colab": {
          "base_uri": "https://localhost:8080/",
          "height": 554
        },
        "outputId": "a26fe95e-2c99-4f2b-b7f2-fea26f256563"
      },
      "execution_count": 89,
      "outputs": [
        {
          "output_type": "execute_result",
          "data": {
            "text/plain": [
              "survived         0\n",
              "pclass           0\n",
              "sex              0\n",
              "age            177\n",
              "sibsp            0\n",
              "parch            0\n",
              "fare             0\n",
              "embarked         2\n",
              "class            0\n",
              "who              0\n",
              "adult_male       0\n",
              "deck           688\n",
              "embark_town      2\n",
              "alive            0\n",
              "alone            0\n",
              "dtype: int64"
            ],
            "text/html": [
              "<div>\n",
              "<style scoped>\n",
              "    .dataframe tbody tr th:only-of-type {\n",
              "        vertical-align: middle;\n",
              "    }\n",
              "\n",
              "    .dataframe tbody tr th {\n",
              "        vertical-align: top;\n",
              "    }\n",
              "\n",
              "    .dataframe thead th {\n",
              "        text-align: right;\n",
              "    }\n",
              "</style>\n",
              "<table border=\"1\" class=\"dataframe\">\n",
              "  <thead>\n",
              "    <tr style=\"text-align: right;\">\n",
              "      <th></th>\n",
              "      <th>0</th>\n",
              "    </tr>\n",
              "  </thead>\n",
              "  <tbody>\n",
              "    <tr>\n",
              "      <th>survived</th>\n",
              "      <td>0</td>\n",
              "    </tr>\n",
              "    <tr>\n",
              "      <th>pclass</th>\n",
              "      <td>0</td>\n",
              "    </tr>\n",
              "    <tr>\n",
              "      <th>sex</th>\n",
              "      <td>0</td>\n",
              "    </tr>\n",
              "    <tr>\n",
              "      <th>age</th>\n",
              "      <td>177</td>\n",
              "    </tr>\n",
              "    <tr>\n",
              "      <th>sibsp</th>\n",
              "      <td>0</td>\n",
              "    </tr>\n",
              "    <tr>\n",
              "      <th>parch</th>\n",
              "      <td>0</td>\n",
              "    </tr>\n",
              "    <tr>\n",
              "      <th>fare</th>\n",
              "      <td>0</td>\n",
              "    </tr>\n",
              "    <tr>\n",
              "      <th>embarked</th>\n",
              "      <td>2</td>\n",
              "    </tr>\n",
              "    <tr>\n",
              "      <th>class</th>\n",
              "      <td>0</td>\n",
              "    </tr>\n",
              "    <tr>\n",
              "      <th>who</th>\n",
              "      <td>0</td>\n",
              "    </tr>\n",
              "    <tr>\n",
              "      <th>adult_male</th>\n",
              "      <td>0</td>\n",
              "    </tr>\n",
              "    <tr>\n",
              "      <th>deck</th>\n",
              "      <td>688</td>\n",
              "    </tr>\n",
              "    <tr>\n",
              "      <th>embark_town</th>\n",
              "      <td>2</td>\n",
              "    </tr>\n",
              "    <tr>\n",
              "      <th>alive</th>\n",
              "      <td>0</td>\n",
              "    </tr>\n",
              "    <tr>\n",
              "      <th>alone</th>\n",
              "      <td>0</td>\n",
              "    </tr>\n",
              "  </tbody>\n",
              "</table>\n",
              "</div><br><label><b>dtype:</b> int64</label>"
            ]
          },
          "metadata": {},
          "execution_count": 89
        }
      ]
    },
    {
      "cell_type": "markdown",
      "source": [
        "上の結果より、\n",
        "このデータには age, embarked, deck に欠損値が含まれていることがわかる。\n",
        "\n",
        "age は数値型の項目であることから、欠損した部分を平均値で埋めることにする。\n",
        "また embarked はカテゴリ型の項目であることから、\n",
        "最頻値を使い欠損値を埋めることとする。\n",
        "\n",
        "さらに、deck は欠損値が多数あるため、説明変数としては用いないこととする。\n"
      ],
      "metadata": {
        "id": "Mt96IBOHsQtM"
      }
    },
    {
      "cell_type": "code",
      "source": [
        "# age, embarked, の欠損値を埋める。\n",
        "# deck は欠損値が多数あるため説明変数には用いないことにする。\n",
        "\n",
        "# age は数値型なので、平均値で欠損値を埋める。\n",
        "data['age'] = data['age'].fillna(data['age'].mean())\n",
        "\n",
        "# カテゴリ型の項目は、最頻値で欠損値を埋める。\n",
        "data['embarked'] = data['embarked'].fillna(data['embarked'].mode()[0])\n",
        "data['embark_town'] = data['embark_town'].fillna(data['embark_town'].mode()[0])\n",
        "\n",
        "# 結果を確認\n",
        "data.isnull().sum()"
      ],
      "metadata": {
        "id": "_jzkQkrvd8kV",
        "colab": {
          "base_uri": "https://localhost:8080/",
          "height": 554
        },
        "outputId": "a0b79d33-831d-464e-ea3b-f81d01abc36b"
      },
      "execution_count": 115,
      "outputs": [
        {
          "output_type": "execute_result",
          "data": {
            "text/plain": [
              "survived         0\n",
              "pclass           0\n",
              "sex              0\n",
              "age              0\n",
              "sibsp            0\n",
              "parch            0\n",
              "fare             0\n",
              "embarked         0\n",
              "class            0\n",
              "who              0\n",
              "adult_male       0\n",
              "deck           688\n",
              "embark_town      0\n",
              "alive            0\n",
              "alone            0\n",
              "dtype: int64"
            ],
            "text/html": [
              "<div>\n",
              "<style scoped>\n",
              "    .dataframe tbody tr th:only-of-type {\n",
              "        vertical-align: middle;\n",
              "    }\n",
              "\n",
              "    .dataframe tbody tr th {\n",
              "        vertical-align: top;\n",
              "    }\n",
              "\n",
              "    .dataframe thead th {\n",
              "        text-align: right;\n",
              "    }\n",
              "</style>\n",
              "<table border=\"1\" class=\"dataframe\">\n",
              "  <thead>\n",
              "    <tr style=\"text-align: right;\">\n",
              "      <th></th>\n",
              "      <th>0</th>\n",
              "    </tr>\n",
              "  </thead>\n",
              "  <tbody>\n",
              "    <tr>\n",
              "      <th>survived</th>\n",
              "      <td>0</td>\n",
              "    </tr>\n",
              "    <tr>\n",
              "      <th>pclass</th>\n",
              "      <td>0</td>\n",
              "    </tr>\n",
              "    <tr>\n",
              "      <th>sex</th>\n",
              "      <td>0</td>\n",
              "    </tr>\n",
              "    <tr>\n",
              "      <th>age</th>\n",
              "      <td>0</td>\n",
              "    </tr>\n",
              "    <tr>\n",
              "      <th>sibsp</th>\n",
              "      <td>0</td>\n",
              "    </tr>\n",
              "    <tr>\n",
              "      <th>parch</th>\n",
              "      <td>0</td>\n",
              "    </tr>\n",
              "    <tr>\n",
              "      <th>fare</th>\n",
              "      <td>0</td>\n",
              "    </tr>\n",
              "    <tr>\n",
              "      <th>embarked</th>\n",
              "      <td>0</td>\n",
              "    </tr>\n",
              "    <tr>\n",
              "      <th>class</th>\n",
              "      <td>0</td>\n",
              "    </tr>\n",
              "    <tr>\n",
              "      <th>who</th>\n",
              "      <td>0</td>\n",
              "    </tr>\n",
              "    <tr>\n",
              "      <th>adult_male</th>\n",
              "      <td>0</td>\n",
              "    </tr>\n",
              "    <tr>\n",
              "      <th>deck</th>\n",
              "      <td>688</td>\n",
              "    </tr>\n",
              "    <tr>\n",
              "      <th>embark_town</th>\n",
              "      <td>0</td>\n",
              "    </tr>\n",
              "    <tr>\n",
              "      <th>alive</th>\n",
              "      <td>0</td>\n",
              "    </tr>\n",
              "    <tr>\n",
              "      <th>alone</th>\n",
              "      <td>0</td>\n",
              "    </tr>\n",
              "  </tbody>\n",
              "</table>\n",
              "</div><br><label><b>dtype:</b> int64</label>"
            ]
          },
          "metadata": {},
          "execution_count": 115
        }
      ]
    },
    {
      "cell_type": "markdown",
      "source": [
        "## 基礎集計\n",
        "\n",
        "どのような属性の乗客が生存率が高いのか（低いのか）を調べるため、\n",
        "基礎集計として以下のコードセルを実行する。\n",
        "なお、それぞれの結果を表示させるため print() を付与している。"
      ],
      "metadata": {
        "id": "YzV1YdeoqSYi"
      }
    },
    {
      "cell_type": "code",
      "source": [
        "# 表示する桁数を指定\n",
        "pd.options.display.float_format = '{:.2f}'.format\n",
        "\n",
        "# 基本的な統計情報を表示\n",
        "print(\"\\n数値型の項目に対する統計量の表示\")\n",
        "print( data.describe() )\n",
        "\n",
        "# 目的変数の確認（生存者数と死亡者数を集計）\n",
        "survived_counts = data['survived'].value_counts()\n",
        "print(\"\\n生存者数と死亡者数の集計:\")\n",
        "print(survived_counts)\n",
        "\n",
        "# 乗客のクラスごとの生存率を計算\n",
        "survival_rate_by_class = data.groupby('class')['survived'].mean()\n",
        "print(\"\\nクラスごとの生存率:\")\n",
        "print(survival_rate_by_class)\n",
        "\n",
        "# 性別ごとの生存率を計算\n",
        "survival_rate_by_gender = data.groupby('sex')['survived'].mean()\n",
        "print(\"\\n性別ごとの生存率:\")\n",
        "print(survival_rate_by_gender)\n"
      ],
      "metadata": {
        "id": "vQPkr1kMdog4",
        "colab": {
          "base_uri": "https://localhost:8080/"
        },
        "outputId": "7417a6e2-b82d-4bc0-ea0c-5a6538c7e34a"
      },
      "execution_count": 116,
      "outputs": [
        {
          "output_type": "stream",
          "name": "stdout",
          "text": [
            "\n",
            "数値型の項目に対する統計量の表示\n",
            "       survived  pclass    age  sibsp  parch   fare\n",
            "count    891.00  891.00 891.00 891.00 891.00 891.00\n",
            "mean       0.38    2.31  29.70   0.52   0.38  32.20\n",
            "std        0.49    0.84  13.00   1.10   0.81  49.69\n",
            "min        0.00    1.00   0.42   0.00   0.00   0.00\n",
            "25%        0.00    2.00  22.00   0.00   0.00   7.91\n",
            "50%        0.00    3.00  29.70   0.00   0.00  14.45\n",
            "75%        1.00    3.00  35.00   1.00   0.00  31.00\n",
            "max        1.00    3.00  80.00   8.00   6.00 512.33\n",
            "\n",
            "生存者数と死亡者数の集計:\n",
            "survived\n",
            "0    549\n",
            "1    342\n",
            "Name: count, dtype: int64\n",
            "\n",
            "クラスごとの生存率:\n",
            "class\n",
            "First    0.63\n",
            "Second   0.47\n",
            "Third    0.24\n",
            "Name: survived, dtype: float64\n",
            "\n",
            "性別ごとの生存率:\n",
            "sex\n",
            "female   0.74\n",
            "male     0.19\n",
            "Name: survived, dtype: float64\n"
          ]
        },
        {
          "output_type": "stream",
          "name": "stderr",
          "text": [
            "<ipython-input-116-41db54963eff>:14: FutureWarning: The default of observed=False is deprecated and will be changed to True in a future version of pandas. Pass observed=False to retain current behavior or observed=True to adopt the future default and silence this warning.\n",
            "  survival_rate_by_class = data.groupby('class')['survived'].mean()\n"
          ]
        }
      ]
    },
    {
      "cell_type": "markdown",
      "source": [
        "## ロジスティック回帰モデルの構築"
      ],
      "metadata": {
        "id": "ceIrckdNnYgt"
      }
    },
    {
      "cell_type": "markdown",
      "source": [
        "まず、数値型の項目のみでモデルを作成し精度を確認する。"
      ],
      "metadata": {
        "id": "BuKY6xQ8ndgT"
      }
    },
    {
      "cell_type": "code",
      "source": [
        "# 説明変数と目的変数を選択\n",
        "# 数値データのみで予測\n",
        "X = data[[ 'age', 'fare', 'sibsp', 'parch']]\n",
        "y = data[['survived']]"
      ],
      "metadata": {
        "id": "ulgIt8EvebAA"
      },
      "execution_count": 117,
      "outputs": []
    },
    {
      "cell_type": "code",
      "source": [
        "# データを学習用と検証用に分割\n",
        "X_train, X_val, y_train, y_val = train_test_split(X, y, test_size=0.2, random_state=42)\n",
        "\n",
        "# 説明変数の標準化の準備\n",
        "scaler = StandardScaler()\n",
        "scaler.fit(X_train)\n",
        "\n",
        "# 標準化後のものは別の変数にセットすると良い\n",
        "X_train_scaled = scaler.transform(X_train)\n",
        "X_val_scaled = scaler.transform(X_val)\n",
        "\n",
        "# ロジスティック回帰モデルの準備\n",
        "model = LogisticRegression()\n",
        "\n",
        "# モデルを訓練\n",
        "model.fit(X_train_scaled, y_train.values.ravel()  )\n",
        "\n",
        "# テストデータで予測\n",
        "y_pred = model.predict(X_val_scaled)\n",
        "\n",
        "# 精度を計算\n",
        "accuracy = accuracy_score(y_val, y_pred)\n",
        "print(f'Accuracy: {accuracy}')\n"
      ],
      "metadata": {
        "id": "q1GBsffU5UGn",
        "colab": {
          "base_uri": "https://localhost:8080/"
        },
        "outputId": "f6cc21c2-adf4-4df1-dbd5-31bd514428c2"
      },
      "execution_count": 118,
      "outputs": [
        {
          "output_type": "stream",
          "name": "stdout",
          "text": [
            "Accuracy: 0.6815642458100558\n"
          ]
        }
      ]
    },
    {
      "cell_type": "markdown",
      "source": [
        "### 回帰係数\n",
        "\n",
        "回帰係数の正負は、以下の意味合いがある。\n",
        "\n",
        "* 回帰係数が正：大きいほど 1 （生存） になりやすい。（小さいほど0になりやすい）\n",
        "* 回帰係数が負：大きいほど 0 （死亡） になりやすい。（小さいほど1になりやすい）"
      ],
      "metadata": {
        "id": "NtjCwWAUTo7p"
      }
    },
    {
      "cell_type": "code",
      "source": [
        "# 回帰係数を可視化\n",
        "sns.barplot(x=model.coef_[0], y=X.columns)\n",
        "# plt.show()"
      ],
      "metadata": {
        "colab": {
          "base_uri": "https://localhost:8080/",
          "height": 447
        },
        "id": "hKKGs7fv7_DS",
        "outputId": "f499d17b-63c2-4315-b0a9-e4f7fd9ac1de"
      },
      "execution_count": 119,
      "outputs": [
        {
          "output_type": "execute_result",
          "data": {
            "text/plain": [
              "<Axes: ylabel='None'>"
            ]
          },
          "metadata": {},
          "execution_count": 119
        },
        {
          "output_type": "display_data",
          "data": {
            "text/plain": [
              "<Figure size 640x480 with 1 Axes>"
            ],
            "image/png": "[encoded data removed]"
          },
          "metadata": {}
        }
      ]
    },
    {
      "cell_type": "markdown",
      "source": [
        "## カテゴリ型の項目も追加してモデルを構築"
      ],
      "metadata": {
        "id": "dzOB0cwfvJfn"
      }
    },
    {
      "cell_type": "code",
      "source": [
        "# カテゴリ変数をOne Hot Encoding\n",
        "data_encoded = pd.get_dummies(data[['embarked', 'class', 'who', 'adult_male', 'alone']], drop_first=True)\n",
        "\n",
        "# 説明変数と目的変数を設定\n",
        "X = pd.concat([data[['age', 'fare', 'sibsp', 'parch']], data_encoded], axis=1)\n",
        "y = data['survived']"
      ],
      "metadata": {
        "id": "OzUk33bJn2j1"
      },
      "execution_count": 120,
      "outputs": []
    },
    {
      "cell_type": "code",
      "source": [
        "# データを訓練セットとテストセットに分割\n",
        "X_train, X_val, y_train, y_val = train_test_split(X, y, test_size=0.2, random_state=42)\n",
        "\n",
        "# 準備のための手順\n",
        "scaler = StandardScaler()\n",
        "scaler.fit(X_train)\n",
        "\n",
        "# 標準化後のものは別の変数にセットすると良い\n",
        "X_train_scaled = scaler.transform(X_train)\n",
        "X_val_scaled = scaler.transform(X_val)\n",
        "\n",
        "# ロジスティック回帰モデルを作成\n",
        "model = LogisticRegression()\n",
        "\n",
        "# モデルを訓練\n",
        "model.fit(X_train_scaled, y_train)\n",
        "\n",
        "# テストデータで予測\n",
        "y_pred = model.predict(X_val_scaled)\n",
        "\n",
        "# 精度を計算\n",
        "accuracy = accuracy_score(y_val, y_pred)\n",
        "print(f'Accuracy: {accuracy}')"
      ],
      "metadata": {
        "id": "7q1cK6gYe_LF",
        "colab": {
          "base_uri": "https://localhost:8080/"
        },
        "outputId": "a1d96199-6fb0-4d5b-f95c-c1fd51fa8439"
      },
      "execution_count": 122,
      "outputs": [
        {
          "output_type": "stream",
          "name": "stdout",
          "text": [
            "Accuracy: 0.8100558659217877\n"
          ]
        }
      ]
    },
    {
      "cell_type": "markdown",
      "source": [
        "カテゴリ項目を説明変数に加えることで、精度が向上したことが分かる。"
      ],
      "metadata": {
        "id": "Eoi4x14f_LU2"
      }
    },
    {
      "cell_type": "code",
      "source": [
        "# 特徴量の重要度を可視化\n",
        "sns.barplot(x=model.coef_[0], y=X.columns)\n",
        "plt.show()"
      ],
      "metadata": {
        "colab": {
          "base_uri": "https://localhost:8080/",
          "height": 429
        },
        "id": "d5tZtxJb9YBA",
        "outputId": "28e58649-2b0b-4bfd-94b8-26b89833e848"
      },
      "execution_count": 123,
      "outputs": [
        {
          "output_type": "display_data",
          "data": {
            "text/plain": [
              "<Figure size 640x480 with 1 Axes>"
            ],
            "image/png": "[encoded data removed]"
          },
          "metadata": {}
        }
      ]
    },
    {
      "cell_type": "markdown",
      "source": [
        "## ハイパーパラメータチューニング"
      ],
      "metadata": {
        "id": "ZjFF5JlDMVbs"
      }
    },
    {
      "cell_type": "markdown",
      "source": [
        "## 正則化パラメータ\n",
        "\n",
        "ロジスティック回帰モデルには、\n",
        "「正則化パラメータ」と呼ばれる値を設定する必要があり、\n",
        "準備段階で、例えば以下のように指定する。\n",
        "\n",
        "```\n",
        "model = LogisticRegression(C=1.0)\n",
        "```\n",
        "\n",
        "C=1.0\n",
        "の部分を変更することで精度をより向上させることが可能である。\n",
        "\n",
        "\n",
        "なお、指定を省略した場合には、\n",
        "デフォルトとして C=1.0 が指定される。\n",
        "\n",
        "\n",
        "正則化パラメータとして、どの値が適切かを調べるために\n",
        "**グリッドサーチ**と呼ばれる方法がある。\n",
        "\n",
        "まず、正則化パラメータの候補を、\n",
        "例えば、以下のように辞書型の変数を設定する。\n",
        "\n",
        "```\n",
        "param_grid = {'C': [ 0.1, 0.15, 0.2, 0.3, 1, 2]}\n",
        "```\n",
        "正則化パラメータの候補は正の値で、\n",
        "多くの場合は 0.1 ～ 100の範囲とすると良いことが知られている。\n",
        "\n",
        "このように設定した候補の中から、\n",
        "最も良いハイパーパラメータを選び出す方法を**グリッドサーチ**と呼び、\n",
        "そためのモジュールが用意されている。\n",
        "\n",
        "モジュールは、以下のようにインポートする。\n",
        "```\n",
        "from sklearn.model_selection import GridSearchCV\n",
        "```\n",
        "\n",
        "候補を設定したら、GridSearchCV を以下のように初期化し、\n",
        "その後 fit() で計算を実行する。\n",
        "\n",
        "```\n",
        "#グリッドサーチの準備\n",
        "grid_search = GridSearchCV(LogisticRegression(), param_grid, cv=5)\n",
        "\n",
        "#グリッドサーチの実行\n",
        "grid_search.fit(X_train_scaled, y_train.values.ravel() )\n",
        "```\n",
        "\n",
        "実行した結果、最適なハイパーパラメータのモデルは以下の変数に格納される。\n",
        "```\n",
        "grid_search.best_estimator_\n",
        "```"
      ],
      "metadata": {
        "id": "tgp-VQa-7uy2"
      }
    },
    {
      "cell_type": "code",
      "source": [
        "# 必要なライブラリをインポート\n",
        "from sklearn.model_selection import GridSearchCV\n",
        "\n",
        "# パラメータグリッドを設定\n",
        "param_grid = {'C': [ 0.1, 0.15, 0.2, 0.3, 0.5]}\n",
        "\n",
        "# GridSearchCVを初期化\n",
        "grid_search = GridSearchCV(LogisticRegression(), param_grid, cv=5)\n",
        "\n",
        "# グリッドサーチを実行\n",
        "grid_search.fit(X_train_scaled, y_train.values.ravel() )\n",
        "\n",
        "# 最適なハイパーパラメータのモデルでテストデータを評価\n",
        "best_model = grid_search.best_estimator_\n",
        "best_model.fit(X_train_scaled, y_train.values.ravel() )\n",
        "\n",
        "y_pred = best_model.predict(X_val_scaled)\n",
        "accuracy = accuracy_score(y_val, y_pred)\n",
        "print(f\"Validation set accuracy: {accuracy}\")\n"
      ],
      "metadata": {
        "id": "n6sbG3umqaqZ",
        "colab": {
          "base_uri": "https://localhost:8080/"
        },
        "outputId": "c50c5269-186f-4bc6-ab61-72de721f0915"
      },
      "execution_count": 124,
      "outputs": [
        {
          "output_type": "stream",
          "name": "stdout",
          "text": [
            "Validation set accuracy: 0.8156424581005587\n"
          ]
        }
      ]
    },
    {
      "cell_type": "markdown",
      "source": [
        "grid_search.best_params_ には、最適なパラメータが格納されている。"
      ],
      "metadata": {
        "id": "pYyhP8WkW-NI"
      }
    },
    {
      "cell_type": "code",
      "source": [
        "# 最適なパラメータとスコアを出力\n",
        "print(f\"Best parameters: {grid_search.best_params_}\")\n",
        "# print(f\"Best cross-validation score: {grid_search.best_score_}\")"
      ],
      "metadata": {
        "id": "OJHSUT9GWTlq",
        "colab": {
          "base_uri": "https://localhost:8080/"
        },
        "outputId": "b206469e-e6f1-44c6-a194-eeacd4166d71"
      },
      "execution_count": 126,
      "outputs": [
        {
          "output_type": "stream",
          "name": "stdout",
          "text": [
            "Best parameters: {'C': 0.15}\n"
          ]
        }
      ]
    },
    {
      "cell_type": "code",
      "source": [
        "#@title グリッドサーチの内部処理\n",
        "scores = grid_search.cv_results_['mean_test_score']\n",
        "plt.figure(figsize=(10, 6))\n",
        "sns.lineplot(x=param_grid['C'], y=scores)\n",
        "plt.xlabel('C (Inverse of regularization strength)')\n",
        "plt.ylabel('Mean Test Score')\n",
        "plt.title('Grid Search の様子')\n",
        "plt.grid(True)\n",
        "plt.show()"
      ],
      "metadata": {
        "id": "M2kdwcnChhPA",
        "cellView": "form"
      },
      "execution_count": null,
      "outputs": []
    },
    {
      "cell_type": "markdown",
      "source": [
        "---\n",
        "---\n",
        "---\n"
      ],
      "metadata": {
        "id": "eb2GYJAz5z_Q"
      }
    },
    {
      "cell_type": "markdown",
      "source": [
        "# 回帰モデルに対するハイパーパラメータの調整\n"
      ],
      "metadata": {
        "id": "s2RJbJOorRlC"
      }
    },
    {
      "cell_type": "markdown",
      "source": [
        "回帰モデルに対してもハイパーパラメータチューニングを行い精度の向上を図ることが可能である。\n",
        "ここでは、Ridge 回帰と呼ばれる方法を使い、\n",
        "ハイパーパラメータチューニングを行う。"
      ],
      "metadata": {
        "id": "CnotTrmFQUAM"
      }
    },
    {
      "cell_type": "markdown",
      "source": [
        "## Tipsデータ\n",
        "\n",
        "ここでは Tipsデータを用いて説明を行う。\n",
        "Tips データは、\n",
        "seaborn パッケージに含まれているデモデータで、\n",
        "以下のコードセルを実行することで\n",
        "変数 df に読み込まれる。"
      ],
      "metadata": {
        "id": "yPWzW72gRQVJ"
      }
    },
    {
      "cell_type": "code",
      "source": [
        "from seaborn import load_dataset\n",
        "# データの読み込み\n",
        "df_tips = sns.load_dataset('tips')"
      ],
      "metadata": {
        "id": "jgL1kI3dRwoU"
      },
      "execution_count": null,
      "outputs": []
    },
    {
      "cell_type": "markdown",
      "source": [
        "Tipsデータの概要を info で確認する。"
      ],
      "metadata": {
        "id": "ZSKsBLSDSFzk"
      }
    },
    {
      "cell_type": "code",
      "source": [
        "df_tips.info()"
      ],
      "metadata": {
        "id": "pX9aUCInSMMb"
      },
      "execution_count": null,
      "outputs": []
    },
    {
      "cell_type": "markdown",
      "metadata": {
        "id": "JG_9cxNiPCDr"
      },
      "source": [
        "### データの説明\n",
        "このデータは、あるレストランでのチップ金額（tip）のデータである。\n",
        "\n",
        "主な項目は以下の通り。\n",
        "\n",
        "項目 | 型 | 説明\n",
        "-- | -- | --\n",
        "total_bill | 数値 | 食事代の総額\n",
        "tip        | 数値 | チップの額\n",
        "sex        | カテゴリ | 性別\n",
        "smoker     | カテゴリ | 喫煙者かどうか\n",
        "day        | カテゴリ | 曜日\n",
        "time       | カテゴリ | 時間帯が昼か夜か\n",
        "size       | 数値 | 顧客サイズ（グループの人数）\n",
        "\n",
        "\n",
        "このデータを使い、チップ金額を予測する回帰モデルを作ってみる。\n",
        "すなわち\n",
        "\n",
        "* 目的変数：チップ金額（tip）\n",
        "* 説明変数：食事代の総額（total_bill）、グループの人数（size）、性別（sex）、など\n",
        "\n",
        "である。"
      ]
    },
    {
      "cell_type": "markdown",
      "source": [
        "データの先頭を表示する。"
      ],
      "metadata": {
        "id": "-MKLzrJtUflf"
      }
    },
    {
      "cell_type": "code",
      "execution_count": null,
      "metadata": {
        "id": "jCEQH1KZPCDr"
      },
      "outputs": [],
      "source": [
        "# データの先頭を表示して確認\n",
        "df_tips.head()"
      ]
    },
    {
      "cell_type": "markdown",
      "source": [
        "## 分析用データの準備\n",
        "\n",
        "データの準備として、以下の処理を行う。\n",
        "\n",
        "\n",
        "*   カテゴリ項目を One-Hot エンコーディング を使い数値型の項目変換\n",
        "*   変数の標準化\n",
        "\n",
        "以下のコードセルを実行することで、標準化した説明変数が\n",
        "X_trans にセットされる。"
      ],
      "metadata": {
        "id": "Sqxx25TeRHHt"
      }
    },
    {
      "cell_type": "code",
      "source": [
        "# 標準化に必要なライブラリーのインポート\n",
        "from sklearn.preprocessing import StandardScaler\n",
        "\n",
        "# データの読み込み\n",
        "plt.tips = sns.load_dataset('tips')\n",
        "\n",
        "# カテゴリ変数をOne-Hotエンコーディング\n",
        "encoded_df_tips = pd.get_dummies(df_tips[['sex', 'smoker', 'day', 'time']])\n",
        "\n",
        "# エンコードされたデータと元のデータを結合\n",
        "df_tips = pd.concat([df_tips, encoded_df_tips], axis=1)\n",
        "\n",
        "# 説明変数 X と 目的変数 y をセットする\n",
        "X = df_tips[['total_bill', 'size', 'sex_Male', 'sex_Female', 'smoker_Yes', 'smoker_No', 'day_Thur', 'day_Fri', 'day_Sat', 'day_Sun', 'time_Lunch', 'time_Dinner']]\n",
        "y = df_tips['tip']\n",
        "\n",
        "# 標準化の実施\n",
        "scaler = StandardScaler()\n",
        "scaler.fit(X)\n",
        "# 標準化後のデータを X_trans\n",
        "X_trans = scaler.transform(X)\n"
      ],
      "metadata": {
        "id": "E6kmE2ezrRlD"
      },
      "execution_count": null,
      "outputs": []
    },
    {
      "cell_type": "markdown",
      "source": [
        "### Ridge 回帰\n",
        "\n",
        "回帰モデルの一つである Ridge 回帰を使い、\n",
        "ハイパーパラメータチューニングを行う。\n",
        "\n",
        "Ridge 回帰には、「正則化パラメータ」があり、\n",
        "例えば、以下のように指定する。\n",
        "```\n",
        "model = Ridge( alpha =1.0 )\n",
        "```\n",
        "alpha に様々な数値を設定することで精度をより向上させることが可能である。\n",
        "\n",
        "以下のコードセルで、\n",
        "正則化パラメータ―を変化させると、精度が変化することを確認せよ。\n"
      ],
      "metadata": {
        "id": "coN5tSwAUQrR"
      }
    },
    {
      "cell_type": "code",
      "source": [
        "# 必要なライブラリをインポート\n",
        "from sklearn.linear_model import Ridge\n",
        "\n",
        "# データを学習データと検証データに分割\n",
        "X_train, X_validate, y_train, y_validate = train_test_split(X_trans, y, test_size=0.2, random_state=42)\n",
        "\n",
        "model = Ridge(alpha=1)\n",
        "model.fit(X_train, y_train.values.ravel() )\n",
        "\n",
        "# 評価データで精度を確認する\n",
        "y_pred = model.predict(X_validate)\n",
        "# 決定係数による評価（R2）\n",
        "r2 = r2_score(y_validate, y_pred)\n",
        "print('R2: ', r2)"
      ],
      "metadata": {
        "id": "mgUBjkk-psEP"
      },
      "execution_count": null,
      "outputs": []
    },
    {
      "cell_type": "markdown",
      "source": [
        "RidgeCV というモジュールを用いることで、\n",
        "以下のような簡潔なコードでハイパーパラメータチューニングを行うことが可能である。\n"
      ],
      "metadata": {
        "id": "ikatnCyp0-x0"
      }
    },
    {
      "cell_type": "code",
      "source": [
        "from sklearn.linear_model import RidgeCV\n",
        "\n",
        "# データを学習データと検証データに分割\n",
        "X_train, X_validate, y_train, y_validate = train_test_split(X_trans, y, test_size=0.2, random_state=42)\n",
        "\n",
        "model = RidgeCV()\n",
        "model.fit(X_train, y_train)\n",
        "\n",
        "# 評価データで精度を確認する\n",
        "# 決定係数による評価（R2）\n",
        "r2 = model.score(X_validate, y_validate)\n",
        "print('R2: ', r2)"
      ],
      "metadata": {
        "id": "IgfQES3-r-6w"
      },
      "execution_count": null,
      "outputs": []
    },
    {
      "cell_type": "markdown",
      "source": [
        "リッジ回帰をさらに複雑化した回帰手法に、\n",
        "エラスティックネット（ElasticNet）がある。\n",
        "以下のように使う。"
      ],
      "metadata": {
        "id": "zbVBP-AOA3UC"
      }
    },
    {
      "cell_type": "code",
      "source": [
        "from sklearn.linear_model import ElasticNetCV\n",
        "\n",
        "# データを学習データと検証データに分割\n",
        "X_train, X_validate, y_train, y_validate = train_test_split(X_trans, y, test_size=0.2, random_state=42)\n",
        "\n",
        "model = ElasticNetCV()\n",
        "model.fit(X_train, y_train)\n",
        "\n",
        "# 評価データで精度を確認する\n",
        "# 決定係数による評価（R2）\n",
        "r2 = model.score(X_validate, y_validate)\n",
        "print('R2: ', r2)"
      ],
      "metadata": {
        "id": "aPLF-hoO37Se"
      },
      "execution_count": null,
      "outputs": []
    },
    {
      "cell_type": "markdown",
      "source": [
        "この例では、さらに精度の高いモデルが構築できた。\n",
        "\n"
      ],
      "metadata": {
        "id": "W2L0Ean7BVRX"
      }
    },
    {
      "cell_type": "markdown",
      "source": [
        "## その他の回帰モデル\n",
        "\n",
        "回帰モデルには、ここでは扱わなかった多くのモデルがある。\n",
        "各自で以下のサイトを参照し、実際に使ってみる。\n",
        "\n",
        "https://scikit-learn.org/1.5/api/sklearn.linear_model.html"
      ],
      "metadata": {
        "id": "ekWux6lPB2bs"
      }
    },
    {
      "cell_type": "markdown",
      "source": [
        "# その他の参考となるサイト\n",
        "\n",
        "インターネット上には、様々なデータが公開されている。\n",
        "各自で予測モデル構築に取り組んでみる。\n",
        "\n",
        "* https://www.kaggle.com/datasets/jsphyg/weather-dataset-rattle-package\n",
        "\n",
        "* https://www.kaggle.com/datasets/yeanzc/telco-customer-churn-ibm-dataset\n"
      ],
      "metadata": {
        "id": "XZNhEBfLmwHZ"
      }
    }
  ]
}