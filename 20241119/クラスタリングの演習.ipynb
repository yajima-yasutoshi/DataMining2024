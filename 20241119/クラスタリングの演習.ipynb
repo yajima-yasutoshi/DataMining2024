{
  "nbformat": 4,
  "nbformat_minor": 0,
  "metadata": {
    "colab": {
      "provenance": [],
      "collapsed_sections": [
        "8zFBC9q961jw",
        "ZcX_E1F-64Qu"
      ],
      "toc_visible": true,
      "include_colab_link": true
    },
    "kernelspec": {
      "name": "python3",
      "display_name": "Python 3"
    },
    "language_info": {
      "name": "python"
    }
  },
  "cells": [
    {
      "cell_type": "markdown",
      "metadata": {
        "id": "view-in-github",
        "colab_type": "text"
      },
      "source": [
        "<a href=\"https://colab.research.google.com/github/yajima-yasutoshi/DataMining2024/blob/main/20241119/%E3%82%AF%E3%83%A9%E3%82%B9%E3%82%BF%E3%83%AA%E3%83%B3%E3%82%B0%E3%81%AE%E6%BC%94%E7%BF%92.ipynb\" target=\"_parent\"><img src=\"https://colab.research.google.com/assets/colab-badge.svg\" alt=\"Open In Colab\"/></a>"
      ]
    },
    {
      "cell_type": "markdown",
      "source": [
        "# クラスタリング演習\n"
      ],
      "metadata": {
        "id": "BYuJwEL85_Wu"
      }
    },
    {
      "cell_type": "markdown",
      "source": [
        "## データマイニング第8回（20241119）\n",
        "https://github.com/yajima-yasutoshi/DataMining2024/tree/main/20241119\n"
      ],
      "metadata": {
        "id": "PCj8ZPJWtKu2"
      }
    },
    {
      "cell_type": "markdown",
      "source": [
        "#本日の講義の目的\n",
        "クラスタリング手法に関する演習を行う。\n"
      ],
      "metadata": {
        "id": "Y-IJ_zCa6Vd3"
      }
    },
    {
      "cell_type": "markdown",
      "source": [
        "# 準備"
      ],
      "metadata": {
        "id": "8zFBC9q961jw"
      }
    },
    {
      "cell_type": "code",
      "source": [
        "# インストール\n",
        "!pip install japanize-matplotlib"
      ],
      "metadata": {
        "id": "g9TNYrU66eru"
      },
      "execution_count": null,
      "outputs": []
    },
    {
      "cell_type": "markdown",
      "source": [
        "## 必要なライブラリーのインポート"
      ],
      "metadata": {
        "id": "ZcX_E1F-64Qu"
      }
    },
    {
      "cell_type": "code",
      "source": [
        "# 必要なライブラリのインポート\n",
        "import pandas as pd\n",
        "import numpy as np\n",
        "import matplotlib.pyplot as plt\n",
        "import japanize_matplotlib\n",
        "import seaborn as sns"
      ],
      "metadata": {
        "id": "yyL6VVt3KRLI"
      },
      "execution_count": null,
      "outputs": []
    },
    {
      "cell_type": "markdown",
      "source": [
        "# Wineデータをつかった例\n",
        "\n",
        "今回の演習では、sklearn に組み込まれているサンプルデータを用いる。\n",
        "データの読み込みは、以下のように行う。"
      ],
      "metadata": {
        "id": "BpxjJtaORl_q"
      }
    },
    {
      "cell_type": "code",
      "source": [
        "from sklearn.datasets import load_wine\n",
        "# データの読み込み\n",
        "wine = load_wine()\n",
        "df = pd.DataFrame(wine.data, columns=wine.feature_names)"
      ],
      "metadata": {
        "id": "T3rUNpTkRmtL"
      },
      "execution_count": null,
      "outputs": []
    },
    {
      "cell_type": "markdown",
      "source": [
        "データの確認を行う。主な確認ポイントは以下の通りである。\n",
        "\n",
        "\n",
        "*   レコード数\n",
        "*   項目数\n",
        "*   各項目の型\n",
        "*   欠損値の有無\n",
        "*   外れ値（異常値）の有無\n"
      ],
      "metadata": {
        "id": "F2CmfaBZUkt5"
      }
    },
    {
      "cell_type": "code",
      "source": [
        "df.info()"
      ],
      "metadata": {
        "id": "poF1vlELR_AD"
      },
      "execution_count": null,
      "outputs": []
    },
    {
      "cell_type": "markdown",
      "source": [
        "## 利用するデータ概要\n",
        "\n",
        "Wineデータセットは、イタリアの同じ地域で栽培された3種類のワインに\n",
        "含まれる成分を測定したデータ。\n",
        "13の項目がある。\n",
        "\n",
        "| 項目                          | 説明                                       |\n",
        "|---------------------------------|--------------------------------------------|\n",
        "| Alcohol（アルコール）           | ワインに含まれるアルコールの量。           |\n",
        "| Malic Acid（リンゴ酸）          | ワインに含まれるリンゴ酸の量。             |\n",
        "| Ash（灰分）                     | ワインの灰分の量。                         |\n",
        "| Alcalinity of Ash（灰分のアルカリ度） | 灰分のアルカリ度。                   |\n",
        "| Magnesium（マグネシウム）       | ワインに含まれるマグネシウムの量。         |\n",
        "| Total Phenols（総フェノール）   | ワインに含まれるフェノール類の総量。       |\n",
        "| Flavanoids（フラバノイド）      | ワインに含まれるフラバノイドの量。         |\n",
        "| Nonflavanoid Phenols（非フラバノイドフェノール） | ワインに含まれる非フラバノイドフェノールの量。 |\n",
        "| Proanthocyanins（プロアントシアニン） | ワインに含まれるプロアントシアニンの量。 |\n",
        "| Color Intensity（色の強度）     | ワインの色の強度。                         |\n",
        "| Hue（色相）                     | ワインの色相。                             |\n",
        "| OD280/OD315 of Diluted Wines（希釈ワインのOD280/OD315） | 希釈されたワインのOD280/OD315の比率。 |\n",
        "| Proline（プロリン）             | ワインに含まれるプロリンの量。             |"
      ],
      "metadata": {
        "id": "dLKZsXKXRmtL"
      }
    },
    {
      "cell_type": "markdown",
      "source": [
        "### 項目の選択\n",
        "\n",
        "クラスタリングの処理を簡単にするため項目を限定する。"
      ],
      "metadata": {
        "id": "si3NmQpZ5-aC"
      }
    },
    {
      "cell_type": "code",
      "source": [
        "df = pd.DataFrame(wine.data, columns=wine.feature_names)\n",
        "# 相関行列を計算\n",
        "correlation_matrix = df.corr().abs()\n",
        "# sns.heatmap(correlation_matrix, cmap= sns.color_palette('coolwarm', 10), annot=True,fmt='.2f', vmin = -1, vmax = 1)\n",
        "\n",
        "# 相関が0.6以上の変数を取得\n",
        "high_corr_var = {}\n",
        "for i in range(len(correlation_matrix.columns)):\n",
        "    for j in range(i):\n",
        "        if abs(correlation_matrix.iloc[i, j]) >= 0.6:\n",
        "            colname = correlation_matrix.columns[i]\n",
        "            high_corr_var[colname] = abs(correlation_matrix.iloc[i, j])\n",
        "\n",
        "# 相関性の高い変数を削除\n",
        "df.drop(columns=high_corr_var.keys(), inplace=True)\n",
        "\n",
        "# 結果の表示\n",
        "# print(\"Remaining columns after removing highly correlated variables:\")\n",
        "print(df.columns)\n",
        "df.info()"
      ],
      "metadata": {
        "id": "J4OtrtNsRmtM"
      },
      "execution_count": null,
      "outputs": []
    },
    {
      "cell_type": "markdown",
      "source": [
        "以降では、上記の9項目に限定して行う。"
      ],
      "metadata": {
        "id": "4vceJk9QURQj"
      }
    },
    {
      "cell_type": "markdown",
      "source": [
        "### 基本統計量を得る"
      ],
      "metadata": {
        "id": "9bYv0qI-R-Pt"
      }
    },
    {
      "cell_type": "markdown",
      "source": [
        "数値型の項目の場合、最小値や最大値、平均や標準偏差といった数値を**基本統計量**\n",
        "と呼び、分析の前には必ず確認する必要がある。"
      ],
      "metadata": {
        "id": "dtc2rzGpK7kd"
      }
    },
    {
      "cell_type": "code",
      "source": [
        "df.describe()"
      ],
      "metadata": {
        "id": "eCxgayv8LpI-"
      },
      "execution_count": null,
      "outputs": []
    },
    {
      "cell_type": "markdown",
      "source": [
        "### 数値型項目に関する確認事項\n",
        "\n",
        "*   分布の形状（山が一つか？）、左右の偏りの確認。\n",
        "*   分布の端が極端に離れていないか。外れ値がある可能性。\n",
        "*   変数間の相関"
      ],
      "metadata": {
        "id": "Q4aMrR536QUE"
      }
    },
    {
      "cell_type": "markdown",
      "source": [
        "### 外れ値（異常値）の確認\n",
        "\n",
        "外れ値（異常値）とは、極端に大きな値や小さな値のことである。箱ひげ図を描くことで視覚的に確認ができる。"
      ],
      "metadata": {
        "id": "Vi88T2v_NBzU"
      }
    },
    {
      "cell_type": "markdown",
      "source": [
        "項目 alcohol に外れ値があるか、箱ひげ図を描いて確認する。下のxxxx部分は何か？"
      ],
      "metadata": {
        "id": "-GkYIHcRLw9b"
      }
    },
    {
      "cell_type": "code",
      "source": [
        "sns.xxxxx(df['alcohol'])"
      ],
      "metadata": {
        "id": "VQkgdzOyL2aW"
      },
      "execution_count": null,
      "outputs": []
    },
    {
      "cell_type": "markdown",
      "source": [
        "項目 malic_acid に外れ値があるか、箱ひげ図を描いて確認する。"
      ],
      "metadata": {
        "id": "KgIMUNftMbFc"
      }
    },
    {
      "cell_type": "code",
      "source": [
        "sns.xxxx(df['malic_acid'])"
      ],
      "metadata": {
        "id": "j59oZCajMSRI"
      },
      "execution_count": null,
      "outputs": []
    },
    {
      "cell_type": "markdown",
      "source": [
        "箱ひげ図の上の横棒の値は、\n",
        "\n",
        "> 箱の上＋1.5×箱の長さ\n",
        "\n",
        "である。下の横棒は、\n",
        "\n",
        "> 箱の下ー1.5×箱の長さ\n",
        "\n",
        "また、箱の上は第三四分位、箱の下は第一四分位に相当する。"
      ],
      "metadata": {
        "id": "0wj6f9NhOCwF"
      }
    },
    {
      "cell_type": "markdown",
      "source": [
        "項目 malic_acid の上の横棒の値を計算する。"
      ],
      "metadata": {
        "id": "5ePo_a3_O-Fv"
      }
    },
    {
      "cell_type": "code",
      "source": [
        "q3 = df['malic_acid'].quantile(0.75)\n",
        "q1 = df['malic_acid'].quantile(0.25)\n",
        "\n",
        "# 以下続きを考え、上の横棒の値を計算する"
      ],
      "metadata": {
        "id": "AwRgbjjHNb3K"
      },
      "execution_count": null,
      "outputs": []
    },
    {
      "cell_type": "markdown",
      "source": [
        "malic_acid が上で求めた数値を超えるレコードを表示する。"
      ],
      "metadata": {
        "id": "0yWY4gY7OF2p"
      }
    },
    {
      "cell_type": "code",
      "source": [
        "df[df['malic_acid'] > xxxxx]"
      ],
      "metadata": {
        "id": "sPPNK8KsnSnW"
      },
      "execution_count": null,
      "outputs": []
    },
    {
      "cell_type": "markdown",
      "source": [
        "あるいは、malic_acid の値で降順でソートしてもよい。"
      ],
      "metadata": {
        "id": "pX3MbtRFOfWz"
      }
    },
    {
      "cell_type": "code",
      "source": [
        "df.sort_values( xxxxx )"
      ],
      "metadata": {
        "id": "xy5T5zaQnbDX"
      },
      "execution_count": null,
      "outputs": []
    },
    {
      "cell_type": "markdown",
      "source": [
        "なお、以降の分析は外れ値の除外は**行わず**に実行する。"
      ],
      "metadata": {
        "id": "K_t4NvvFPkYT"
      }
    },
    {
      "cell_type": "markdown",
      "source": [
        "標準化を実施する。"
      ],
      "metadata": {
        "id": "zooykjvwO_RN"
      }
    },
    {
      "cell_type": "code",
      "source": [
        "# 標準化に必要なライブラリーのインポート\n",
        "from sklearn.preprocessing import StandardScaler\n",
        "# 前処理（データの標準化）\n",
        "scaler = StandardScaler()\n",
        "\n",
        "# 続きを考えよ。\n",
        "X ="
      ],
      "metadata": {
        "id": "MjaSXtwnRmtM"
      },
      "execution_count": null,
      "outputs": []
    },
    {
      "cell_type": "markdown",
      "source": [
        "以下のコードでは、データが変数Xに格納されていることを前提としている（8行目）。もし変更が必要な場合は、適切に書き換えて実行する。"
      ],
      "metadata": {
        "id": "DzKpQqkVUyrH"
      }
    },
    {
      "cell_type": "code",
      "source": [
        "# クラスタリングに必要なライブラリーのインポート\n",
        "from sklearn.cluster import KMeans\n",
        "\n",
        "# Elbow Methodによるハイパーパラメータチューニング\n",
        "inertia = []\n",
        "for i in range(1, 11):\n",
        "    kmeans = KMeans(n_clusters=i, init='k-means++', max_iter=500, n_init='auto')\n",
        "    kmeans.fit(X)\n",
        "    inertia.append(kmeans.inertia_)"
      ],
      "metadata": {
        "id": "QgdELubuRmtM"
      },
      "execution_count": null,
      "outputs": []
    },
    {
      "cell_type": "code",
      "source": [
        "# エルボー図のプロット\n",
        "elbow = pd.DataFrame( inertia, columns = ['Inertia'])\n",
        "elbow['Num of clusters'] = range(1,11)\n",
        "sns.lineplot(data = elbow, x='Num of clusters', y= 'Inertia')"
      ],
      "metadata": {
        "id": "nCBVyMWgS0Hm"
      },
      "execution_count": null,
      "outputs": []
    },
    {
      "cell_type": "markdown",
      "source": [
        "エルボー図から最適なクラスター数を決定し、以下にセットする"
      ],
      "metadata": {
        "id": "adcqWGMtVhYH"
      }
    },
    {
      "cell_type": "code",
      "source": [
        "# エルボー図から最適なクラスター数を決定し、以下にセットする\n",
        "best_n_clusters ="
      ],
      "metadata": {
        "id": "shwwVkokPznw"
      },
      "execution_count": null,
      "outputs": []
    },
    {
      "cell_type": "markdown",
      "source": [
        "最適なクラスタ数で、クラスタリングを実行する。"
      ],
      "metadata": {
        "id": "gBTRxUOm0mUH"
      }
    },
    {
      "cell_type": "code",
      "source": [
        "kmeans = KMeans(n_clusters=best_n_clusters, init='k-means++', max_iter=500, n_init='auto')\n",
        "kmeans.fit(X)\n",
        "\n",
        "# クラスタラベルをデータフレームに追加\n",
        "df['cluster'] = kmeans.labels_"
      ],
      "metadata": {
        "id": "rfawcSRoRmtM"
      },
      "execution_count": null,
      "outputs": []
    },
    {
      "cell_type": "markdown",
      "source": [
        "groupby を使ってクラスタで分類して、各項目の平均を計算する。"
      ],
      "metadata": {
        "id": "RoHSzm1KV3Sc"
      }
    },
    {
      "cell_type": "code",
      "source": [
        "# 各クラスタの特徴を調査（平均値）\n",
        "# 以下のコードを完成させ実行する\n",
        "df.groupby(XXXX"
      ],
      "metadata": {
        "id": "iugHOuXUQODc"
      },
      "execution_count": null,
      "outputs": []
    },
    {
      "cell_type": "code",
      "source": [
        "# 結果の可視化（seabornを使用）\n",
        "sns.scatterplot(x='alcohol', y='total_phenols', hue='cluster', data=df, palette='Set1')\n",
        "plt.title('Clustering Results with Wine Data')\n",
        "plt.show()"
      ],
      "metadata": {
        "id": "CKJqagt5RmtM"
      },
      "execution_count": null,
      "outputs": []
    }
  ]
}