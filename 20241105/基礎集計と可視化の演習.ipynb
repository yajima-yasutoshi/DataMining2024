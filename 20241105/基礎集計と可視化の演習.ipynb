{
  "nbformat": 4,
  "nbformat_minor": 0,
  "metadata": {
    "colab": {
      "provenance": [],
      "mount_file_id": "1fcSAelGR2a6CdM0ni22NJ1JzzLixAuyP",
      "authorship_tag": "ABX9TyNeC3rLixw5xEZjqHloMCZK",
      "include_colab_link": true
    },
    "kernelspec": {
      "name": "python3",
      "display_name": "Python 3"
    },
    "language_info": {
      "name": "python"
    }
  },
  "cells": [
    {
      "cell_type": "markdown",
      "metadata": {
        "id": "view-in-github",
        "colab_type": "text"
      },
      "source": [
        "<a href=\"https://colab.research.google.com/github/yajima-yasutoshi/DataMining2024/blob/main/20241105/%E5%9F%BA%E7%A4%8E%E9%9B%86%E8%A8%88%E3%81%A8%E5%8F%AF%E8%A6%96%E5%8C%96%E3%81%AE%E6%BC%94%E7%BF%92.ipynb\" target=\"_parent\"><img src=\"https://colab.research.google.com/assets/colab-badge.svg\" alt=\"Open In Colab\"/></a>"
      ]
    },
    {
      "cell_type": "markdown",
      "source": [
        "#基礎集計と可視化の演習"
      ],
      "metadata": {
        "id": "7XMUDeNhoVnQ"
      }
    },
    {
      "cell_type": "markdown",
      "source": [
        "## データマイニング第6回（20241105）"
      ],
      "metadata": {
        "id": "g8YJ3oojiqNa"
      }
    },
    {
      "cell_type": "markdown",
      "source": [
        "#本日の講義の目的\n",
        "\n",
        "\n",
        "\n"
      ],
      "metadata": {
        "id": "wUezl4MyB_v3"
      }
    },
    {
      "cell_type": "markdown",
      "source": [
        "前回までの講義内容を復習し、基礎集計と可視化を実施してみる"
      ],
      "metadata": {
        "id": "CzgPc24ruNdh"
      }
    },
    {
      "cell_type": "markdown",
      "source": [
        "## 準備"
      ],
      "metadata": {
        "id": "Gvss-4F9uiSZ"
      }
    },
    {
      "cell_type": "code",
      "source": [
        "!pip install japanize-matplotlib"
      ],
      "metadata": {
        "id": "ByjO1vH2a4uQ"
      },
      "execution_count": null,
      "outputs": []
    },
    {
      "cell_type": "code",
      "source": [
        "# 必要なライブラリのインポート\n",
        "import numpy as np\n",
        "import pandas as pd\n",
        "import matplotlib.pyplot as plt\n",
        "import japanize_matplotlib\n",
        "import seaborn as sns"
      ],
      "metadata": {
        "id": "Ldr9xOqiQjUp"
      },
      "execution_count": null,
      "outputs": []
    },
    {
      "cell_type": "markdown",
      "source": [
        "\n",
        "\n",
        "---\n",
        "\n",
        "\n",
        "\n",
        "---\n",
        "\n"
      ],
      "metadata": {
        "id": "W4E8b_Cn2Fal"
      }
    },
    {
      "cell_type": "markdown",
      "source": [
        "# Booksデータベース"
      ],
      "metadata": {
        "id": "MB_pOKHC17m6"
      }
    },
    {
      "cell_type": "markdown",
      "source": [
        "## データの読み込み\n",
        "* データをダウンロード\n",
        "\n",
        "    以下のアドレスより、book.csv をPCにダウンロードする。\n",
        "    \n",
        "    https://github.com/yajima-yasutoshi/DataMining2024/tree/main/20241105\n",
        "\n",
        "* Google Drive のマウントの確認\n",
        "\n",
        "* データ（ books.csv ）を Google Drive の適当なフォルダーにアップロード"
      ],
      "metadata": {
        "id": "xbZ3Hc6BZ75I"
      }
    },
    {
      "cell_type": "markdown",
      "source": [
        "Booksデータベースには、世界各国で\n",
        "\n",
        "データの説明\n",
        "\n",
        "項目                  | 説明\n",
        "--                      | --\n",
        " bookID             |  本のID番号\n",
        " title              |  本のタイトル\n",
        " authors            |  本の著者\n",
        " average_rating     |  平均評価\n",
        " isbn               |  ISBN番号\n",
        " isbn13             |  ISBN番号\n",
        " language_code      |  言語\n",
        " num_pages          |  ページ数\n",
        " ratings_count      |  評価の数\n",
        " text_reviews_count |  レビュー文章が記載された数\n",
        " publication_date   |  出版日  \n",
        " publisher          |  出版社"
      ],
      "metadata": {
        "id": "3uKF4TAV6tUN"
      }
    },
    {
      "cell_type": "code",
      "source": [
        "# データフレームへの読み込み\n",
        "file_name = '/content/drive/MyDrive/周南公立大学/講義/データマイニング/データ/books.csv'\n",
        "# 一部に読み込めないレコードがあるので、on_bad_lines='skip'を指定している\n",
        "df = pd.read_csv(file_name, on_bad_lines='skip')\n",
        "df.rename(columns={'  num_pages': 'num_pages'}, inplace=True)"
      ],
      "metadata": {
        "id": "i5knmVs1aRg5"
      },
      "execution_count": null,
      "outputs": []
    },
    {
      "cell_type": "markdown",
      "source": [
        "### 型の見分け方\n",
        "\n",
        "```\n",
        "df.info()\n",
        "```\n",
        "\n",
        "を実行することで項目の型を確認できる。\n",
        "Dtype と型の関係性は以下のとおりである。\n",
        "\n",
        "\n",
        "型 | Dtype\n",
        "-- | --\n",
        "数値型 | int??, float??,\n",
        "カテゴリ型 | object\n"
      ],
      "metadata": {
        "id": "vx1gun7Br2wk"
      }
    },
    {
      "cell_type": "code",
      "source": [
        "df.info()"
      ],
      "metadata": {
        "id": "6AxoE9JnHJ3i"
      },
      "execution_count": null,
      "outputs": []
    },
    {
      "cell_type": "markdown",
      "source": [
        "## 各項目の調査\n",
        "\n",
        "*   数値型：最大、最小、平均、中央値など\n",
        "*   カテゴリ型：カテゴリ数、最頻値など\n",
        "\n"
      ],
      "metadata": {
        "id": "Kpxzbn9e_mpV"
      }
    },
    {
      "cell_type": "markdown",
      "source": [
        "## データの理解"
      ],
      "metadata": {
        "id": "oGkPa-adAEgW"
      }
    },
    {
      "cell_type": "markdown",
      "source": [
        "データに登録されている本の平均評価（average_rating）の中央値は何点か。\n",
        "\n",
        "データに登録されている本のページ数（num_pages）の平均値は何ページか。"
      ],
      "metadata": {
        "id": "FxDZ5L8_1c7J"
      }
    },
    {
      "cell_type": "markdown",
      "source": [
        "最も多く本が登録されている著者は誰か。"
      ],
      "metadata": {
        "id": "s8JeyHxy15nc"
      }
    },
    {
      "cell_type": "markdown",
      "source": [
        "ページ数（num_pages）の分布の特徴をヒストグラムを作り確認する。\n"
      ],
      "metadata": {
        "id": "ao3LKvkI6Jqu"
      }
    },
    {
      "cell_type": "markdown",
      "source": [
        "ページ数（num_pages）の最も多い本は何か。"
      ],
      "metadata": {
        "id": "8eG3Hl5H1wB5"
      }
    },
    {
      "cell_type": "markdown",
      "source": [
        "average_ratings の分布の特徴をヒストグラムを作り確認する。\n"
      ],
      "metadata": {
        "id": "yjN_pfIT6tk3"
      }
    },
    {
      "cell_type": "markdown",
      "source": [
        "著者別にページ数（num_pages）の平均を調べ、ページ数（num_pages）の平均が最も多い著者は誰か調べる。\n"
      ],
      "metadata": {
        "id": "SPCKHsKt2A1s"
      }
    },
    {
      "cell_type": "markdown",
      "source": [
        "language_code が spa の本は何冊あるか。"
      ],
      "metadata": {
        "id": "8G95_kAi2GrN"
      }
    },
    {
      "cell_type": "markdown",
      "source": [
        "出版社 （publisher）の中で、ページ数（num_pages）の平均が最も多い出版社はどれか。"
      ],
      "metadata": {
        "id": "wvcH0aJVDIBx"
      }
    },
    {
      "cell_type": "markdown",
      "source": [
        "出版社（publisher） 毎に ratings_count の合計を計算する。このとき、合計が最も多い publisher はどれか。"
      ],
      "metadata": {
        "id": "ScwZccEL2WZn"
      }
    },
    {
      "cell_type": "markdown",
      "source": [
        "ratings_count の合計の多い出版社 Top5を棒グラフで可視化してみる。"
      ],
      "metadata": {
        "id": "WgmJwZ1JFATU"
      }
    },
    {
      "cell_type": "markdown",
      "source": [
        "language_code が jpn の本に限定した場合、ページ数（num_pages）の平均が最も多い出版社（publisher）はどれか。"
      ],
      "metadata": {
        "id": "XYj2aTBW2NQb"
      }
    },
    {
      "cell_type": "markdown",
      "source": [
        "t検定を使い、language_code が fre と ger でページ数の平均値に差が\n",
        "統計的に優位な差があるか確認する。"
      ],
      "metadata": {
        "id": "avSdISgyaiOY"
      }
    }
  ]
}