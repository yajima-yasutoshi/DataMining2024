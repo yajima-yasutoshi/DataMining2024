{
  "nbformat": 4,
  "nbformat_minor": 0,
  "metadata": {
    "colab": {
      "provenance": [],
      "collapsed_sections": [
        "Gvss-4F9uiSZ"
      ],
      "toc_visible": true,
      "mount_file_id": "102ydjr56g98tV9MAPLnAXVV-7vwXsctK",
      "authorship_tag": "ABX9TyP+qGVV1ARy5YQ33XdwjDQs",
      "include_colab_link": true
    },
    "kernelspec": {
      "name": "python3",
      "display_name": "Python 3"
    },
    "language_info": {
      "name": "python"
    }
  },
  "cells": [
    {
      "cell_type": "markdown",
      "metadata": {
        "id": "view-in-github",
        "colab_type": "text"
      },
      "source": [
        "<a href=\"https://colab.research.google.com/github/yajima-yasutoshi/DataMining2024/blob/main/20241105/%E5%9F%BA%E7%A4%8E%E9%9B%86%E8%A8%88%E3%81%A8%E5%8F%AF%E8%A6%96%E5%8C%96%E3%81%AE%E6%BC%94%E7%BF%92%E3%81%AE%E8%A7%A3%E7%AD%94.ipynb\" target=\"_parent\"><img src=\"https://colab.research.google.com/assets/colab-badge.svg\" alt=\"Open In Colab\"/></a>"
      ]
    },
    {
      "cell_type": "markdown",
      "source": [
        "#演習の解答"
      ],
      "metadata": {
        "id": "Vq6CqTss23mL"
      }
    },
    {
      "cell_type": "markdown",
      "source": [
        "## 20241105"
      ],
      "metadata": {
        "id": "g8YJ3oojiqNa"
      }
    },
    {
      "cell_type": "markdown",
      "source": [
        "# 準備"
      ],
      "metadata": {
        "id": "Gvss-4F9uiSZ"
      }
    },
    {
      "cell_type": "code",
      "source": [
        "!pip install japanize-matplotlib"
      ],
      "metadata": {
        "id": "ByjO1vH2a4uQ"
      },
      "execution_count": null,
      "outputs": []
    },
    {
      "cell_type": "code",
      "source": [
        "# 必要なライブラリのインポート\n",
        "import numpy as np\n",
        "import pandas as pd\n",
        "import matplotlib.pyplot as plt\n",
        "import japanize_matplotlib\n",
        "import seaborn as sns"
      ],
      "metadata": {
        "id": "Ldr9xOqiQjUp"
      },
      "execution_count": null,
      "outputs": []
    },
    {
      "cell_type": "markdown",
      "source": [
        "\n",
        "\n",
        "---\n",
        "\n",
        "\n",
        "\n",
        "---\n",
        "\n"
      ],
      "metadata": {
        "id": "W4E8b_Cn2Fal"
      }
    },
    {
      "cell_type": "markdown",
      "source": [
        "# Booksデータベース"
      ],
      "metadata": {
        "id": "MB_pOKHC17m6"
      }
    },
    {
      "cell_type": "markdown",
      "source": [
        "## データの読み込み\n",
        "* データをダウンロード\n",
        "\n",
        "    以下のアドレスより、book.csv をPCにダウンロードする。\n",
        "\n",
        "    https://github.com/yajima-yasutoshi/DataMining/tree/main/20241105\n",
        "\n",
        "* Google Drive のマウントの確認\n",
        "\n",
        "* データ（ books.csv ）を Google Drive の適当なフォルダーにアップロード"
      ],
      "metadata": {
        "id": "xbZ3Hc6BZ75I"
      }
    },
    {
      "cell_type": "markdown",
      "source": [
        "Booksデータベースには、世界各国で\n",
        "\n",
        "データの説明\n",
        "\n",
        "項目                  | 説明\n",
        "--                      | --\n",
        " bookID             |  本のID番号\n",
        " title              |  本のタイトル\n",
        " authors            |  本の著者\n",
        " average_rating     |  平均評価\n",
        " isbn               |  ISBN番号\n",
        " isbn13             |  ISBN番号\n",
        " language_code      |  言語\n",
        " num_pages          |  ページ数\n",
        " ratings_count      |  評価の数\n",
        " text_reviews_count |  レビュー文章が記載された数\n",
        " publication_date   |  出版日  \n",
        " publisher          |  出版社"
      ],
      "metadata": {
        "id": "3uKF4TAV6tUN"
      }
    },
    {
      "cell_type": "code",
      "source": [
        "# データフレームへの読み込み\n",
        "file_name = '/content/drive/MyDrive/周南公立大学/講義/データマイニング/データ/books.csv'\n",
        "# 一部に読み込めないレコードがあるので、on_bad_lines='skip'を指定している\n",
        "df = pd.read_csv(file_name, on_bad_lines='skip')\n",
        "df.rename(columns={'  num_pages': 'num_pages'}, inplace=True)"
      ],
      "metadata": {
        "id": "i5knmVs1aRg5"
      },
      "execution_count": null,
      "outputs": []
    },
    {
      "cell_type": "markdown",
      "source": [
        "## データの確認"
      ],
      "metadata": {
        "id": "-DFl-ZaqfKUW"
      }
    },
    {
      "cell_type": "markdown",
      "source": [
        "データの先頭を表示して、データの中身を確認する。"
      ],
      "metadata": {
        "id": "LR0GuGVmFXy5"
      }
    },
    {
      "cell_type": "code",
      "source": [
        "df.head()"
      ],
      "metadata": {
        "id": "X3gt0Am11iN4"
      },
      "execution_count": null,
      "outputs": []
    },
    {
      "cell_type": "markdown",
      "source": [
        "レコードの数と列の個数を調べる。"
      ],
      "metadata": {
        "id": "3f-QwFFh-8lh"
      }
    },
    {
      "cell_type": "code",
      "source": [
        "df.shape"
      ],
      "metadata": {
        "id": "E4lgd29Fu1j2"
      },
      "execution_count": null,
      "outputs": []
    },
    {
      "cell_type": "markdown",
      "source": [
        "列の型を調と欠損値の有無を確認する"
      ],
      "metadata": {
        "id": "yBqPZBlS_JRi"
      }
    },
    {
      "cell_type": "code",
      "source": [
        "df.info()"
      ],
      "metadata": {
        "id": "sjLdln8OQlDQ"
      },
      "execution_count": null,
      "outputs": []
    },
    {
      "cell_type": "markdown",
      "source": [
        "上の結果から、それぞれの項目変数の型、また欠損値が無いことが分かる。\n",
        "\n",
        "### 型の見分け方\n",
        "\n",
        "Dtype を見ることで変数の型が分かる。\n",
        "\n",
        "型 | Dtype\n",
        "-- | --\n",
        "数値型 | int??, float??,\n",
        "カテゴリ型 | object\n"
      ],
      "metadata": {
        "id": "vx1gun7Br2wk"
      }
    },
    {
      "cell_type": "markdown",
      "source": [
        "## 各項目の調査\n",
        "\n",
        "\n",
        "\n",
        "*   数値型：最大、最小、平均、中央値など\n",
        "*   カテゴリ型：カテゴリ数、最頻値など\n",
        "\n"
      ],
      "metadata": {
        "id": "Kpxzbn9e_mpV"
      }
    },
    {
      "cell_type": "markdown",
      "source": [
        "データに登録されている本の平均評価（average_rating）の中央値は何点か。\n",
        "\n",
        "データに登録されている本のページ数（num_pages）の平均値は何ページか。\n"
      ],
      "metadata": {
        "id": "FxDZ5L8_1c7J"
      }
    },
    {
      "cell_type": "markdown",
      "source": [
        "###記述統計量"
      ],
      "metadata": {
        "id": "csyT4QWRyWi2"
      }
    },
    {
      "cell_type": "code",
      "source": [
        "#数値型の確認\n",
        "df.describe()"
      ],
      "metadata": {
        "id": "AhijRFlAhrdZ"
      },
      "execution_count": null,
      "outputs": []
    },
    {
      "cell_type": "code",
      "source": [
        "#カテゴリ型の確認\n",
        "df.describe(include='object')"
      ],
      "metadata": {
        "id": "_aU_3uEWrdgL"
      },
      "execution_count": null,
      "outputs": []
    },
    {
      "cell_type": "code",
      "source": [
        "df['language_code'].value_counts()"
      ],
      "metadata": {
        "id": "32vCEl5y2MDS"
      },
      "execution_count": null,
      "outputs": []
    },
    {
      "cell_type": "markdown",
      "source": [
        "## データの理解"
      ],
      "metadata": {
        "id": "oGkPa-adAEgW"
      }
    },
    {
      "cell_type": "markdown",
      "source": [
        "最も多く本が登録されている著者は誰か"
      ],
      "metadata": {
        "id": "s8JeyHxy15nc"
      }
    },
    {
      "cell_type": "code",
      "source": [
        "df['authors'].mode()"
      ],
      "metadata": {
        "id": "g2bX6uimvxmJ"
      },
      "execution_count": null,
      "outputs": []
    },
    {
      "cell_type": "code",
      "source": [
        "df['authors'].value_counts().sort_values(ascending=False).head(4)"
      ],
      "metadata": {
        "id": "-QV0rYNWsoHq"
      },
      "execution_count": null,
      "outputs": []
    },
    {
      "cell_type": "markdown",
      "source": [
        "### 最もページ数（num_pages）の多い本は何か。"
      ],
      "metadata": {
        "id": "7jud0CQKzmqZ"
      }
    },
    {
      "cell_type": "code",
      "source": [
        "df.sort_values(by = 'num_pages', ascending=False).head(3)"
      ],
      "metadata": {
        "id": "Z3A-Ad2YzmqZ"
      },
      "execution_count": null,
      "outputs": []
    },
    {
      "cell_type": "markdown",
      "source": [
        "num_pages(ページ数)の分布"
      ],
      "metadata": {
        "id": "ao3LKvkI6Jqu"
      }
    },
    {
      "cell_type": "code",
      "source": [
        "sns.histplot(df['num_pages'], bins=50)"
      ],
      "metadata": {
        "id": "NA4oEXeI6NxD"
      },
      "execution_count": null,
      "outputs": []
    },
    {
      "cell_type": "code",
      "source": [
        "sns.boxplot(df['num_pages'])"
      ],
      "metadata": {
        "id": "CsbIdkYw0BNd"
      },
      "execution_count": null,
      "outputs": []
    },
    {
      "cell_type": "markdown",
      "source": [
        "### average_ratings の分布\n"
      ],
      "metadata": {
        "id": "yjN_pfIT6tk3"
      }
    },
    {
      "cell_type": "code",
      "source": [
        "sns.histplot(df['average_rating']) #, binwidth=0.1)"
      ],
      "metadata": {
        "id": "swguPVkn6wTG"
      },
      "execution_count": null,
      "outputs": []
    },
    {
      "cell_type": "code",
      "source": [
        "sns.boxplot(df['ratings_count']) #, binwidth=0.1)"
      ],
      "metadata": {
        "id": "CNMP_kR96c0A"
      },
      "execution_count": null,
      "outputs": []
    },
    {
      "cell_type": "markdown",
      "source": [
        "著者の中で、ページ数（num_pages）の平均が最も多い著者は誰か？"
      ],
      "metadata": {
        "id": "SPCKHsKt2A1s"
      }
    },
    {
      "cell_type": "code",
      "source": [
        "df.groupby('authors')['num_pages'].mean().sort_values(ascending=False)"
      ],
      "metadata": {
        "id": "1l7GxI3xnQDm"
      },
      "execution_count": null,
      "outputs": []
    },
    {
      "cell_type": "markdown",
      "source": [
        "booksデータベースで、language_code が spa の本は何冊あるか。"
      ],
      "metadata": {
        "id": "8G95_kAi2GrN"
      }
    },
    {
      "cell_type": "code",
      "source": [
        "df[ df['language_code'] == 'spa' ].shape"
      ],
      "metadata": {
        "id": "eWrgSuZF0czM"
      },
      "execution_count": null,
      "outputs": []
    },
    {
      "cell_type": "markdown",
      "source": [
        "出版社 （publisher）の中で、ページ数の平均が最も多い出版社はどれか。"
      ],
      "metadata": {
        "id": "wvcH0aJVDIBx"
      }
    },
    {
      "cell_type": "code",
      "source": [
        "df.groupby('publisher')['num_pages'].mean().sort_values(ascending=False)\n",
        "# Group the data by publisher and compute the average number of pages for each publisher\n",
        "# average_pages_per_publisher = df.groupby('publisher')['num_pages'].mean().reset_index()\n",
        "# average_pages_per_publisher"
      ],
      "metadata": {
        "id": "WxpDVLGRMeSg"
      },
      "execution_count": null,
      "outputs": []
    },
    {
      "cell_type": "markdown",
      "source": [
        "出版社（publisher） 毎に ratings_count の合計を計算する。このとき、合計が最も多い publisher はどれか。"
      ],
      "metadata": {
        "id": "ScwZccEL2WZn"
      }
    },
    {
      "cell_type": "code",
      "source": [
        "df.groupby('publisher')['ratings_count'].sum().sort_values(ascending=False)"
      ],
      "metadata": {
        "id": "TkmiUgoW-0nZ"
      },
      "execution_count": null,
      "outputs": []
    },
    {
      "cell_type": "markdown",
      "source": [
        "ratings_count の合計の多い出版社 Top5を可視化してみる。"
      ],
      "metadata": {
        "id": "WgmJwZ1JFATU"
      }
    },
    {
      "cell_type": "code",
      "source": [
        "ratings_count_per_publisher_top5 = df.groupby('publisher')['ratings_count'].sum().sort_values(ascending=False).head(5).reset_index()"
      ],
      "metadata": {
        "id": "ruaB4PyL3Sjx"
      },
      "execution_count": null,
      "outputs": []
    },
    {
      "cell_type": "code",
      "source": [
        "ratings_count_per_publisher_top5"
      ],
      "metadata": {
        "id": "AkWV8PA24O1L"
      },
      "execution_count": null,
      "outputs": []
    },
    {
      "cell_type": "code",
      "source": [
        "sns.barplot(x='ratings_count', y='publisher', data=ratings_count_per_publisher_top5)\n",
        "plt.title('レーティング数の合計')\n",
        "plt.xlabel('回数')\n",
        "plt.ylabel('出版社')"
      ],
      "metadata": {
        "id": "UOwLgg1HPLHG"
      },
      "execution_count": null,
      "outputs": []
    },
    {
      "cell_type": "markdown",
      "source": [
        "language_code が jpn の本に限定した場合、\n",
        "num_pages が最も多い本の出版社（publisher）はどれか。"
      ],
      "metadata": {
        "id": "DAbSQZ0rO3ik"
      }
    },
    {
      "cell_type": "code",
      "source": [
        "# language_code が jpn の本に限定\n",
        "df_jpn = df[df['language_code'] == 'jpn']\n",
        "\n",
        "# avarage_ratingが最も多い本を抽出\n",
        "df_jpn.sort_values(by='num_pages', ascending=False).head(2)\n"
      ],
      "metadata": {
        "id": "x5lo96iFNgV0"
      },
      "execution_count": null,
      "outputs": []
    },
    {
      "cell_type": "markdown",
      "source": [
        "language_code が jpn の本に限定した場合、ページ数の平均が最も多い出版社（publisher）はどれか。"
      ],
      "metadata": {
        "id": "XYj2aTBW2NQb"
      }
    },
    {
      "cell_type": "code",
      "source": [
        "df[ df['language_code'] == 'jpn' ].groupby('publisher')['num_pages'].mean().sort_values(ascending=False)\n",
        "#df[ df['language_code'] == 'jpn' ].groupby('publisher')['num_pages'].agg(['count', 'mean'])"
      ],
      "metadata": {
        "id": "KU4h42sBE0OK"
      },
      "execution_count": null,
      "outputs": []
    },
    {
      "cell_type": "markdown",
      "source": [
        "language_code が ger と fre に限定したデータフレームを作成する。\n",
        "変数名は data とする。"
      ],
      "metadata": {
        "id": "BD2punycH9EZ"
      }
    },
    {
      "cell_type": "code",
      "source": [
        "data = df[ (df['language_code'] == 'ger') | (df['language_code'] == 'fre') ]\n",
        "# Boxプロット\n",
        "sns.boxplot(data, y='num_pages', x ='language_code')"
      ],
      "metadata": {
        "id": "845WQ34uHWRx"
      },
      "execution_count": null,
      "outputs": []
    },
    {
      "cell_type": "code",
      "source": [
        "data.groupby('language_code')['num_pages'].mean()"
      ],
      "metadata": {
        "id": "s-6C1NII5QIi"
      },
      "execution_count": null,
      "outputs": []
    },
    {
      "cell_type": "code",
      "source": [
        "392-339"
      ],
      "metadata": {
        "id": "mhSvPUfz7BhO"
      },
      "execution_count": null,
      "outputs": []
    },
    {
      "cell_type": "markdown",
      "source": [
        "t検定を使い、fre と ger でページ数の平均値に差が\n",
        "統計的に優位な差があるか確認する。"
      ],
      "metadata": {
        "id": "avSdISgyaiOY"
      }
    },
    {
      "cell_type": "code",
      "source": [
        "# パッケージのインポート\n",
        "from scipy import stats\n",
        "\n",
        "# ページ数の平均を比較\n",
        "data_fre = data[data['language_code'] == 'fre']['num_pages']\n",
        "data_ger = data[data['language_code'] == 'ger']['num_pages']\n",
        "\n",
        "# t検定を実行\n",
        "t_stat, p_value = stats.ttest_ind(data_fre, data_ger)\n",
        "\n",
        "print(f\"t-statistic: {t_stat:.2f}\")\n",
        "print(f\"p-value: {p_value:.5f}\")\n"
      ],
      "metadata": {
        "id": "wsAZrfS_5P3p"
      },
      "execution_count": null,
      "outputs": []
    },
    {
      "cell_type": "code",
      "source": [
        "# ページ数の分布の分散が等しいか検定する\n",
        "\n",
        "# 等分散性の検定\n",
        "levene_stat, levene_p_value = stats.levene(data_fre, data_ger)\n",
        "print(f\"Levene's test statistic: {levene_stat:.2f}\")\n",
        "print(f\"p-value: {levene_p_value:.5f}\")"
      ],
      "metadata": {
        "id": "h4pUDNh_Aw_D"
      },
      "execution_count": null,
      "outputs": []
    },
    {
      "cell_type": "markdown",
      "source": [
        "この結果より、\n",
        "p値が大きく\n",
        "帰無仮説（分散が等しい）を積極的に否定するデータが得られていない、\n",
        "と結論することになる。\n"
      ],
      "metadata": {
        "id": "fFbqXrfJ98vu"
      }
    },
    {
      "cell_type": "markdown",
      "source": [
        "\n",
        "---\n",
        "---"
      ],
      "metadata": {
        "id": "bBA7RoQKt-ei"
      }
    }
  ]
}